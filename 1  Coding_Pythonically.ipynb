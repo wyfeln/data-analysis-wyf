{
 "cells": [
  {
   "cell_type": "markdown",
   "metadata": {},
   "source": [
    "# Pythonic--Python 范儿编程"
   ]
  },
  {
   "cell_type": "code",
   "execution_count": 1,
   "metadata": {},
   "outputs": [
    {
     "name": "stdout",
     "output_type": "stream",
     "text": [
      "The Zen of Python, by Tim Peters\n",
      "\n",
      "Beautiful is better than ugly.\n",
      "Explicit is better than implicit.\n",
      "Simple is better than complex.\n",
      "Complex is better than complicated.\n",
      "Flat is better than nested.\n",
      "Sparse is better than dense.\n",
      "Readability counts.\n",
      "Special cases aren't special enough to break the rules.\n",
      "Although practicality beats purity.\n",
      "Errors should never pass silently.\n",
      "Unless explicitly silenced.\n",
      "In the face of ambiguity, refuse the temptation to guess.\n",
      "There should be one-- and preferably only one --obvious way to do it.\n",
      "Although that way may not be obvious at first unless you're Dutch.\n",
      "Now is better than never.\n",
      "Although never is often better than *right* now.\n",
      "If the implementation is hard to explain, it's a bad idea.\n",
      "If the implementation is easy to explain, it may be a good idea.\n",
      "Namespaces are one honking great idea -- let's do more of those!\n"
     ]
    }
   ],
   "source": [
    "import this"
   ]
  },
  {
   "cell_type": "markdown",
   "metadata": {},
   "source": [
    "优美胜于丑陋，明了胜于晦涩，简洁胜于复杂，复杂胜于凌乱，间隔胜于紧凑，可读性很重要，即便假借特例的实用性之名，也不可违背这些规则，不要包容所有错误，除非你确定需要这样做，当存在多种可能，不要尝试去猜测 ，而是尽量找一种，最好是唯一一种明显的解决方案，虽然这并不容易，因为你不是 Python 之父。做也许好过不做，但不假思索就动手还不如不做，如果你无法向人描述你的方案，那肯定不是一个好方案；反之亦然，命名空间是一种绝妙的理念，我们应当多加利用 "
   ]
  },
  {
   "cell_type": "code",
   "execution_count": 2,
   "metadata": {},
   "outputs": [
    {
     "name": "stdout",
     "output_type": "stream",
     "text": [
      "0\n",
      "1\n",
      "2\n",
      "3\n",
      "4\n"
     ]
    }
   ],
   "source": [
    "#输出0~5\n",
    "counter = 0\n",
    "while counter < 5:\n",
    "    print(counter)\n",
    "    counter += 1\n"
   ]
  },
  {
   "cell_type": "code",
   "execution_count": 3,
   "metadata": {},
   "outputs": [
    {
     "name": "stdout",
     "output_type": "stream",
     "text": [
      "0\n",
      "1\n",
      "2\n",
      "3\n",
      "4\n"
     ]
    }
   ],
   "source": [
    "for i in range(5):    print(i)"
   ]
  },
  {
   "cell_type": "markdown",
   "metadata": {},
   "source": [
    "此代码比上面的示例更复杂。 但是：只需了解一下“range”的文档，您就可以一目了然。 易于使用的界面后面隐藏了许多步骤。"
   ]
  },
  {
   "cell_type": "markdown",
   "metadata": {},
   "source": [
    "#### 练习1：创建一个函数，计算特定字母在单词搜索中出现的次数。"
   ]
  },
  {
   "cell_type": "code",
   "execution_count": 4,
   "metadata": {
    "scrolled": true
   },
   "outputs": [
    {
     "name": "stdout",
     "output_type": "stream",
     "text": [
      "2\n",
      "2\n"
     ]
    }
   ],
   "source": [
    "def letter_counter(lst, letter):\n",
    "    #your code\n",
    "    return str(lst).count(letter)  #怎么知道要用什么python代码？  edabit.com   codewars.com\n",
    "       \n",
    "\n",
    "print(letter_counter('Hello','l'))\n",
    "print(letter_counter([1,3,2,3],'3'))"
   ]
  },
  {
   "cell_type": "markdown",
   "metadata": {},
   "source": [
    "# Don't learn,just use it!"
   ]
  },
  {
   "cell_type": "markdown",
   "metadata": {},
   "source": [
    "<img src='images/python.jpg' width=600 height=400/>"
   ]
  },
  {
   "cell_type": "markdown",
   "metadata": {
    "collapsed": true,
    "jupyter": {
     "outputs_hidden": true
    }
   },
   "source": [
    "## Python范儿：Coding Pythonically\n",
    "#### 写出<font color='red'>很Python</font> 的Python代码"
   ]
  },
  {
   "cell_type": "markdown",
   "metadata": {},
   "source": [
    "## 1 解析式(Comprehensions，或称推导式)"
   ]
  },
  {
   "cell_type": "markdown",
   "metadata": {},
   "source": [
    "### 1.1 让代码飞\n",
    "\n",
    "找到0-9之间的偶数"
   ]
  },
  {
   "cell_type": "code",
   "execution_count": 2,
   "metadata": {},
   "outputs": [
    {
     "name": "stdout",
     "output_type": "stream",
     "text": [
      "[0, 2, 4, 6, 8]\n"
     ]
    }
   ],
   "source": [
    "#number = range(10)\n",
    "size = 10\n",
    "even_numbers = []\n",
    "\n",
    "n = 0\n",
    "while n < size:\n",
    "    if n % 2==0:\n",
    "         even_numbers.append(n)\n",
    "    n += 1\n",
    "print(even_numbers)"
   ]
  },
  {
   "cell_type": "markdown",
   "metadata": {},
   "source": [
    "我们做的事情在数学定义上看来像是什么呢？\n",
    "\n",
    "$\\{x|x \\in \\{0,1,2,....,9\\}, s.t. x\\%2==0 \\}$"
   ]
  },
  {
   "cell_type": "code",
   "execution_count": 2,
   "metadata": {},
   "outputs": [
    {
     "name": "stdout",
     "output_type": "stream",
     "text": [
      "[0, 2, 4, 6, 8]\n"
     ]
    }
   ],
   "source": [
    "even_numbers=[ x for x in range(10) if x % 2==0 ]\n",
    "print(even_numbers)"
   ]
  },
  {
   "cell_type": "code",
   "execution_count": 8,
   "metadata": {},
   "outputs": [
    {
     "name": "stdout",
     "output_type": "stream",
     "text": [
      "[0, 2, 4, 6, 8]\n"
     ]
    }
   ],
   "source": [
    "print([ x for x in range(10) if x % 2==0 ])"
   ]
  },
  {
   "cell_type": "markdown",
   "metadata": {},
   "source": [
    "这种代码形式称为Comprehensions，也就是解析（推导式）。\n",
    "\n",
    "形式： {expr(item) for item in iterable if cond_expr(item)} 或者中括号、小括号包裹\n",
    "\n",
    "* 第一部分：元素，对元素的操作（运算与函数都可以）\n",
    "* 第二部分：遍历行为\n",
    "* 第三部分：筛选条件（可选）\n",
    "* 最后：用小括号，中括号，大括号包含住三部分，得到不同的数据结构或对象"
   ]
  },
  {
   "cell_type": "code",
   "execution_count": 9,
   "metadata": {},
   "outputs": [
    {
     "name": "stdout",
     "output_type": "stream",
     "text": [
      "[0, 1, 4, 9, 16, 25, 36, 49, 64, 81]\n"
     ]
    }
   ],
   "source": [
    "print([ x**2 for x in range(10)])"
   ]
  },
  {
   "cell_type": "code",
   "execution_count": 10,
   "metadata": {},
   "outputs": [
    {
     "data": {
      "text/plain": [
       "[1, 3, 5, 7, 9]"
      ]
     },
     "execution_count": 10,
     "metadata": {},
     "output_type": "execute_result"
    }
   ],
   "source": [
    "[ x for x in range(10) if x%2==1]"
   ]
  },
  {
   "cell_type": "markdown",
   "metadata": {
    "collapsed": true,
    "jupyter": {
     "outputs_hidden": true
    }
   },
   "source": [
    "### 1.2 使用中括号进行列表解析"
   ]
  },
  {
   "cell_type": "markdown",
   "metadata": {},
   "source": [
    "是否会使用**enumerate**函数？\n",
    "\n",
    "任务：把一个list里的元素和索引号找出来，更新回原来的list中去\n",
    "\n",
    "**循环操作可变类型**"
   ]
  },
  {
   "cell_type": "code",
   "execution_count": 11,
   "metadata": {},
   "outputs": [],
   "source": [
    "enumerate??   #枚举函数"
   ]
  },
  {
   "cell_type": "code",
   "execution_count": 3,
   "metadata": {},
   "outputs": [
    {
     "name": "stdout",
     "output_type": "stream",
     "text": [
      "<class 'enumerate'> <enumerate object at 0x000001BCDD48E7C0>\n"
     ]
    }
   ],
   "source": [
    "Lord_of_ring = ['杨根思','黄继光','邱少云','伍先华','孙占元','张桃芳','王海','罗盛教']\n",
    "\n",
    "print(type(enumerate(Lord_of_ring)),enumerate(Lord_of_ring))"
   ]
  },
  {
   "cell_type": "code",
   "execution_count": 4,
   "metadata": {},
   "outputs": [
    {
     "name": "stdout",
     "output_type": "stream",
     "text": [
      "['0:杨根思', '1:黄继光', '2:邱少云', '3:伍先华', '4:孙占元', '5:张桃芳', '6:王海', '7:罗盛教']\n"
     ]
    }
   ],
   "source": [
    "for idx,element in enumerate(Lord_of_ring):\n",
    "    Lord_of_ring[idx] =\"{0}:{1}\".format(idx,element)\n",
    "\n",
    "print(Lord_of_ring)"
   ]
  },
  {
   "cell_type": "markdown",
   "metadata": {},
   "source": [
    "**List Comprehension构造新列表**"
   ]
  },
  {
   "cell_type": "code",
   "execution_count": 14,
   "metadata": {},
   "outputs": [
    {
     "name": "stdout",
     "output_type": "stream",
     "text": [
      "['0:杨根思', '1:黄继光', '2:邱少云', '3:伍先华', '4:孙占元', '5:张桃芳', '6:王海', '7:罗盛教']\n",
      "['0:杨根思', '1:黄继光', '2:邱少云', '3:伍先华', '4:孙占元', '5:张桃芳', '6:王海', '7:罗盛教']\n"
     ]
    }
   ],
   "source": [
    "test =['杨根思','黄继光','邱少云','伍先华','孙占元','张桃芳','王海','罗盛教']\n",
    "\n",
    "def _trans(idx,element):\n",
    "    return '{0}:{1}'.format(idx,element)\n",
    "print([_trans(idx,element) for idx,element in enumerate(test)])\n",
    "\n",
    "print(['{0}:{1}'.format(idx,element) for idx,element in enumerate(test) ])"
   ]
  },
  {
   "cell_type": "markdown",
   "metadata": {},
   "source": [
    "**特别关注Iterable，isinstance()检查**"
   ]
  },
  {
   "cell_type": "code",
   "execution_count": 9,
   "metadata": {
    "scrolled": true
   },
   "outputs": [
    {
     "name": "stdout",
     "output_type": "stream",
     "text": [
      "True\n",
      "True\n"
     ]
    },
    {
     "name": "stderr",
     "output_type": "stream",
     "text": [
      "<ipython-input-9-4fea40195831>:3: DeprecationWarning: Using or importing the ABCs from 'collections' instead of from 'collections.abc' is deprecated since Python 3.3, and in 3.9 it will stop working\n",
      "  print(isinstance(\"Hello,world\",   collections.Iterable))\n"
     ]
    }
   ],
   "source": [
    "import collections\n",
    "\n",
    "print(isinstance(\"Hello,world\",   collections.Iterable))\n",
    "print(isinstance( test,           collections.Iterable))"
   ]
  },
  {
   "cell_type": "markdown",
   "metadata": {},
   "source": [
    "* #### 练习List Comprehension\n",
    "将字符串\"ABC\"和\"DEF\",解析成列表['A-D', 'A-E', 'A-F', 'B-D', 'B-E', 'B-F', 'C-D', 'C-E', 'C-F']\n",
    "\n",
    "[a+'-'+b for ]"
   ]
  },
  {
   "cell_type": "code",
   "execution_count": 15,
   "metadata": {},
   "outputs": [
    {
     "data": {
      "text/plain": [
       "['A-D', 'A-E', 'A-F', 'B-D', 'B-E', 'B-F', 'C-D', 'C-E', 'C-F']"
      ]
     },
     "execution_count": 15,
     "metadata": {},
     "output_type": "execute_result"
    }
   ],
   "source": [
    "[a+'-'+b for a in \"ABC\" for b in \"DEF\"]"
   ]
  },
  {
   "cell_type": "code",
   "execution_count": 16,
   "metadata": {},
   "outputs": [
    {
     "data": {
      "text/plain": [
       "{'A:D', 'A:E', 'A:F', 'B:D', 'B:E', 'B:F', 'C:D', 'C:E', 'C:F'}"
      ]
     },
     "execution_count": 16,
     "metadata": {},
     "output_type": "execute_result"
    }
   ],
   "source": [
    "{a+':'+b for a in \"ABC\" for b in \"DEF\"}"
   ]
  },
  {
   "cell_type": "code",
   "execution_count": 17,
   "metadata": {},
   "outputs": [
    {
     "data": {
      "text/plain": [
       "{'A': 'F', 'B': 'F', 'C': 'F'}"
      ]
     },
     "execution_count": 17,
     "metadata": {},
     "output_type": "execute_result"
    }
   ],
   "source": [
    "{a:b for a in \"ABC\" for b in \"DEF\"}"
   ]
  },
  {
   "cell_type": "markdown",
   "metadata": {},
   "source": [
    "#### 练习2：列出字符串对象的不含下划线的属性与方法。"
   ]
  },
  {
   "cell_type": "markdown",
   "metadata": {},
   "source": [
    "## Python中一切都是对象  object\n",
    "\n",
    "### 对象是由属性与方法构成   ----    # 对象=属性+方法+..."
   ]
  },
  {
   "cell_type": "code",
   "execution_count": 18,
   "metadata": {},
   "outputs": [
    {
     "data": {
      "text/plain": [
       "['__add__',\n",
       " '__class__',\n",
       " '__contains__',\n",
       " '__delattr__',\n",
       " '__dir__',\n",
       " '__doc__',\n",
       " '__eq__',\n",
       " '__format__',\n",
       " '__ge__',\n",
       " '__getattribute__',\n",
       " '__getitem__',\n",
       " '__getnewargs__',\n",
       " '__gt__',\n",
       " '__hash__',\n",
       " '__init__',\n",
       " '__init_subclass__',\n",
       " '__iter__',\n",
       " '__le__',\n",
       " '__len__',\n",
       " '__lt__',\n",
       " '__mod__',\n",
       " '__mul__',\n",
       " '__ne__',\n",
       " '__new__',\n",
       " '__reduce__',\n",
       " '__reduce_ex__',\n",
       " '__repr__',\n",
       " '__rmod__',\n",
       " '__rmul__',\n",
       " '__setattr__',\n",
       " '__sizeof__',\n",
       " '__str__',\n",
       " '__subclasshook__',\n",
       " 'capitalize',\n",
       " 'casefold',\n",
       " 'center',\n",
       " 'count',\n",
       " 'encode',\n",
       " 'endswith',\n",
       " 'expandtabs',\n",
       " 'find',\n",
       " 'format',\n",
       " 'format_map',\n",
       " 'index',\n",
       " 'isalnum',\n",
       " 'isalpha',\n",
       " 'isascii',\n",
       " 'isdecimal',\n",
       " 'isdigit',\n",
       " 'isidentifier',\n",
       " 'islower',\n",
       " 'isnumeric',\n",
       " 'isprintable',\n",
       " 'isspace',\n",
       " 'istitle',\n",
       " 'isupper',\n",
       " 'join',\n",
       " 'ljust',\n",
       " 'lower',\n",
       " 'lstrip',\n",
       " 'maketrans',\n",
       " 'partition',\n",
       " 'replace',\n",
       " 'rfind',\n",
       " 'rindex',\n",
       " 'rjust',\n",
       " 'rpartition',\n",
       " 'rsplit',\n",
       " 'rstrip',\n",
       " 'split',\n",
       " 'splitlines',\n",
       " 'startswith',\n",
       " 'strip',\n",
       " 'swapcase',\n",
       " 'title',\n",
       " 'translate',\n",
       " 'upper',\n",
       " 'zfill']"
      ]
     },
     "execution_count": 18,
     "metadata": {},
     "output_type": "execute_result"
    }
   ],
   "source": [
    "dir(str)"
   ]
  },
  {
   "cell_type": "code",
   "execution_count": 5,
   "metadata": {},
   "outputs": [
    {
     "data": {
      "text/plain": [
       "['capitalize',\n",
       " 'casefold',\n",
       " 'center',\n",
       " 'count',\n",
       " 'encode',\n",
       " 'endswith',\n",
       " 'expandtabs',\n",
       " 'find',\n",
       " 'format',\n",
       " 'index',\n",
       " 'isalnum',\n",
       " 'isalpha',\n",
       " 'isascii',\n",
       " 'isdecimal',\n",
       " 'isdigit',\n",
       " 'isidentifier',\n",
       " 'islower',\n",
       " 'isnumeric',\n",
       " 'isprintable',\n",
       " 'isspace',\n",
       " 'istitle',\n",
       " 'isupper',\n",
       " 'join',\n",
       " 'ljust',\n",
       " 'lower',\n",
       " 'lstrip',\n",
       " 'maketrans',\n",
       " 'partition',\n",
       " 'replace',\n",
       " 'rfind',\n",
       " 'rindex',\n",
       " 'rjust',\n",
       " 'rpartition',\n",
       " 'rsplit',\n",
       " 'rstrip',\n",
       " 'split',\n",
       " 'splitlines',\n",
       " 'startswith',\n",
       " 'strip',\n",
       " 'swapcase',\n",
       " 'title',\n",
       " 'translate',\n",
       " 'upper',\n",
       " 'zfill']"
      ]
     },
     "execution_count": 5,
     "metadata": {},
     "output_type": "execute_result"
    }
   ],
   "source": [
    "#your codes\n",
    "\n",
    "[a for a in dir(str) if '_' not in a]"
   ]
  },
  {
   "cell_type": "markdown",
   "metadata": {},
   "source": [
    "#### 练习3：由1，2，3，4构造不重复的三位数！包括每个三位数中也没有重复的数字。"
   ]
  },
  {
   "cell_type": "code",
   "execution_count": 1,
   "metadata": {},
   "outputs": [],
   "source": [
    "#your codes\n"
   ]
  },
  {
   "cell_type": "markdown",
   "metadata": {},
   "source": [
    "**多重解析**"
   ]
  },
  {
   "cell_type": "code",
   "execution_count": 11,
   "metadata": {},
   "outputs": [
    {
     "name": "stdout",
     "output_type": "stream",
     "text": [
      "[(1, 1), (1, 2), (1, 3), (1, 4), (2, 1), (2, 2), (2, 3), (2, 4), (3, 1), (3, 2), (3, 3), (3, 4), (4, 1), (4, 2), (4, 3), (4, 4)]\n",
      "[(2, 1), (3, 1), (3, 2), (4, 1), (4, 2), (4, 3)]\n",
      "[(2, 1), (3, 1), (3, 2), (4, 1), (4, 2), (4, 3)]\n"
     ]
    }
   ],
   "source": [
    "print([(x+1,y+1) for x in range(4) for y in range(4)])\n",
    "print([(x+1,y+1) for x in range(4) for y in range(4) if y<x])\n",
    "print([(x+1,y+1) for x in range(4) for y in range(x)])"
   ]
  },
  {
   "cell_type": "markdown",
   "metadata": {},
   "source": [
    "### 1.3 使用小括号生成生成器"
   ]
  },
  {
   "cell_type": "markdown",
   "metadata": {},
   "source": [
    "使用小括号做Comprehension返回生成器对象\n",
    "#### 关于生成器与迭代器？ https://blog.csdn.net/xsj_blog/article/details/70543721"
   ]
  },
  {
   "cell_type": "code",
   "execution_count": 23,
   "metadata": {},
   "outputs": [
    {
     "data": {
      "text/plain": [
       "1"
      ]
     },
     "execution_count": 23,
     "metadata": {},
     "output_type": "execute_result"
    }
   ],
   "source": [
    "aa=(1,2,3,4)     #元组  tuple\n",
    "aa[0]"
   ]
  },
  {
   "cell_type": "code",
   "execution_count": 31,
   "metadata": {},
   "outputs": [
    {
     "ename": "TypeError",
     "evalue": "'tuple' object does not support item assignment",
     "output_type": "error",
     "traceback": [
      "\u001b[1;31m---------------------------------------------------------------------------\u001b[0m",
      "\u001b[1;31mTypeError\u001b[0m                                 Traceback (most recent call last)",
      "\u001b[1;32m<ipython-input-31-f2ccf07a27f9>\u001b[0m in \u001b[0;36m<module>\u001b[1;34m\u001b[0m\n\u001b[1;32m----> 1\u001b[1;33m \u001b[0maa\u001b[0m\u001b[1;33m[\u001b[0m\u001b[1;36m0\u001b[0m\u001b[1;33m]\u001b[0m\u001b[1;33m=\u001b[0m\u001b[1;36m9\u001b[0m\u001b[1;33m\u001b[0m\u001b[1;33m\u001b[0m\u001b[0m\n\u001b[0m",
      "\u001b[1;31mTypeError\u001b[0m: 'tuple' object does not support item assignment"
     ]
    }
   ],
   "source": [
    "aa[0]=9"
   ]
  },
  {
   "cell_type": "code",
   "execution_count": 27,
   "metadata": {},
   "outputs": [],
   "source": [
    "bb=[1,2,3,4]"
   ]
  },
  {
   "cell_type": "code",
   "execution_count": 28,
   "metadata": {},
   "outputs": [
    {
     "data": {
      "text/plain": [
       "list"
      ]
     },
     "execution_count": 28,
     "metadata": {},
     "output_type": "execute_result"
    }
   ],
   "source": [
    "type(bb)"
   ]
  },
  {
   "cell_type": "code",
   "execution_count": 29,
   "metadata": {},
   "outputs": [],
   "source": [
    "bb[1]=9"
   ]
  },
  {
   "cell_type": "code",
   "execution_count": 30,
   "metadata": {},
   "outputs": [
    {
     "data": {
      "text/plain": [
       "[1, 9, 3, 4]"
      ]
     },
     "execution_count": 30,
     "metadata": {},
     "output_type": "execute_result"
    }
   ],
   "source": [
    "bb"
   ]
  },
  {
   "cell_type": "code",
   "execution_count": 9,
   "metadata": {},
   "outputs": [
    {
     "name": "stdout",
     "output_type": "stream",
     "text": [
      "<generator object <genexpr> at 0x000001DC93F471B0>\n"
     ]
    }
   ],
   "source": [
    "num=range(0,20)\n",
    "\n",
    "simple_generator=(x**2 for x in num if x > 0)\n",
    "\n",
    "print(simple_generator)"
   ]
  },
  {
   "cell_type": "code",
   "execution_count": 10,
   "metadata": {},
   "outputs": [
    {
     "ename": "TypeError",
     "evalue": "'generator' object is not subscriptable",
     "output_type": "error",
     "traceback": [
      "\u001b[1;31m---------------------------------------------------------------------------\u001b[0m",
      "\u001b[1;31mTypeError\u001b[0m                                 Traceback (most recent call last)",
      "Cell \u001b[1;32mIn[10], line 1\u001b[0m\n\u001b[1;32m----> 1\u001b[0m \u001b[43msimple_generator\u001b[49m\u001b[43m[\u001b[49m\u001b[38;5;241;43m0\u001b[39;49m\u001b[43m]\u001b[49m\n",
      "\u001b[1;31mTypeError\u001b[0m: 'generator' object is not subscriptable"
     ]
    }
   ],
   "source": [
    "simple_generator[0]"
   ]
  },
  {
   "cell_type": "code",
   "execution_count": 14,
   "metadata": {},
   "outputs": [
    {
     "data": {
      "text/plain": [
       "['__class__',\n",
       " '__del__',\n",
       " '__delattr__',\n",
       " '__dir__',\n",
       " '__doc__',\n",
       " '__eq__',\n",
       " '__format__',\n",
       " '__ge__',\n",
       " '__getattribute__',\n",
       " '__gt__',\n",
       " '__hash__',\n",
       " '__init__',\n",
       " '__init_subclass__',\n",
       " '__iter__',\n",
       " '__le__',\n",
       " '__lt__',\n",
       " '__name__',\n",
       " '__ne__',\n",
       " '__new__',\n",
       " '__next__',\n",
       " '__qualname__',\n",
       " '__reduce__',\n",
       " '__reduce_ex__',\n",
       " '__repr__',\n",
       " '__setattr__',\n",
       " '__sizeof__',\n",
       " '__str__',\n",
       " '__subclasshook__',\n",
       " 'close',\n",
       " 'gi_code',\n",
       " 'gi_frame',\n",
       " 'gi_running',\n",
       " 'gi_yieldfrom',\n",
       " 'send',\n",
       " 'throw']"
      ]
     },
     "execution_count": 14,
     "metadata": {},
     "output_type": "execute_result"
    }
   ],
   "source": [
    "dir(simple_generator)"
   ]
  },
  {
   "cell_type": "code",
   "execution_count": 32,
   "metadata": {},
   "outputs": [
    {
     "data": {
      "text/plain": [
       "<generator object <genexpr> at 0x000001EF3D088F20>"
      ]
     },
     "execution_count": 32,
     "metadata": {},
     "output_type": "execute_result"
    }
   ],
   "source": [
    "simple_generator"
   ]
  },
  {
   "cell_type": "code",
   "execution_count": 37,
   "metadata": {},
   "outputs": [
    {
     "name": "stdout",
     "output_type": "stream",
     "text": [
      "1 4 9 16 25 36 49 64 81 100 121 144 169 196 225 256 289 324 361 "
     ]
    }
   ],
   "source": [
    "for element in simple_generator:\n",
    "    print(element,end=' ')"
   ]
  },
  {
   "cell_type": "markdown",
   "metadata": {},
   "source": [
    "### 1.4 使用大括号解析得到集合或字典"
   ]
  },
  {
   "cell_type": "markdown",
   "metadata": {},
   "source": [
    "使用小括号解析并不会返回一个不可变元组而是生成器，是一个需要强记的规则；然而大括号解析式就普通了许多。"
   ]
  },
  {
   "cell_type": "code",
   "execution_count": 13,
   "metadata": {},
   "outputs": [
    {
     "name": "stdout",
     "output_type": "stream",
     "text": [
      "{0, 2, 4, 6, 8}\n",
      "{0: 0, 2: 4, 4: 16, 6: 36, 8: 64}\n"
     ]
    }
   ],
   "source": [
    "x = range(10)\n",
    "\n",
    "print({ i for i in x if i%2==0 })\n",
    "print({ idx:i**2 for idx,i in enumerate(x) if i%2==0 })"
   ]
  },
  {
   "cell_type": "markdown",
   "metadata": {},
   "source": [
    "注意生成字典时使用key:value的形式就可以了。"
   ]
  },
  {
   "cell_type": "markdown",
   "metadata": {},
   "source": [
    "* #### 思考题  下列解析结果？\n",
    "{key:value for key in \"ABC\" for value in range(1,10)} <br>\n",
    "{key:value for key in \"ABC\" for value in \"JKL\"} "
   ]
  },
  {
   "cell_type": "code",
   "execution_count": 14,
   "metadata": {},
   "outputs": [
    {
     "data": {
      "text/plain": [
       "{'A': 'L', 'B': 'L', 'C': 'L'}"
      ]
     },
     "execution_count": 14,
     "metadata": {},
     "output_type": "execute_result"
    }
   ],
   "source": [
    "{key:value for key in \"ABC\" for value in \"JKL\"} "
   ]
  },
  {
   "cell_type": "markdown",
   "metadata": {},
   "source": [
    "#### 练习4：将字符串\"k:1|k1:2|k2:3|k3:4\"处理成字典格式{k:1,k1:2,...}"
   ]
  },
  {
   "cell_type": "code",
   "execution_count": 39,
   "metadata": {},
   "outputs": [],
   "source": [
    "#阿里的面试题\n",
    "str1 = \"k:1|k1:2|k2:3|k3:4\"   # 处理成字典 {k:1,k1:2,...}\n",
    "#字典推导式\n",
    "\n",
    "d = {a:int(b) for t in str1.split(\"|\") for a, b in (t.split(\":\"), )} #为啥要有逗号\n"
   ]
  },
  {
   "cell_type": "code",
   "execution_count": 40,
   "metadata": {},
   "outputs": [
    {
     "data": {
      "text/plain": [
       "{'k': 1, 'k1': 2, 'k2': 3, 'k3': 4}"
      ]
     },
     "execution_count": 40,
     "metadata": {},
     "output_type": "execute_result"
    }
   ],
   "source": [
    "d"
   ]
  },
  {
   "cell_type": "code",
   "execution_count": 25,
   "metadata": {},
   "outputs": [],
   "source": [
    "x='a'"
   ]
  },
  {
   "cell_type": "code",
   "execution_count": 26,
   "metadata": {},
   "outputs": [
    {
     "data": {
      "text/plain": [
       "str"
      ]
     },
     "execution_count": 26,
     "metadata": {},
     "output_type": "execute_result"
    }
   ],
   "source": [
    "type(x)"
   ]
  },
  {
   "cell_type": "code",
   "execution_count": 27,
   "metadata": {},
   "outputs": [],
   "source": [
    "x='a',"
   ]
  },
  {
   "cell_type": "code",
   "execution_count": 28,
   "metadata": {},
   "outputs": [
    {
     "data": {
      "text/plain": [
       "tuple"
      ]
     },
     "execution_count": 28,
     "metadata": {},
     "output_type": "execute_result"
    }
   ],
   "source": [
    "type(x)"
   ]
  },
  {
   "cell_type": "markdown",
   "metadata": {},
   "source": [
    "### 构造有26个字母构成的长度是6的1000个字符串。"
   ]
  },
  {
   "cell_type": "code",
   "execution_count": 1,
   "metadata": {},
   "outputs": [],
   "source": [
    "import string\n"
   ]
  },
  {
   "cell_type": "code",
   "execution_count": 42,
   "metadata": {},
   "outputs": [
    {
     "data": {
      "text/plain": [
       "'abcdefghijklmnopqrstuvwxyz'"
      ]
     },
     "execution_count": 42,
     "metadata": {},
     "output_type": "execute_result"
    }
   ],
   "source": [
    "string.ascii_lowercase"
   ]
  },
  {
   "cell_type": "markdown",
   "metadata": {},
   "source": [
    "#### 练习5：阅读下列代码，利用解析式的思想编写一个函数 mystr(n,m)，会生成n个长度是m的有26个字母构成的字符串"
   ]
  },
  {
   "cell_type": "code",
   "execution_count": 27,
   "metadata": {},
   "outputs": [
    {
     "name": "stdout",
     "output_type": "stream",
     "text": [
      "['eswhvd', 'batkij', 'gvhqor', 'cnzhlx', 'fptvev', 'fvtyjh', 'yntmmm', 'tlhpbm', 'kpmplr', 'bujpvz', 'cajfqk', 'ldsiaz', 'ugqkbz', 'zfxlie', 'ynzigf', 'tpvjmh', 'rqyamu', 'wspbsw', 'uxiyap', 'hpbxka', 'inniyt', 'jotnyk', 'vtwonp', 'htuvwl', 'jegfam', 'rrjbzz', 'rheert', 'mxbcly', 'udalru', 'hpremc', 'ligfzi', 'jyqxjl', 'hgafcu', 'fkpcgv', 'puehbn', 'fxtfnf', 'mzvson', 'grwqxb', 'lypunj', 'mtsigv', 'awiovg', 'voxvie', 'qgedhj', 'iklaol', 'vjuewd', 'qpxywd', 'hpvfrw', 'ldithi', 'hupvnb', 'xqafpp', 'rrmmqw', 'nwgtjr', 'lcwxnx', 'msrpea', 'byzrat', 'qcuhtu', 'sidcdr', 'psxhpa', 'ipjlch', 'lqswdh', 'xjldpv', 'wnfgdh', 'ngqkpg', 'cradlp', 'qiepcu', 'tcuhhz', 'frtjlz', 'kcfrsa', 'cdynuq', 'lrbnfz', 'yjnjda', 'jrtxdw', 'gtoptu', 'irgwhd', 'onatsx', 'fllcgi', 'mtaekg', 'ldzqij', 'nsuncf', 'fvftnq', 'yqhyxt', 'dmrwur', 'svqxal', 'wdribz', 'ktpjcl', 'phevmv', 'ljmbvf', 'dbrdhd', 'urjzjr', 'nvktfe', 'qhfduf', 'xkamsj', 'yfrbpk', 'iapzef', 'pxtife', 'voexoh', 'nqdzpo', 'tzamrj', 'fxtbbk', 'tvbzyj']\n"
     ]
    }
   ],
   "source": [
    "import random\n",
    "zc=[]\n",
    "for i in range(100):\n",
    "    s=''\n",
    "    for j in range(6):\n",
    "        a=random.randint(1,26)\n",
    "        s+=chr(ord('a')+a-1)\n",
    "    zc.append(s)\n",
    "\n",
    "print(zc) "
   ]
  },
  {
   "cell_type": "code",
   "execution_count": 28,
   "metadata": {},
   "outputs": [
    {
     "name": "stdout",
     "output_type": "stream",
     "text": [
      "lbcokw\n",
      "nxbcfs\n",
      "qofitc\n",
      "ralpbx\n",
      "ogglkx\n",
      "vmfgid\n",
      "rmlusv\n",
      "jztolq\n",
      "zrleag\n",
      "dwryse\n",
      "ztyypd\n",
      "zikowj\n",
      "gavtyy\n",
      "yxpqgg\n",
      "icedgf\n",
      "uogslp\n",
      "tunqmk\n",
      "qtmjsw\n",
      "jtgzmj\n",
      "ugfotu\n",
      "gvgnck\n",
      "cqvyze\n",
      "zcvjrx\n",
      "updpli\n",
      "lfwzal\n",
      "cwypuq\n",
      "exjrmq\n",
      "kfmgng\n",
      "nryzxk\n",
      "svvwtx\n",
      "yggktu\n",
      "ggmykb\n",
      "igvpml\n",
      "askgyj\n",
      "defbfq\n",
      "sesrpp\n",
      "etoaxz\n",
      "izeldd\n",
      "tfgfgy\n",
      "mtqwuz\n",
      "knecdq\n",
      "yygdgi\n",
      "rqwyqf\n",
      "vxesub\n",
      "ngcukv\n",
      "yjkion\n",
      "ntexpc\n",
      "griiyu\n",
      "mmnigz\n",
      "ekbpyx\n",
      "zvjmdw\n",
      "mbtmac\n",
      "acpqgv\n",
      "tblrzv\n",
      "leggcp\n",
      "luvdaa\n",
      "sgcosp\n",
      "asopvv\n",
      "tsepbx\n",
      "zcqedv\n",
      "pdmqmi\n",
      "qguovq\n",
      "qzmuxt\n",
      "peueat\n",
      "vcwaxu\n",
      "utvocd\n",
      "obdqkg\n",
      "uwrvng\n",
      "ayxujc\n",
      "znfilt\n",
      "pqojij\n",
      "rzbtkz\n",
      "ttpezt\n",
      "lwepsf\n",
      "igrqim\n",
      "jdkned\n",
      "qlbfng\n",
      "gcpimy\n",
      "mybgwk\n",
      "ogzbyw\n",
      "oaxdgj\n",
      "lrdkxd\n",
      "bikvnb\n",
      "tbykqc\n",
      "cktyfp\n",
      "yrmsia\n",
      "ocddge\n",
      "qzrdnn\n",
      "zlzpfl\n",
      "lvazyp\n",
      "akkmvi\n",
      "lvoeji\n",
      "evvfzz\n",
      "bcjwup\n",
      "cymcin\n",
      "bujnbd\n",
      "ardlmx\n",
      "nmagkz\n",
      "koxawt\n",
      "jyufva\n"
     ]
    }
   ],
   "source": [
    "from random import randint\n",
    "Str='abcdefggijklmnopqrstuvwxyz'\n",
    "for i in range(100):\n",
    "    print(Str[randint(0,25)]+Str[randint(0,25)]+Str[randint(0,25)]+Str[randint(0,25)]+Str[randint(0,25)]+Str[randint(0,25)])"
   ]
  },
  {
   "cell_type": "code",
   "execution_count": 3,
   "metadata": {},
   "outputs": [],
   "source": [
    "import string"
   ]
  },
  {
   "cell_type": "code",
   "execution_count": 30,
   "metadata": {},
   "outputs": [
    {
     "data": {
      "text/plain": [
       "'abcdefghijklmnopqrstuvwxyz'"
      ]
     },
     "execution_count": 30,
     "metadata": {},
     "output_type": "execute_result"
    }
   ],
   "source": [
    "string.ascii_lowercase"
   ]
  },
  {
   "cell_type": "code",
   "execution_count": 4,
   "metadata": {},
   "outputs": [],
   "source": [
    "import random"
   ]
  },
  {
   "cell_type": "code",
   "execution_count": 5,
   "metadata": {},
   "outputs": [],
   "source": [
    "random.sample??"
   ]
  },
  {
   "cell_type": "code",
   "execution_count": 9,
   "metadata": {},
   "outputs": [
    {
     "data": {
      "text/plain": [
       "['t', 'l', 'i']"
      ]
     },
     "execution_count": 9,
     "metadata": {},
     "output_type": "execute_result"
    }
   ],
   "source": [
    "random.sample(string.ascii_lowercase,3)"
   ]
  },
  {
   "cell_type": "code",
   "execution_count": 10,
   "metadata": {},
   "outputs": [],
   "source": [
    "#your codes   \n",
    "#提示：1、有没有包含26个字母的Python包；2、有没有从一个字符串中随机选几个字符的方法\n",
    "def  mystr(n,m):   \n",
    "    \n",
    "    return [''.join(random.sample(string.ascii_lowercase,m)) for _ in range(n)]"
   ]
  },
  {
   "cell_type": "code",
   "execution_count": 12,
   "metadata": {},
   "outputs": [
    {
     "data": {
      "text/plain": [
       "['sfa', 'zur', 'pvy', 'ejb', 'obl', 'yjl', 'xfm', 'bky', 'qms', 'gtc']"
      ]
     },
     "execution_count": 12,
     "metadata": {},
     "output_type": "execute_result"
    }
   ],
   "source": [
    "mystr(10,3)"
   ]
  },
  {
   "cell_type": "markdown",
   "metadata": {},
   "source": [
    "## 2 花样传参：zip与星号操作"
   ]
  },
  {
   "cell_type": "markdown",
   "metadata": {},
   "source": [
    "* zip: 拉链函数\n",
    "* \\*: 经常和zip在一起，用于传递参数。\n",
    "* \\*\\*: 用于传递关键字型参数"
   ]
  },
  {
   "cell_type": "markdown",
   "metadata": {},
   "source": [
    "### 2.1 Zip(拉链)"
   ]
  },
  {
   "cell_type": "markdown",
   "metadata": {},
   "source": [
    "* zip: 把多个长度相同的列表当成数据列组成的数据表，返回一个包含着元组的列表，每个元组是数据表中的一行\n",
    "\n",
    "<img src='images/zip.png' width=500 height=300/>"
   ]
  },
  {
   "cell_type": "code",
   "execution_count": 57,
   "metadata": {},
   "outputs": [
    {
     "name": "stdout",
     "output_type": "stream",
     "text": [
      "<zip object at 0x000001EF3D9C21C0>\n"
     ]
    }
   ],
   "source": [
    "hero_name =  ['杨根思','黄继光','邱少云','伍先华','孙占元','张桃芳','王海','罗盛教']\n",
    "hero_level = ['特级','特级','一级','一级','一级','一级','一级','一级']\n",
    "Your_choice=zip(hero_name,hero_level)\n",
    "print(Your_choice)"
   ]
  },
  {
   "cell_type": "code",
   "execution_count": 58,
   "metadata": {},
   "outputs": [],
   "source": [
    "z0=list(Your_choice)"
   ]
  },
  {
   "cell_type": "code",
   "execution_count": 59,
   "metadata": {},
   "outputs": [
    {
     "name": "stdout",
     "output_type": "stream",
     "text": [
      "[('杨根思', '特级'), ('黄继光', '特级'), ('邱少云', '一级'), ('伍先华', '一级'), ('孙占元', '一级'), ('张桃芳', '一级'), ('王海', '一级'), ('罗盛教', '一级')]\n"
     ]
    }
   ],
   "source": [
    "print(z0)"
   ]
  },
  {
   "cell_type": "markdown",
   "metadata": {},
   "source": [
    "取回原来的列表："
   ]
  },
  {
   "cell_type": "code",
   "execution_count": 61,
   "metadata": {},
   "outputs": [
    {
     "name": "stdout",
     "output_type": "stream",
     "text": [
      "<zip object at 0x000001EF3D9CBA80>\n"
     ]
    }
   ],
   "source": [
    "hero1,hero2,hero3,hero4,hero5,hero6,hero7,hero8 = z0\n",
    "print(zip(hero1,hero2,hero3,hero4,hero5,hero6,hero7,hero8))"
   ]
  },
  {
   "cell_type": "code",
   "execution_count": 62,
   "metadata": {},
   "outputs": [
    {
     "data": {
      "text/plain": [
       "('杨根思', '特级')"
      ]
     },
     "execution_count": 62,
     "metadata": {},
     "output_type": "execute_result"
    }
   ],
   "source": [
    "hero1"
   ]
  },
  {
   "cell_type": "markdown",
   "metadata": {},
   "source": [
    "用\\*把Your_choice的内容而不是它本身作为参数传递"
   ]
  },
  {
   "cell_type": "code",
   "execution_count": 7,
   "metadata": {},
   "outputs": [
    {
     "name": "stdout",
     "output_type": "stream",
     "text": [
      "<zip object at 0x000002B6773000C0>\n"
     ]
    }
   ],
   "source": [
    "print(zip(*Your_choice))"
   ]
  },
  {
   "cell_type": "markdown",
   "metadata": {},
   "source": [
    "\\* 告诉Python即将传入的参数Your_choice不是单独一个序列，而是把Your_choice中的每一项作为参数\n",
    "\n",
    "从下面的字典里按值来排序，取到值最大或者值最小的那条记录："
   ]
  },
  {
   "cell_type": "code",
   "execution_count": 63,
   "metadata": {
    "scrolled": true
   },
   "outputs": [
    {
     "name": "stdout",
     "output_type": "stream",
     "text": [
      "<zip object at 0x000001EF3D9C2940>\n",
      "(28, '杨根思') (21, '黄继光')\n"
     ]
    }
   ],
   "source": [
    "hero_info={'杨根思':28,'黄继光':21,'邱少云':26}\n",
    "print(zip(hero_info.values(),hero_info.keys()))\n",
    "max_Damage=max(zip(hero_info.values(),hero_info.keys()))\n",
    "min_Damage=min(zip(hero_info.values(),hero_info.keys()))\n",
    "\n",
    "print(max_Damage,min_Damage)"
   ]
  },
  {
   "cell_type": "markdown",
   "metadata": {},
   "source": [
    "**花样传参**\n",
    "    \n",
    "刚才已经知道能把列表加星号保持有序地作为一个个参数（argument）传给方法/函数："
   ]
  },
  {
   "cell_type": "code",
   "execution_count": 64,
   "metadata": {},
   "outputs": [
    {
     "name": "stdout",
     "output_type": "stream",
     "text": [
      "123\n"
     ]
    }
   ],
   "source": [
    "def triplesum(a,b,c):\n",
    "    return a*100+b*10+c\n",
    "\n",
    "\n",
    "print(triplesum(1,2,3))"
   ]
  },
  {
   "cell_type": "code",
   "execution_count": 45,
   "metadata": {},
   "outputs": [
    {
     "name": "stdout",
     "output_type": "stream",
     "text": [
      "123\n"
     ]
    }
   ],
   "source": [
    "print(triplesum(*[1,2,3]))"
   ]
  },
  {
   "cell_type": "markdown",
   "metadata": {},
   "source": [
    "带默认值的参数叫keyword arguments(kargs):"
   ]
  },
  {
   "cell_type": "code",
   "execution_count": 65,
   "metadata": {},
   "outputs": [
    {
     "name": "stdout",
     "output_type": "stream",
     "text": [
      "123\n",
      "130\n",
      "123\n",
      "103\n"
     ]
    }
   ],
   "source": [
    "def triplesum_default(a=0,b=0,c=0,*args):\n",
    "    return a*100+b*10+c\n",
    "\n",
    "def ntuplesum_default(**args):\n",
    "    sum = 0\n",
    "    print(args)\n",
    "    for i,v in args.items():\n",
    "        print(i)\n",
    "        print(v)\n",
    "        print(type(i))\n",
    "#         sum*=10\n",
    "#         sum+=int(i)\n",
    "#     return sum\n",
    "\n",
    "print(triplesum_default(*[1,2,3,4]))\n",
    "#print(ntuplesum_default(*[1,2,3,5]))\n",
    "#print(ntuplesum_default(1,2,3,5,6,7,8))\n",
    "print(triplesum_default(*[1,3]))\n",
    "print(triplesum_default(**{'b':2,'c':3,'a':1}))\n",
    "print(triplesum_default(**{'c':3,'a':1}))"
   ]
  },
  {
   "cell_type": "code",
   "execution_count": 66,
   "metadata": {},
   "outputs": [],
   "source": [
    "def ntuplesum_default(**args):\n",
    "    a=args['a']\n",
    "    b=args['b']\n",
    "    c=args['c']\n",
    "    \n",
    "    return a*100+b*10+c"
   ]
  },
  {
   "cell_type": "code",
   "execution_count": 67,
   "metadata": {
    "scrolled": true
   },
   "outputs": [
    {
     "name": "stdout",
     "output_type": "stream",
     "text": [
      "123\n"
     ]
    }
   ],
   "source": [
    "print(ntuplesum_default(**{'b':2,'c':3,'a':1})) #"
   ]
  },
  {
   "cell_type": "markdown",
   "metadata": {},
   "source": [
    "### 体会Python编程的艺术"
   ]
  },
  {
   "attachments": {
    "%E5%9B%BE%E7%89%87.png": {
     "image/png": "[encoded data removed]"
    }
   },
   "cell_type": "markdown",
   "metadata": {},
   "source": [
    "![%E5%9B%BE%E7%89%87.png](attachment:%E5%9B%BE%E7%89%87.png)"
   ]
  },
  {
   "cell_type": "markdown",
   "metadata": {},
   "source": [
    "## *3 其它一些Pythonic的代码"
   ]
  },
  {
   "cell_type": "markdown",
   "metadata": {},
   "source": [
    "### 3.1 三元操作符的条件表达式"
   ]
  },
  {
   "cell_type": "markdown",
   "metadata": {},
   "source": [
    "正常的if/else写法，有些臃肿："
   ]
  },
  {
   "cell_type": "code",
   "execution_count": null,
   "metadata": {},
   "outputs": [],
   "source": [
    "#不好\n",
    "x=111\n",
    "y=17"
   ]
  },
  {
   "cell_type": "code",
   "execution_count": 13,
   "metadata": {},
   "outputs": [
    {
     "name": "stdout",
     "output_type": "stream",
     "text": [
      "17\n"
     ]
    }
   ],
   "source": [
    "x,y = 111,17\n",
    "\n",
    "if x < y:\n",
    "    smaller = x\n",
    "else:\n",
    "    smaller = y\n",
    "    \n",
    "print(smaller)"
   ]
  },
  {
   "cell_type": "markdown",
   "metadata": {},
   "source": [
    "简洁的三元表达式，Ruby风味："
   ]
  },
  {
   "cell_type": "code",
   "execution_count": 68,
   "metadata": {},
   "outputs": [
    {
     "name": "stdout",
     "output_type": "stream",
     "text": [
      "10\n"
     ]
    }
   ],
   "source": [
    "x , y = 25,10\n",
    "\n",
    "smaller = x if x < y else y\n",
    "\n",
    "print(smaller)"
   ]
  },
  {
   "cell_type": "markdown",
   "metadata": {},
   "source": [
    "<font color='red'>短路求值写法：</font>"
   ]
  },
  {
   "cell_type": "code",
   "execution_count": 69,
   "metadata": {},
   "outputs": [
    {
     "name": "stdout",
     "output_type": "stream",
     "text": [
      "3\n",
      "3\n"
     ]
    }
   ],
   "source": [
    "x , y  = 3 , 5\n",
    "smaller =  x < y and x or y    # 三目运算符\n",
    "print(smaller)\n",
    "\n",
    "x , y  = 5 , 3\n",
    "smaller =  x < y and x or y\n",
    "print(smaller)"
   ]
  },
  {
   "cell_type": "markdown",
   "metadata": {},
   "source": [
    "#### 练习6：把下面代码使用使用三元操作符来改写："
   ]
  },
  {
   "cell_type": "code",
   "execution_count": 23,
   "metadata": {},
   "outputs": [
    {
     "name": "stdout",
     "output_type": "stream",
     "text": [
      "3\n",
      "Duck\n"
     ]
    }
   ],
   "source": [
    "x = int(input())\n",
    "if x >= 10:\n",
    "     print(\"Horse\")\n",
    "elif 1 < x < 10:\n",
    "    print(\"Duck\")\n",
    "else:\n",
    "    print(\"Baguette\")"
   ]
  },
  {
   "cell_type": "code",
   "execution_count": 24,
   "metadata": {},
   "outputs": [
    {
     "name": "stdout",
     "output_type": "stream",
     "text": [
      "Duck\n"
     ]
    }
   ],
   "source": [
    "#your code,使用一行print函数加三元操作符来完成\n",
    "\n",
    "\n",
    "\n"
   ]
  },
  {
   "cell_type": "markdown",
   "metadata": {},
   "source": [
    "### 3.2 Lambda 和 Map\n",
    "Lambda 是一种匿名函数，它看起来可能有一点奇怪，但是一旦你理解了它，那么他就会变得非常直观与强大。"
   ]
  },
  {
   "cell_type": "code",
   "execution_count": 25,
   "metadata": {},
   "outputs": [
    {
     "name": "stdout",
     "output_type": "stream",
     "text": [
      "[6, 14, 30]\n"
     ]
    }
   ],
   "source": [
    "stupid_func = (lambda x : x ** 2 + 5)\n",
    "print([stupid_func(1), stupid_func(3), stupid_func(5)])"
   ]
  },
  {
   "cell_type": "markdown",
   "metadata": {},
   "source": [
    "下面的排序默认从大到小或从小到大排序，但是借助 Lambda 表达式，我们可以实现更自由的排序标准。如下所示我们希望根据最小的平方数对列表进行排序，其可以使用 Lambda 函数定义键，从而告诉 sorted() 方法该怎样排序。"
   ]
  },
  {
   "cell_type": "code",
   "execution_count": 7,
   "metadata": {},
   "outputs": [
    {
     "name": "stdout",
     "output_type": "stream",
     "text": [
      "[-2, -1, 0, 1, 2]\n"
     ]
    }
   ],
   "source": [
    "my_list = [2, 1, 0, -1, -2]\n",
    "print(sorted(my_list))    "
   ]
  },
  {
   "cell_type": "code",
   "execution_count": 9,
   "metadata": {},
   "outputs": [
    {
     "name": "stdout",
     "output_type": "stream",
     "text": [
      "[0, 1, -1, 2, -2]\n"
     ]
    }
   ],
   "source": [
    "print(sorted(my_list, key = lambda x : x ** 2))"
   ]
  },
  {
   "cell_type": "markdown",
   "metadata": {},
   "source": [
    "Map 是一个简单的函数，它可以将某个函数应用到其它一些序列元素，例如列表。如果我们有两个列表，我们希望将这两个列表对应的元素相乘，那么使用 lambda 函数和 map 可以快速实现这一功能："
   ]
  },
  {
   "cell_type": "code",
   "execution_count": 28,
   "metadata": {},
   "outputs": [
    {
     "name": "stdout",
     "output_type": "stream",
     "text": [
      "[4, 10, 18]\n"
     ]
    }
   ],
   "source": [
    "print(list(map(lambda x, y : x * y, [1, 2, 3], [4, 5, 6])))"
   ]
  },
  {
   "cell_type": "markdown",
   "metadata": {},
   "source": [
    "使用Map函数，比下列代码简洁了许多："
   ]
  },
  {
   "cell_type": "code",
   "execution_count": 29,
   "metadata": {},
   "outputs": [
    {
     "name": "stdout",
     "output_type": "stream",
     "text": [
      "[4, 10, 18]\n"
     ]
    }
   ],
   "source": [
    "x, y = [1, 2, 3], [4, 5, 6]\n",
    "z = []\n",
    "for i in range(len(x)):\n",
    "     z.append(x[i] * y[i])\n",
    "print(z)"
   ]
  },
  {
   "cell_type": "markdown",
   "metadata": {},
   "source": [
    "### **3.3 再列出几个Pythonic代码，同学们可以不断扩充\n",
    "#### 查找列表中频率最高的值"
   ]
  },
  {
   "cell_type": "code",
   "execution_count": 10,
   "metadata": {},
   "outputs": [
    {
     "name": "stdout",
     "output_type": "stream",
     "text": [
      "3\n"
     ]
    }
   ],
   "source": [
    "a = [1,2,2,2,3,3,3,3,4]\n",
    "print(max(set(a),key=a.count))\n",
    "\n",
    "#key关键字的作用是，对每个list元素先使用key指定的function来处理，然后再比较、返回预期的元素。"
   ]
  },
  {
   "cell_type": "code",
   "execution_count": 31,
   "metadata": {},
   "outputs": [
    {
     "name": "stdout",
     "output_type": "stream",
     "text": [
      "-20.3\n"
     ]
    }
   ],
   "source": [
    "testlist = [9.2, 10, -20.3, -7.0, 9.999, 20.111]\n",
    "print(max(testlist, key=lambda x: abs(x)))"
   ]
  },
  {
   "cell_type": "markdown",
   "metadata": {},
   "source": [
    "#### 链式比较"
   ]
  },
  {
   "cell_type": "code",
   "execution_count": 32,
   "metadata": {},
   "outputs": [
    {
     "name": "stdout",
     "output_type": "stream",
     "text": [
      "True\n",
      "False\n"
     ]
    }
   ],
   "source": [
    "b=6\n",
    "print(4<b<7)\n",
    "print(1==b<7)"
   ]
  },
  {
   "cell_type": "markdown",
   "metadata": {},
   "source": [
    "#### 合并字典"
   ]
  },
  {
   "cell_type": "code",
   "execution_count": 33,
   "metadata": {},
   "outputs": [],
   "source": [
    "dict1 = { \"name\":\"owen\", \"age\": 18 }\n",
    "dict2 = { \"birthday\": \"1999-11-22\", \"height\": 180 }"
   ]
  },
  {
   "cell_type": "code",
   "execution_count": 34,
   "metadata": {},
   "outputs": [
    {
     "name": "stdout",
     "output_type": "stream",
     "text": [
      "{'name': 'owen', 'age': 18, 'birthday': '1999-11-22', 'height': 180}\n"
     ]
    }
   ],
   "source": [
    "dictMerged2 = dict( dict1, **dict2 )\n",
    "print(dictMerged2)"
   ]
  },
  {
   "cell_type": "code",
   "execution_count": 35,
   "metadata": {},
   "outputs": [
    {
     "name": "stdout",
     "output_type": "stream",
     "text": [
      "{'name': 'owen', 'age': 18, 'birthday': '1999-11-22', 'height': 180}\n"
     ]
    }
   ],
   "source": [
    "dictMerged2 = dict1.copy()\n",
    "dictMerged2.update( dict2 )\n",
    "print(dictMerged2)"
   ]
  },
  {
   "cell_type": "markdown",
   "metadata": {},
   "source": [
    "## 4** 变量之变：深浅拷贝"
   ]
  },
  {
   "cell_type": "markdown",
   "metadata": {},
   "source": [
    "深浅拷贝：关系到变量的正确修改与复制\n",
    "\n",
    "变量的属性：\n",
    "\n",
    "* 身份：就像身份证（或者内存地址）那样，id()\n",
    "* 属性：表示变量的类型，type()或者isInstance()确认\n",
    "* 值：这个地址存的数据，通过与名字绑定的方法来读取"
   ]
  },
  {
   "cell_type": "markdown",
   "metadata": {},
   "source": [
    "### 4.1 浅拷贝\n",
    "* 完全切片(Slicing)操作[:]\n",
    "* 工厂函数，比如list(),tuple()\n",
    "* copy中的copy"
   ]
  },
  {
   "cell_type": "markdown",
   "metadata": {},
   "source": [
    "https://www.bilibili.com/video/BV1jT4y1G7AN/"
   ]
  },
  {
   "cell_type": "code",
   "execution_count": null,
   "metadata": {
    "collapsed": true,
    "jupyter": {
     "outputs_hidden": true
    }
   },
   "outputs": [],
   "source": [
    "# 给出一个浅拷贝的例子\n",
    "#your code\n"
   ]
  },
  {
   "cell_type": "markdown",
   "metadata": {},
   "source": [
    "### 4.2 资深玩家的选择：深拷贝"
   ]
  },
  {
   "cell_type": "code",
   "execution_count": null,
   "metadata": {
    "collapsed": true,
    "jupyter": {
     "outputs_hidden": true
    }
   },
   "outputs": [],
   "source": [
    "# 给出一个深拷贝的例子\n",
    "# your code\n"
   ]
  },
  {
   "cell_type": "markdown",
   "metadata": {},
   "source": [
    "## 5 异常处理：Try-Except-Else-Finally"
   ]
  },
  {
   "cell_type": "markdown",
   "metadata": {},
   "source": [
    "**会犯错的是人，能原谅人的是……**\n",
    "\n",
    "* try\n",
    "* except\n",
    "* finally"
   ]
  },
  {
   "cell_type": "markdown",
   "metadata": {},
   "source": [
    "Python允许程序在运行当中检测错误。\n",
    "\n",
    "每检测到一个错误，Python解释器就引发一个异常并报出详细的错误信息："
   ]
  },
  {
   "cell_type": "code",
   "execution_count": 5,
   "metadata": {},
   "outputs": [
    {
     "ename": "ZeroDivisionError",
     "evalue": "division by zero",
     "output_type": "error",
     "traceback": [
      "\u001b[1;31m---------------------------------------------------------------------------\u001b[0m",
      "\u001b[1;31mZeroDivisionError\u001b[0m                         Traceback (most recent call last)",
      "\u001b[1;32m<ipython-input-5-40b99b3faf74>\u001b[0m in \u001b[0;36m<module>\u001b[1;34m()\u001b[0m\n\u001b[0;32m      2\u001b[0m \u001b[0mx\u001b[0m \u001b[1;33m=\u001b[0m \u001b[1;36m5\u001b[0m\u001b[1;33m\u001b[0m\u001b[0m\n\u001b[0;32m      3\u001b[0m \u001b[0mx\u001b[0m\u001b[1;33m,\u001b[0m\u001b[0my\u001b[0m \u001b[1;33m=\u001b[0m \u001b[0my\u001b[0m\u001b[1;33m,\u001b[0m\u001b[0mx\u001b[0m\u001b[1;33m\u001b[0m\u001b[0m\n\u001b[1;32m----> 4\u001b[1;33m \u001b[1;36m1\u001b[0m\u001b[1;33m/\u001b[0m\u001b[1;36m0\u001b[0m\u001b[1;33m\u001b[0m\u001b[0m\n\u001b[0m",
      "\u001b[1;31mZeroDivisionError\u001b[0m: division by zero"
     ]
    }
   ],
   "source": [
    "y = 6\n",
    "x = 5\n",
    "x,y = y,x\n",
    "1/0"
   ]
  },
  {
   "cell_type": "markdown",
   "metadata": {},
   "source": [
    "* 我们执行了一个除零操作（这显然是非法的），报出了\"ZeroDivisionError: integer division or modulo by zero\"\n",
    "* 在使用Python编写程序时，认真查看报错信息\n",
    "* 建议多使用Ipython notebook 完成小代码块"
   ]
  },
  {
   "cell_type": "markdown",
   "metadata": {
    "collapsed": true,
    "jupyter": {
     "outputs_hidden": true
    }
   },
   "source": [
    "### 5.1 基本用法：try-except Exception"
   ]
  },
  {
   "cell_type": "markdown",
   "metadata": {},
   "source": [
    "如果你需要添加错误检测和异常处理，需要把你想要书写的代码组封装在try-except语句中。"
   ]
  },
  {
   "cell_type": "code",
   "execution_count": 10,
   "metadata": {},
   "outputs": [
    {
     "name": "stdout",
     "output_type": "stream",
     "text": [
      "Wow, such cute error\n"
     ]
    }
   ],
   "source": [
    "try:\n",
    "    x = 1/0\n",
    "    y = range(10)[10]\n",
    "except Exception:\n",
    "    print(\"Wow, such cute error\")"
   ]
  },
  {
   "cell_type": "markdown",
   "metadata": {},
   "source": [
    "### 5.2 笔下无错，心中有错"
   ]
  },
  {
   "cell_type": "markdown",
   "metadata": {},
   "source": [
    "常见的python中的异常，举例来说：\n",
    "* 有上文中已经出现的除零错误（ZeroDivisionError）\n",
    "* 尝试访问未声明的变量（NameError）\n",
    "* 语法错误    （Syntax Error）\n",
    "* 请求索引超过索引范围  （IndexError，常见于切片操作中）\n",
    "* 输入/输出错误  （IOError）"
   ]
  },
  {
   "cell_type": "code",
   "execution_count": 1,
   "metadata": {},
   "outputs": [
    {
     "name": "stdout",
     "output_type": "stream",
     "text": [
      "Wow, such cute divisor\n"
     ]
    }
   ],
   "source": [
    "try:\n",
    "    x = 1/0\n",
    "    y = range(10)[10] \n",
    "except ZeroDivisionError as e1:\n",
    "    print(\"Wow, such cute divisor\")\n",
    "    #print(e1)\n",
    "except IndexError as e2:\n",
    "    print(\"Wow, such cute index\")\n",
    "    \n",
    "#print(e1)  "
   ]
  },
  {
   "cell_type": "code",
   "execution_count": 14,
   "metadata": {},
   "outputs": [
    {
     "name": "stdout",
     "output_type": "stream",
     "text": [
      "Wow, such cute index\n",
      "range object index out of range\n"
     ]
    }
   ],
   "source": [
    "try:\n",
    "    x = 1/2\n",
    "    y = range(10)[10] \n",
    "except ZeroDivisionError as e1:\n",
    "    print(\"Wow, such cute divisor\")\n",
    "except IndexError as e2:\n",
    "    print(\"Wow, such cute index\")\n",
    "    print(e2)\n",
    "    \n",
    "#print(e2)"
   ]
  },
  {
   "cell_type": "markdown",
   "metadata": {},
   "source": [
    "### **5.3 异常处理：完全体"
   ]
  },
  {
   "cell_type": "markdown",
   "metadata": {},
   "source": [
    "通过try-except-else-finally来感受异常处理的完全体吧！\n",
    "\n",
    "* try 下面是可能有异常的代码块\n",
    "* except 下面是对异常的处理\n",
    "* else 下面是在并没有异常的时候执行的代码块\n",
    "* finally 下面是收尾工作，无论是否有异常都执行\n",
    "\n",
    "并用另一种方式记录异常。"
   ]
  },
  {
   "cell_type": "code",
   "execution_count": 39,
   "metadata": {},
   "outputs": [
    {
     "name": "stdout",
     "output_type": "stream",
     "text": [
      "X,Y is corrected.\n",
      "162\n",
      "Finished\n"
     ]
    }
   ],
   "source": [
    "import sys\n",
    "\n",
    "try:\n",
    "    x = 1/0\n",
    "    y = range(10)[-1]\n",
    "except Exception as error:\n",
    "    x = 0\n",
    "    y = 9\n",
    "    print('X,Y is corrected.')\n",
    "    info = sys.exc_info()\n",
    "else:\n",
    "    print('Catch no exceptions. Great!')\n",
    "finally:\n",
    "    z = x + y\n",
    "    print(z**2 + x**2 + y**2)\n",
    "    print('Finished')   \n"
   ]
  },
  {
   "cell_type": "markdown",
   "metadata": {
    "collapsed": true,
    "jupyter": {
     "outputs_hidden": true
    }
   },
   "source": [
    "<font color='white'>\n",
    "def letter_counter(lst, letter):\n",
    "    #your code\n",
    "    return str(lst).count(letter)\n",
    "\n",
    "print(letter_counter('Hello','l'))\n",
    "\n",
    "[i for i in dir(str) if not i.startswith('_')]\n",
    "\n",
    "#将字符串 “k:1|k1:2|k2:3|k3:4”，处理成字典 {k:1,k1:2,k2:3,k3:4}\n",
    "d = {k:int(v) for t in str1.split(\"|\") for k, v in (t.split(\":\"), )}\n",
    "\n",
    "def mystr(n,m):\n",
    "    import string\n",
    "    import random\n",
    "    return [''.join(random.sample(string.ascii_lowercase,m)) for _ in range(n)]\n",
    "\n",
    "mystr(10,3)\n",
    "    \n",
    "print(\"Horse\" if x >= 10 else \"Duck\" if 1 < x < 10 else \"Baguette\")\n",
    "\n",
    "</font>"
   ]
  },
  {
   "cell_type": "code",
   "execution_count": null,
   "metadata": {},
   "outputs": [],
   "source": []
  }
 ],
 "metadata": {
  "anaconda-cloud": {},
  "kernelspec": {
   "display_name": "Python 3 (ipykernel)",
   "language": "python",
   "name": "python3"
  },
  "language_info": {
   "codemirror_mode": {
    "name": "ipython",
    "version": 3
   },
   "file_extension": ".py",
   "mimetype": "text/x-python",
   "name": "python",
   "nbconvert_exporter": "python",
   "pygments_lexer": "ipython3",
   "version": "3.10.9"
  },
  "toc": {
   "base_numbering": 1,
   "nav_menu": {},
   "number_sections": false,
   "sideBar": true,
   "skip_h1_title": false,
   "title_cell": "Table of Contents",
   "title_sidebar": "Contents",
   "toc_cell": false,
   "toc_position": {},
   "toc_section_display": true,
   "toc_window_display": false
  }
 },
 "nbformat": 4,
 "nbformat_minor": 4
}
