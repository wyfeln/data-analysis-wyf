{
 "cells": [
  {
   "cell_type": "markdown",
   "id": "f25f28b4",
   "metadata": {},
   "source": [
    "# 第2章 Python基础知识\n",
    "## 2.1 Python基础"
   ]
  },
  {
   "cell_type": "markdown",
   "id": "bc22177a",
   "metadata": {},
   "source": [
    "<img src=\"./imgs/Python基础.png\" width=600 height=500>\n",
    "\n",
    "Python不仅仅是脚本语言，它也是一个面向对象编程语言。<br>（关于面向对象的了解：https://blog.csdn.net/sugar_no1/article/details/86366714 ）\n",
    "\n",
    "Python中一切皆是对象。Python中最常用的对象是<font color=red face=\"黑体\">常量和变量</font>。\n",
    "\n",
    "**常量是用于保存固定值的单元**，在程序中，常量的值通常不能发生改变,其赋值通常为数字、字符串、布尔值。    \n",
    "\n",
    "**变量的概念基本上和数学中的方程变量是一样的**，只是在Python程序中，变量不仅可以是数字，还可以是字符串等任意数据类型。\n",
    "\n",
    "\n",
    "除常量和变量之外，本小节还将介绍转义符、注释、缩进等基本操作。"
   ]
  },
  {
   "cell_type": "markdown",
   "id": "3a1daf5e",
   "metadata": {},
   "source": [
    "### 2.1.1 Python基本概念\n",
    "\n",
    "### 1. 常量"
   ]
  },
  {
   "cell_type": "markdown",
   "id": "6f218e7b",
   "metadata": {},
   "source": [
    "**常量的类型主要为数字、字符串、布尔值。数字又有整数、浮点数之分**"
   ]
  },
  {
   "cell_type": "markdown",
   "id": "fd9dc925",
   "metadata": {},
   "source": [
    "#### (1) 数字\n",
    "##### 整数 (int)"
   ]
  },
  {
   "cell_type": "markdown",
   "id": "6623e493",
   "metadata": {},
   "source": [
    "Python可以处理包含负数在内任意大小的整数（int），在程序中的表示方法和在数学上的写法完全相同,"
   ]
  },
  {
   "cell_type": "code",
   "execution_count": 1,
   "id": "13e6a961",
   "metadata": {},
   "outputs": [
    {
     "name": "stdout",
     "output_type": "stream",
     "text": [
      "10\n",
      "-5\n"
     ]
    }
   ],
   "source": [
    "print(10)\n",
    "print(-5)"
   ]
  },
  {
   "cell_type": "code",
   "execution_count": 2,
   "id": "f3d1fca5",
   "metadata": {
    "scrolled": true
   },
   "outputs": [
    {
     "data": {
      "text/plain": [
       "int"
      ]
     },
     "execution_count": 2,
     "metadata": {},
     "output_type": "execute_result"
    }
   ],
   "source": [
    "#type函数：可用来查看某个变量（类对象）的具体类型，函数相关知识会在之后介绍\n",
    "type(10) "
   ]
  },
  {
   "cell_type": "markdown",
   "id": "3d5d8525",
   "metadata": {},
   "source": [
    "##### 浮点数(float)"
   ]
  },
  {
   "cell_type": "markdown",
   "id": "ba59692f",
   "metadata": {},
   "source": [
    "浮点数也就是小数，之所以称其为浮点数（float），是因为在科学计数法中，浮点数的小数点的位置是可变的"
   ]
  },
  {
   "cell_type": "code",
   "execution_count": 3,
   "id": "49c402ca",
   "metadata": {},
   "outputs": [
    {
     "name": "stdout",
     "output_type": "stream",
     "text": [
      "1230000000.0\n",
      "1230000000.0\n"
     ]
    }
   ],
   "source": [
    "print (1.23 * 10 ** 9) \n",
    "print (12.3 * 10 ** 8) "
   ]
  },
  {
   "cell_type": "code",
   "execution_count": 1,
   "id": "6bdccd99",
   "metadata": {},
   "outputs": [
    {
     "data": {
      "text/plain": [
       "float"
      ]
     },
     "execution_count": 1,
     "metadata": {},
     "output_type": "execute_result"
    }
   ],
   "source": [
    "type(1.23 * 10 ** 9)"
   ]
  },
  {
   "cell_type": "code",
   "execution_count": 2,
   "id": "f52ffd70",
   "metadata": {},
   "outputs": [
    {
     "data": {
      "text/plain": [
       "1000.0"
      ]
     },
     "execution_count": 2,
     "metadata": {},
     "output_type": "execute_result"
    }
   ],
   "source": [
    "#对于过大或过小的浮点数，为了方便通常用科学计数法表示，用e代替10\n",
    "10e2 #10乘10的二次方"
   ]
  },
  {
   "cell_type": "code",
   "execution_count": 3,
   "id": "97ada39d",
   "metadata": {},
   "outputs": [
    {
     "data": {
      "text/plain": [
       "0.1"
      ]
     },
     "execution_count": 3,
     "metadata": {},
     "output_type": "execute_result"
    }
   ],
   "source": [
    "10e-2 #相当于10乘10的负二次方"
   ]
  },
  {
   "cell_type": "markdown",
   "id": "7ce7fc42",
   "metadata": {},
   "source": [
    "#### (2) 字符串(str)"
   ]
  },
  {
   "cell_type": "markdown",
   "id": "7d3c2d89",
   "metadata": {},
   "source": [
    "**字符串(str)是以单引号''或双引号“”括起来的任意文本，比如'abc'，”xyz”等。**\n",
    "\n",
    "需要注意的是，' '或“ ”只是一种用于表示字符串的方式，并不是字符串的一部分，因此，字符串'xyz'只有x，y和z这3个字符。如果'本身也是一个字符，可以用“”括起来，比如”She's beautiful”可以用双引号加单引号的方式呈现：”She’s beautiful”。\n",
    "\n",
    "但是如果一个字符串中同时出现单引号和双引号的情况，我们将在之后的转义符中详细介绍。另还有三引号的字符串表示方法，可参考：https://blog.csdn.net/sinat_42759524/article/details/103616400"
   ]
  },
  {
   "cell_type": "code",
   "execution_count": 7,
   "id": "50d39135",
   "metadata": {},
   "outputs": [
    {
     "data": {
      "text/plain": [
       "'MBA'"
      ]
     },
     "execution_count": 7,
     "metadata": {},
     "output_type": "execute_result"
    }
   ],
   "source": [
    "'MBA'"
   ]
  },
  {
   "cell_type": "code",
   "execution_count": 8,
   "id": "bb99e6b1",
   "metadata": {},
   "outputs": [
    {
     "data": {
      "text/plain": [
       "str"
      ]
     },
     "execution_count": 8,
     "metadata": {},
     "output_type": "execute_result"
    }
   ],
   "source": [
    "type('MBA')"
   ]
  },
  {
   "cell_type": "code",
   "execution_count": 9,
   "id": "5cdead92",
   "metadata": {},
   "outputs": [
    {
     "data": {
      "text/plain": [
       "'ECNU'"
      ]
     },
     "execution_count": 9,
     "metadata": {},
     "output_type": "execute_result"
    }
   ],
   "source": [
    "\"ECNU\""
   ]
  },
  {
   "cell_type": "code",
   "execution_count": 4,
   "id": "7c787da1",
   "metadata": {},
   "outputs": [
    {
     "ename": "NameError",
     "evalue": "name 'mba' is not defined",
     "output_type": "error",
     "traceback": [
      "\u001b[1;31m---------------------------------------------------------------------------\u001b[0m",
      "\u001b[1;31mNameError\u001b[0m                                 Traceback (most recent call last)",
      "\u001b[1;32m<ipython-input-4-b105690a6363>\u001b[0m in \u001b[0;36m<module>\u001b[1;34m\u001b[0m\n\u001b[1;32m----> 1\u001b[1;33m \u001b[0mmba\u001b[0m\u001b[1;33m\u001b[0m\u001b[1;33m\u001b[0m\u001b[0m\n\u001b[0m\u001b[0;32m      2\u001b[0m \u001b[1;31m#不使用单引号或双引号时，mba被python识别为变量\u001b[0m\u001b[1;33m\u001b[0m\u001b[1;33m\u001b[0m\u001b[1;33m\u001b[0m\u001b[0m\n\u001b[0;32m      3\u001b[0m \u001b[1;31m#因为之前代码中没有定义mba变量，所以会报错\u001b[0m\u001b[1;33m\u001b[0m\u001b[1;33m\u001b[0m\u001b[1;33m\u001b[0m\u001b[0m\n",
      "\u001b[1;31mNameError\u001b[0m: name 'mba' is not defined"
     ]
    }
   ],
   "source": [
    "mba \n",
    "#不使用单引号或双引号时，mba被python识别为变量\n",
    "#因为之前代码中没有定义mba变量，所以会报错"
   ]
  },
  {
   "cell_type": "code",
   "execution_count": null,
   "id": "b452294f",
   "metadata": {},
   "outputs": [],
   "source": [
    "#三引号的字符串表示\n",
    "'''\n",
    "MBA\n",
    "ECNU\n",
    "'''"
   ]
  },
  {
   "cell_type": "markdown",
   "id": "ba822521",
   "metadata": {},
   "source": [
    "#### (3) 布尔值"
   ]
  },
  {
   "cell_type": "markdown",
   "id": "9829dacb",
   "metadata": {},
   "source": [
    "布尔值即逻辑值表示真、假两种情况。**真和假这两种布尔值分别用True、False表示，而且不可以同时存在**。在Python中，可以直接用首字母大写的True、False表示布尔值，也可以通过布尔运算计算出来。 **Python的中的布尔值可以转化为数值，True为1，False为0。**\n",
    "\n"
   ]
  },
  {
   "cell_type": "code",
   "execution_count": 11,
   "id": "df0e0036",
   "metadata": {},
   "outputs": [
    {
     "name": "stdout",
     "output_type": "stream",
     "text": [
      "True\n",
      "False\n",
      "True\n",
      "False\n"
     ]
    }
   ],
   "source": [
    "#直接用首字母大写的True、False表示布尔值\n",
    "print(True)\n",
    "print(False)\n",
    "#通过布尔运算计算出来\n",
    "print(10>1)\n",
    "print(10>100)"
   ]
  },
  {
   "cell_type": "markdown",
   "id": "2ca9f8f9",
   "metadata": {},
   "source": [
    "**布尔值支持and、or和not等逻辑运算（逻辑运算符相关参考2.1.3）**"
   ]
  },
  {
   "cell_type": "code",
   "execution_count": 12,
   "id": "ca24e40f",
   "metadata": {},
   "outputs": [
    {
     "name": "stdout",
     "output_type": "stream",
     "text": [
      "True\n",
      "False\n",
      "False\n"
     ]
    }
   ],
   "source": [
    "#and运算：“与”运算，只有所有值均为True时运算结果才是True\n",
    "print(True and True)\n",
    "print(True and False)\n",
    "print(False and False)"
   ]
  },
  {
   "cell_type": "code",
   "execution_count": 13,
   "id": "d819aaff",
   "metadata": {},
   "outputs": [
    {
     "name": "stdout",
     "output_type": "stream",
     "text": [
      "True\n",
      "True\n",
      "False\n"
     ]
    }
   ],
   "source": [
    "#or运算：“或”运算，只要其中有一个值为True，运算结果就是True\n",
    "print(True or True)\n",
    "print(True or False)\n",
    "print(False or False)"
   ]
  },
  {
   "cell_type": "code",
   "execution_count": 14,
   "id": "ca6bf58e",
   "metadata": {},
   "outputs": [
    {
     "name": "stdout",
     "output_type": "stream",
     "text": [
      "False\n",
      "True\n"
     ]
    }
   ],
   "source": [
    "#not运算：“非”运算，这是一个单目运算符，可以实现True和False的随机转换\n",
    "print(not True)\n",
    "print(not False)"
   ]
  },
  {
   "cell_type": "markdown",
   "id": "d38a4ebe",
   "metadata": {},
   "source": [
    "### 2. 变量及其命名规范"
   ]
  },
  {
   "cell_type": "markdown",
   "id": "e64b13e8",
   "metadata": {},
   "source": [
    "**变量是存储在内存中的值**，这就意味着在创建变量时会在内存中开辟一个空间。基于变量的数据类型，解释器会分配指定内存，并决定什么数据可以被存储在内存中。因此，变量可以指定不同的数据类型，这些变量可以存储整数，小数或字符。"
   ]
  },
  {
   "cell_type": "markdown",
   "id": "c075787c",
   "metadata": {},
   "source": [
    "#### (1)  变量赋值\n",
    "Python 中的变量赋值不需要类型声明。\n",
    "\n",
    "每个变量在内存中创建，都包括变量的标识，名称和数据这些信息。\n",
    "\n",
    "每个变量在使用前都必须赋值，变量赋值以后该变量才会被创建。\n",
    "\n",
    "**等号 = 用来给变量赋值。**\n",
    "\n",
    "***等号 = 运算符左边是一个变量名，等号 = 运算符右边是存储在变量中的值***<font color=\"red\" face = \"黑体\">变量名必须是大小写英文、数字和下划线的组合，且不能用数字开头</font>\n",
    "\n",
    "例如："
   ]
  },
  {
   "cell_type": "code",
   "execution_count": 15,
   "id": "1b3db94d",
   "metadata": {},
   "outputs": [
    {
     "name": "stdout",
     "output_type": "stream",
     "text": [
      "123\n",
      "ABC\n"
     ]
    }
   ],
   "source": [
    "a1=123\n",
    "print(a1)     #a是整数\n",
    "a2='ABC'\n",
    "print(a2)     #a为字符串"
   ]
  },
  {
   "cell_type": "code",
   "execution_count": 16,
   "id": "2c360cc0",
   "metadata": {},
   "outputs": [
    {
     "ename": "SyntaxError",
     "evalue": "invalid syntax (3938050551.py, line 1)",
     "output_type": "error",
     "traceback": [
      "\u001b[1;36m  Input \u001b[1;32mIn [16]\u001b[1;36m\u001b[0m\n\u001b[1;33m    1a=321 #当使用数字开头时，运行报错\u001b[0m\n\u001b[1;37m     ^\u001b[0m\n\u001b[1;31mSyntaxError\u001b[0m\u001b[1;31m:\u001b[0m invalid syntax\n"
     ]
    }
   ],
   "source": [
    "1a=321 #当使用数字开头时，运行报错"
   ]
  },
  {
   "cell_type": "markdown",
   "id": "32001fb3",
   "metadata": {},
   "source": [
    "**注意：赋值语句的等号不等同于数学中等号；程序中的“=”代表赋值，双等号“==”代表等于**\n",
    "\n",
    "区分见下："
   ]
  },
  {
   "cell_type": "code",
   "execution_count": 17,
   "id": "65d9c4bd",
   "metadata": {},
   "outputs": [
    {
     "data": {
      "text/plain": [
       "12"
      ]
     },
     "execution_count": 17,
     "metadata": {},
     "output_type": "execute_result"
    }
   ],
   "source": [
    "x=10\n",
    "x=x+2 #先计算右侧表达式，再将结果赋值给变量x\n",
    "x"
   ]
  },
  {
   "cell_type": "code",
   "execution_count": 18,
   "id": "e4303b32",
   "metadata": {},
   "outputs": [
    {
     "data": {
      "text/plain": [
       "True"
      ]
     },
     "execution_count": 18,
     "metadata": {},
     "output_type": "execute_result"
    }
   ],
   "source": [
    "x==12 #判断x是否等于12，因为上条代码将12赋值给x，故输出True"
   ]
  },
  {
   "cell_type": "markdown",
   "id": "45c8d5c0",
   "metadata": {},
   "source": [
    "### 3.  转义符"
   ]
  },
  {
   "cell_type": "markdown",
   "id": "51ccf5fb",
   "metadata": {},
   "source": [
    "**有些字符我们无法手动书写**，比如我们需要对字符进行换行处理，但不能写出来换行符，当然我们也看不见换行符。像这种情况，**我们需要在字符中使用特殊字符时，就需要用到转义字符**。\n",
    "\n",
    "在常量中我们提到如果字符串中同时出现单引号和双引号的情况，我们可以使用转义符来实现字符串的可读。\n",
    "\n",
    "在需要在字符中使用特殊字符时，python 用反斜杠 \\ 转义字符。如下表：\n",
    "\n",
    "更多详细用法可参考：https://blog.csdn.net/yawei_liu1688/article/details/108364192"
   ]
  },
  {
   "cell_type": "markdown",
   "id": "c6137f57",
   "metadata": {},
   "source": [
    "|转义字符   | 描述  \n",
    "| :-: | :-: \n",
    "|\\（在行尾时）|\t续行符\n",
    "|\\\\|\t反斜杠符号\n",
    "|\\\\'|\t单引号\n",
    "|\\\\\"|双引号\n",
    "|\\a\t|响铃\n",
    "|\\b\t|退格（Backspace）\n",
    "|\\e\t|转义\n",
    "|\\000|\t空\n",
    "|\\n|换行\n",
    "|\\v\t|纵向制表符\n",
    "|\\t\t|横向制表符\n",
    "|\\r\t|回车\n",
    "|\\f|\t换页\n",
    "|\\other\t|其它字符以普通格式输出\n"
   ]
  },
  {
   "cell_type": "code",
   "execution_count": 19,
   "id": "f17c617f",
   "metadata": {},
   "outputs": [
    {
     "ename": "SyntaxError",
     "evalue": "invalid syntax (1401697848.py, line 1)",
     "output_type": "error",
     "traceback": [
      "\u001b[1;36m  Input \u001b[1;32mIn [19]\u001b[1;36m\u001b[0m\n\u001b[1;33m    'Don't learn' #不使用转义符时\u001b[0m\n\u001b[1;37m         ^\u001b[0m\n\u001b[1;31mSyntaxError\u001b[0m\u001b[1;31m:\u001b[0m invalid syntax\n"
     ]
    }
   ],
   "source": [
    "'Don't learn' #不使用转义符时"
   ]
  },
  {
   "cell_type": "code",
   "execution_count": 20,
   "id": "1e3278d6",
   "metadata": {},
   "outputs": [
    {
     "data": {
      "text/plain": [
       "\"Don't learn\""
      ]
     },
     "execution_count": 20,
     "metadata": {},
     "output_type": "execute_result"
    }
   ],
   "source": [
    "'Don\\'t learn' #使用转义符时"
   ]
  },
  {
   "cell_type": "markdown",
   "id": "93c4f2d1",
   "metadata": {},
   "source": [
    "##### 常用转义符显示"
   ]
  },
  {
   "cell_type": "code",
   "execution_count": 21,
   "id": "5c2dfb65",
   "metadata": {},
   "outputs": [
    {
     "name": "stdout",
     "output_type": "stream",
     "text": [
      "\\python\tnotbook\\\n"
     ]
    }
   ],
   "source": [
    "print('\\\\python\\tnotbook\\\\') #反斜杠符号"
   ]
  },
  {
   "cell_type": "code",
   "execution_count": 22,
   "id": "f0da7952",
   "metadata": {},
   "outputs": [
    {
     "name": "stdout",
     "output_type": "stream",
     "text": [
      "I love ECNU,\n",
      "ECNU love me!\n"
     ]
    }
   ],
   "source": [
    "print('I love ECNU,\\nECNU love me!') #\\n表示换行"
   ]
  },
  {
   "cell_type": "code",
   "execution_count": 23,
   "id": "51dee757",
   "metadata": {},
   "outputs": [
    {
     "name": "stdout",
     "output_type": "stream",
     "text": [
      "I love python notebook\n",
      "I\t love python notebook\n"
     ]
    }
   ],
   "source": [
    "print('I love python notebook')\n",
    "print('I\\t love python notebook')#\\t表示制表符"
   ]
  },
  {
   "cell_type": "markdown",
   "id": "6e713e74",
   "metadata": {},
   "source": [
    "### 4.  注释"
   ]
  },
  {
   "cell_type": "markdown",
   "id": "8ddfd98d",
   "metadata": {},
   "source": [
    "当我们在编写代码，需要对部分代码进行文字解释以提高代码的可理解性时；或者要对他人的代码进行修改时，需要保留一些并不运行的代码，此时则需要对代码进行注释。\n",
    "**在Notebook中用#号注释单行代码。如果要注释的代码过长，则可用三引号'''进行注释**"
   ]
  },
  {
   "cell_type": "code",
   "execution_count": 24,
   "id": "6455045e",
   "metadata": {},
   "outputs": [],
   "source": [
    "#这是一个单行注释，下面是一个三引号多行注释\n",
    "#假设要修改某位同学的代码，又想保留他的错误，可以用三引号实现代码块的注释\n",
    "'''\n",
    "a=1\n",
    "b=2\n",
    "c=3\n",
    "d=4\n",
    "e=5\n",
    "'''\n",
    "a=1.0\n",
    "b=2.0\n",
    "c=3.0\n",
    "d=4.0\n",
    "e=5.0"
   ]
  },
  {
   "cell_type": "markdown",
   "id": "163e63c6",
   "metadata": {},
   "source": [
    "注释的作用不仅仅是对代码的说明解释，当一组代码运行产生问题时，可以使用注释来检查或者寻找产生问题的代码，这是学习过程中十分实用的方法。\n",
    "\n",
    "使用“CTRL”+“？”组合键可以将选中的代码或者文字批量注释，再按一次这个组合键可以解除批量注释。"
   ]
  },
  {
   "cell_type": "markdown",
   "id": "eb863f95",
   "metadata": {},
   "source": [
    "### 5.  缩进"
   ]
  },
  {
   "cell_type": "markdown",
   "id": "281aefc8",
   "metadata": {},
   "source": [
    "**缩进决定代码行的层次，从而用来决定语句执行的先后顺序。**\n",
    "\n",
    "在Python中规定同一层次的语句必须具有相同的缩进值。简而言之，Python是用不同的空白缩进来表示不同的语句块的。"
   ]
  },
  {
   "cell_type": "code",
   "execution_count": 25,
   "id": "649d0401",
   "metadata": {},
   "outputs": [
    {
     "name": "stdout",
     "output_type": "stream",
     "text": [
      "1\n",
      "2\n",
      "3\n"
     ]
    }
   ],
   "source": [
    "List=[1,2,3,4,5]\n",
    "num=0\n",
    "for i in List:\n",
    "    if i <4:\n",
    "        num=num+1\n",
    "        print(num)\n",
    "    else:\n",
    "        pass\n",
    "    \n",
    "#上述代码中，if语句和else语句是同一层次的语句，是for语句后的循环体\n",
    "#num语句和print语句是同一层次的语句，是if后面的语句块"
   ]
  },
  {
   "cell_type": "markdown",
   "id": "568f32ee",
   "metadata": {},
   "source": [
    "**小节练习1：创建一个字符串型变量并打印，使得结果如下所示：**\n",
    "\n",
    "    要求：1、命名变量  \n",
    "          2、将字符串 Don't learn,just use it! 赋值给已命名的变量\n",
    "          3、使用转义符，使得输出格式与下方结果显示一致。  \n",
    "     \n",
    "   ***考察知识点：变量的命名规范、变量的赋值、转义符的使用***"
   ]
  },
  {
   "cell_type": "code",
   "execution_count": 26,
   "id": "95bb9fc2",
   "metadata": {},
   "outputs": [
    {
     "name": "stdout",
     "output_type": "stream",
     "text": [
      "Don't learn,\n",
      "just use it!\n"
     ]
    }
   ],
   "source": [
    "#your code\n",
    "\n"
   ]
  },
  {
   "cell_type": "markdown",
   "id": "977ad617",
   "metadata": {},
   "source": [
    "## 2.1.2 输入和输出"
   ]
  },
  {
   "cell_type": "markdown",
   "id": "c09d8ac1",
   "metadata": {},
   "source": [
    "### 1.  输入\n",
    "\n",
    "在Python中可以通过input()函数取键盘输入数据。一般格式为:  \n",
    "\n",
    "<font size=4><center>variable = input(&lt;提示字符串&gt;)</center></font>\n",
    "\n",
    "    1. input()函数首先输出提示字符串，然后等待用户键盘输入\n",
    "    2. input()在从键盘获取了数据以后，会存放到等号右边的变量中保存于变量中\n",
    "    3. 用户按回车键结束，函数最后返回用户输入的字符串（不包括最后的回车符，input()会把用户输入的任何值都作为字符串来对待）\n",
    "    4. 程序继续执行input函数后面的语句。"
   ]
  },
  {
   "cell_type": "code",
   "execution_count": 5,
   "id": "7f002e04",
   "metadata": {},
   "outputs": [
    {
     "name": "stdout",
     "output_type": "stream",
     "text": [
      "请输入学生姓名：tom\n"
     ]
    }
   ],
   "source": [
    "name=input('请输入学生姓名：') #提示字符串 请输入学生姓名："
   ]
  },
  {
   "cell_type": "code",
   "execution_count": 6,
   "id": "c8d6628e",
   "metadata": {},
   "outputs": [
    {
     "data": {
      "text/plain": [
       "'tom'"
      ]
     },
     "execution_count": 6,
     "metadata": {},
     "output_type": "execute_result"
    }
   ],
   "source": [
    "name\n"
   ]
  },
  {
   "cell_type": "code",
   "execution_count": 7,
   "id": "a137a675",
   "metadata": {},
   "outputs": [
    {
     "name": "stdout",
     "output_type": "stream",
     "text": [
      "tom\n"
     ]
    }
   ],
   "source": [
    "print(name)"
   ]
  },
  {
   "cell_type": "markdown",
   "id": "8dc44186",
   "metadata": {},
   "source": [
    "### 2.  输出"
   ]
  },
  {
   "cell_type": "markdown",
   "id": "b808079e",
   "metadata": {},
   "source": [
    "在Python中可以通过内置的print()函数将结果输出到IDLE或者标准控制台上，一般格式为:\n",
    "\n",
    "<font size=4><center>print(&lt;输出值1&gt;[,&lt;输出值2&gt;,……,&lt;输出值n&gt;,sep=' ',end='\\n'])</center></font>\n",
    "\n",
    "**注：通过print()函数可以将多个输出结果转换成字符串并且输出，这些值之间以sep分隔，最后以end结束，sep默认为空格，end默认为换行**"
   ]
  },
  {
   "cell_type": "code",
   "execution_count": 30,
   "id": "a8288d49",
   "metadata": {},
   "outputs": [
    {
     "name": "stdout",
     "output_type": "stream",
     "text": [
      "Tom Lisa\n",
      "Ace Mary\n"
     ]
    }
   ],
   "source": [
    "#值以空格分割，输出print()内的结果后换行\n",
    "print('Tom','Lisa')\n",
    "print('Ace','Mary')"
   ]
  },
  {
   "cell_type": "code",
   "execution_count": 31,
   "id": "cf0431aa",
   "metadata": {},
   "outputs": [
    {
     "name": "stdout",
     "output_type": "stream",
     "text": [
      "Ace,Mary Tom Lisa\n"
     ]
    }
   ],
   "source": [
    "#将分隔符更换成逗号，，结束改为空格\n",
    "print('Ace','Mary',sep=',',end=' ')\n",
    "\n",
    "#上一条print()函数的end改为空格，print打印结果之后就没有进行换行\n",
    "#因此下面print()函数输出的结果与上面打印结果并列一行\n",
    "print('Tom','Lisa') "
   ]
  },
  {
   "cell_type": "markdown",
   "id": "1fc71707",
   "metadata": {},
   "source": [
    "**print语句不仅可以打印整数，还可以打印计算结果**"
   ]
  },
  {
   "cell_type": "code",
   "execution_count": 32,
   "id": "6dbe070e",
   "metadata": {},
   "outputs": [
    {
     "name": "stdout",
     "output_type": "stream",
     "text": [
      "300\n"
     ]
    }
   ],
   "source": [
    "#print语句打印整数\n",
    "print(300)"
   ]
  },
  {
   "cell_type": "code",
   "execution_count": 33,
   "id": "50f8be42",
   "metadata": {},
   "outputs": [
    {
     "name": "stdout",
     "output_type": "stream",
     "text": [
      "300\n"
     ]
    }
   ],
   "source": [
    "#print语句打印计算结果\n",
    "print(100+200)"
   ]
  },
  {
   "cell_type": "code",
   "execution_count": 34,
   "id": "2254ddd8",
   "metadata": {},
   "outputs": [
    {
     "name": "stdout",
     "output_type": "stream",
     "text": [
      "100+200= 300\n"
     ]
    }
   ],
   "source": [
    "#为了美化界面，在计算结果前加上说明\n",
    "#前面的单引号内的部分是字符串，后面的部分是计算\n",
    "print('100+200=',100+200) "
   ]
  },
  {
   "cell_type": "markdown",
   "id": "a247ff03",
   "metadata": {},
   "source": [
    "**print打印变量**"
   ]
  },
  {
   "cell_type": "code",
   "execution_count": 35,
   "id": "a9f351a8",
   "metadata": {},
   "outputs": [
    {
     "name": "stdout",
     "output_type": "stream",
     "text": [
      "Lucy\n",
      "hello, Lucy\n"
     ]
    }
   ],
   "source": [
    "name=input()        #将用户的输入存入到name变量中\n",
    "print('hello,',name)#根据用户的名字向用户说hello"
   ]
  },
  {
   "cell_type": "code",
   "execution_count": 36,
   "id": "0efa02fd",
   "metadata": {},
   "outputs": [
    {
     "name": "stdout",
     "output_type": "stream",
     "text": [
      "please enter your name:Tom\n",
      "hello, Tom\n"
     ]
    }
   ],
   "source": [
    "name=input('please enter your name:')#提示信息告诉用户需要输入的内容\n",
    "print('hello,',name)"
   ]
  },
  {
   "cell_type": "markdown",
   "id": "147863d0",
   "metadata": {},
   "source": [
    "## 2.1.3 运算符"
   ]
  },
  {
   "cell_type": "markdown",
   "id": "fd95ab4e",
   "metadata": {},
   "source": [
    "### 1.  运算符的类型 "
   ]
  },
  {
   "cell_type": "markdown",
   "id": "68490518",
   "metadata": {},
   "source": [
    "#### (1)  算数运算符\n",
    "\n",
    "|运算符   | 名称  | 说明 \n",
    "| :-: | :-: | :-: |\n",
    "|+|\t加|\t两个对象相加\n",
    "|-|\t减|\t得到负数或是一个数减去另一个数\n",
    "|*|\t乘|\t两个数相乘或是返回一个被重复若干次的字符串\n",
    "|**|幂|\t返回x的y次幂\n",
    "|/\t|除|\tx除以y\n",
    "|//\t|取整除|\t返回商的整数部分\n",
    "|%\t|取余|\t返回除法的余数\n",
    "\n",
    "**部分示例见下：**"
   ]
  },
  {
   "cell_type": "code",
   "execution_count": 8,
   "id": "4a73648c",
   "metadata": {},
   "outputs": [],
   "source": [
    "a = 8\n",
    "b = 3"
   ]
  },
  {
   "cell_type": "code",
   "execution_count": 9,
   "id": "4b0a4845",
   "metadata": {},
   "outputs": [
    {
     "name": "stdout",
     "output_type": "stream",
     "text": [
      "11\n",
      "5\n",
      "24\n",
      "2.6666666666666665\n",
      "512\n",
      "2\n",
      "2\n"
     ]
    }
   ],
   "source": [
    "print(a+b) #相加\n",
    "print(a-b) #相减\n",
    "print(a*b) #相乘\n",
    "print(a/b) #相除\n",
    "print(a**b) #a的b次幂\n",
    "print(a//b) #取整除（向下取整）\n",
    "print(a%b) #除法的余数"
   ]
  },
  {
   "cell_type": "markdown",
   "id": "025ebb85",
   "metadata": {},
   "source": [
    "#### (2)  比较运算符"
   ]
  },
  {
   "cell_type": "markdown",
   "id": "db7910a7",
   "metadata": {},
   "source": [
    "**所有比较运算符返回1表示真，返回0表示假。这分别与特殊的变量True和False等价  \n",
    "如果两个操作数都是数字，它们应当首先被转换为一个共同的类型，否则它将总是返回False**\n",
    "\n",
    "|运算符   | 名称  | 说明 \n",
    "| :-: | :-: | :-: \n",
    "|<\t|小于|\t返回x是否小于y\n",
    "|>\t|大于|\t返回x是否大于y\n",
    "|<=\t|小于等于|\t返回x是否小于等于y\n",
    "|>=\t|大于等于|\t返回x是否大于等于y\n",
    "|==\t|等于|\t比较对象是否相等\n",
    "|!=\t|不等于|\t比较两个对象是否不相等\n",
    "\n"
   ]
  },
  {
   "cell_type": "code",
   "execution_count": 10,
   "id": "34b6f478",
   "metadata": {},
   "outputs": [],
   "source": [
    "c = 3\n",
    "d = 5\n",
    "e = 7"
   ]
  },
  {
   "cell_type": "code",
   "execution_count": 12,
   "id": "87a0faae",
   "metadata": {},
   "outputs": [
    {
     "name": "stdout",
     "output_type": "stream",
     "text": [
      "True\n",
      "False\n",
      "True\n",
      "False\n",
      "False\n",
      "True\n"
     ]
    }
   ],
   "source": [
    "print(c < d ) \n",
    "print(c > d)\n",
    "print(c <= d)\n",
    "print(c >= e)\n",
    "print(c == d)\n",
    "print(c != e)\n"
   ]
  },
  {
   "cell_type": "markdown",
   "id": "16b85e26",
   "metadata": {},
   "source": [
    "**注：比较可以被任意连接,当多个比较都成立时返回True**"
   ]
  },
  {
   "cell_type": "code",
   "execution_count": 41,
   "id": "8463c506",
   "metadata": {},
   "outputs": [
    {
     "name": "stdout",
     "output_type": "stream",
     "text": [
      "True\n",
      "False\n"
     ]
    }
   ],
   "source": [
    "f = 0\n",
    "print(c<d<e)# 3<5<7两个小于号比较均成立，返回True\n",
    "print(c<d<f)# 3<5<0 第一个小于比较成立，第二个小于比较不成立，返回False"
   ]
  },
  {
   "cell_type": "markdown",
   "id": "fa40e816",
   "metadata": {},
   "source": [
    "#### (3) 逻辑运算符、位运算符、成员运算符\n",
    "\n",
    "**逻辑运算符**\n",
    "\n",
    "假设变量a为10，变量b为20\n",
    "\n",
    "|运算符   | 名称  | 说明 | 例子\n",
    "| :-: | :-: | :-: | :-: |\n",
    "|a and b |\t\"与\"|\t如果 a 为 0（False），a and b 返回 0（False），否则返回 b 的计算值。|\t(a and b) 返回 20。\n",
    "|a or b |\t\"或\" |如果 a 是非 0，返回 a 的计算值，否则返回 b 的计算值。|\t(a or b) 返回 10。\n",
    "|not(a) |\t\"非\"|\t如果 a 为 True，返回 False 。如果 a 为 False，返回 True。|not(a) 返回 False\n",
    " \n",
    "  \n",
    "   \n",
    "   \n",
    "  \n",
    "更多逻辑运算符及布尔逻辑的使用例子可参考1.3.1（4）布尔逻辑中的例子以及该文档：https://blog.csdn.net/qq_39478403/article/details/105654170"
   ]
  },
  {
   "cell_type": "code",
   "execution_count": 13,
   "id": "2ec3719a",
   "metadata": {},
   "outputs": [],
   "source": [
    "x = 10\n",
    "y = 20\n",
    "z = 0"
   ]
  },
  {
   "cell_type": "code",
   "execution_count": 14,
   "id": "9976827f",
   "metadata": {},
   "outputs": [
    {
     "name": "stdout",
     "output_type": "stream",
     "text": [
      "20\n",
      "0\n"
     ]
    }
   ],
   "source": [
    "print(x and y) #x不为0，返回y的值20\n",
    "print(z and y) #z为0（False），返回0（False）"
   ]
  },
  {
   "cell_type": "code",
   "execution_count": 44,
   "id": "674646a2",
   "metadata": {},
   "outputs": [
    {
     "name": "stdout",
     "output_type": "stream",
     "text": [
      "10\n",
      "20\n"
     ]
    }
   ],
   "source": [
    "print(x or y) #x为非0，返回a的值10\n",
    "print(z or y) #z为0，返回y的值20"
   ]
  },
  {
   "cell_type": "code",
   "execution_count": 45,
   "id": "a41f17a5",
   "metadata": {},
   "outputs": [
    {
     "name": "stdout",
     "output_type": "stream",
     "text": [
      "False\n",
      "False\n",
      "True\n"
     ]
    }
   ],
   "source": [
    "print(not x) #x不为0（ 相当于x为True），返回False\n",
    "print(not y)\n",
    "print(not z)#z为0（ 相当于z为False），返回True"
   ]
  },
  {
   "cell_type": "markdown",
   "id": "136fdd14",
   "metadata": {},
   "source": [
    "https://zhuanlan.zhihu.com/p/349989460"
   ]
  },
  {
   "cell_type": "markdown",
   "id": "0181e2b1",
   "metadata": {},
   "source": [
    "**成员运算符**  \n",
    "实例中包含了一系列的成员，包括字符串，列表或元组（相关知识见2.2）\n",
    "\n",
    "|运算符   | 描述  | 实例\n",
    "| :-: | :-: | :-: \n",
    "| in | 如果在指定的序列中找到值返回 True，否则返回 False。|x 在 y 序列中 , 如果 x 在 y 序列中返回 True。\n",
    "| not in | 如果在指定的序列中没有找到值返回 True，否则返回 False。|x 不在 y 序列中 , 如果 x 不在 y 序列中返回 True。"
   ]
  },
  {
   "cell_type": "code",
   "execution_count": 46,
   "id": "e9e7c8b1",
   "metadata": {},
   "outputs": [],
   "source": [
    "a = 10\n",
    "b = 20\n",
    "list1 = [3,9,20]"
   ]
  },
  {
   "cell_type": "code",
   "execution_count": 47,
   "id": "ba878ed6",
   "metadata": {},
   "outputs": [
    {
     "name": "stdout",
     "output_type": "stream",
     "text": [
      "False\n",
      "True\n",
      "True\n",
      "False\n"
     ]
    }
   ],
   "source": [
    "print(a in list1)\n",
    "print(b in list1)\n",
    "print(a not in list1)\n",
    "print(b not in list1)"
   ]
  },
  {
   "cell_type": "markdown",
   "id": "cf0e273a",
   "metadata": {},
   "source": [
    "**位运算符**  \n",
    "把数字看作二进制来进行计算的。 \n",
    "\n",
    "变量 a 为 60，b 为 13，二进制格式如下：  \n",
    "a = 0011 1100  \n",
    "b = 0000 1101\n",
    "\n",
    "使用实例可参考：https://www.runoob.com/python/python-operators.html  \n",
    "Python中的按位运算法则如下,:\n",
    "\n",
    "|运算符   | 描述  | 实例\n",
    "| :-: | :-: | :-: \n",
    "| & | 按位与运算符：参与运算的两个值,如果两个相应位都为1,则该位的结果为1,否则为0 |(a & b) 输出结果 12 ，二进制解释： 0000 1100\n",
    "| \\| | 按位或运算符：只要对应的二个二进位有一个为1时，结果位就为1。 |(a \\| b) 输出结果 61 ，二进制解释： 0011 1101\n",
    "| ^ | 按位异或运算符：当两对应的二进位相异时，结果为1 |\t(a ^ b) 输出结果 49 ，二进制解释： 0011 0001\n",
    "| ~ | 按位取反运算符：对数据的每个二进制位取反,即把1变为0,把0变为1 。~x 类似于 -x-1 |\t(~a ) 输出结果 -61 ，二进制解释： 1100 0011，在一个有符号二进制数的补码形式。\n",
    "| << | 左移动运算符：运算数的各二进位全部左移若干位，由 << 右边的数字指定了移动的位数，高位丢弃，低位补0。|\ta << 2 输出结果 240 ，二进制解释： 1111 0000\n",
    "| >> | 右移动运算符：把\">>\"左边的运算数的各二进位全部右移若干位，>> 右边的数字指定了移动的位数 |\ta >> 2 输出结果 15 ，二进制解释： 0000 1111"
   ]
  },
  {
   "cell_type": "markdown",
   "id": "1e8bf862",
   "metadata": {},
   "source": [
    "### 2.  运算符优先级"
   ]
  },
  {
   "cell_type": "markdown",
   "id": "4c167e4c",
   "metadata": {},
   "source": [
    "**下表给出了Python中的运算符优先级，并按照优先级从高到低排列。**"
   ]
  },
  {
   "cell_type": "markdown",
   "id": "3205e8ec",
   "metadata": {},
   "source": [
    "|运算符 |描述 |\n",
    "| :-: | :-: | \n",
    "|**\t|指数 (最高优先级)\n",
    "|~ + -\t|按位翻转， 一元加号和减号 (最后两个的方法名为 +@ 和 -@)\n",
    "|* / % //\t|乘，除，取模和取整除\n",
    "|+ -|加法减法\n",
    "|>> <<|右移，左移运算符\n",
    "|&\t|位 'AND'\n",
    "|^ &#124; |位运算符\n",
    "|<= < > >=|\t比较运算符\n",
    "|<> == !=|\t等于运算符\n",
    "|= %= /= //= -= += *= **=|\t赋值运算符\n",
    "|is is not|\t身份运算符\n",
    "|in not in|\t成员运算符\n",
    "|not and or|\t逻辑运算符\n"
   ]
  },
  {
   "cell_type": "markdown",
   "id": "5a2bfd43",
   "metadata": {},
   "source": [
    "**如果没有括号，Python会首先计算表中较上面的运算符，然后在再计算列在表较下面的运算符**。因此在书写Python代码时，为了代码的可读性建议使用圆括号来对运算符和操作数进行分组，以便能够明确地指出运算的先后顺序。\n",
    "\n",
    "**例如：**"
   ]
  },
  {
   "cell_type": "code",
   "execution_count": 48,
   "id": "46c33067",
   "metadata": {},
   "outputs": [
    {
     "data": {
      "text/plain": [
       "24"
      ]
     },
     "execution_count": 48,
     "metadata": {},
     "output_type": "execute_result"
    }
   ],
   "source": [
    "12 + 3 * 4 #乘法先进行运算"
   ]
  },
  {
   "cell_type": "code",
   "execution_count": 49,
   "id": "78c31751",
   "metadata": {},
   "outputs": [
    {
     "data": {
      "text/plain": [
       "60"
      ]
     },
     "execution_count": 49,
     "metadata": {},
     "output_type": "execute_result"
    }
   ],
   "source": [
    "(12 + 3) * 4 #有圆括号，先进行加法运算"
   ]
  },
  {
   "cell_type": "markdown",
   "id": "0c39c4cb",
   "metadata": {},
   "source": [
    "**小节练习2：使用运算符完成下列要求：**\n",
    "    \n",
    "    要求：1、计算a和b的平方和 并将结果赋值给变量x\n",
    "          2、计算a和b的和平方 并将结果赋值给变量y\n",
    "          3、判断x是否大于y并输出结果\n",
    "        \n",
    "***考察知识点：变量的赋值、算数运算符和逻辑运算符的使用、运算符优先级（括号的使用）***"
   ]
  },
  {
   "cell_type": "code",
   "execution_count": 50,
   "id": "664783f0",
   "metadata": {},
   "outputs": [
    {
     "name": "stdout",
     "output_type": "stream",
     "text": [
      "False\n"
     ]
    }
   ],
   "source": [
    "a=5\n",
    "b=7\n",
    "#在下面输入你的代码\n",
    "\n",
    "\n",
    "print()#输出结果为False，说明x不大于y"
   ]
  },
  {
   "cell_type": "code",
   "execution_count": null,
   "id": "0c04cec9",
   "metadata": {},
   "outputs": [],
   "source": []
  }
 ],
 "metadata": {
  "kernelspec": {
   "display_name": "Python 3 (ipykernel)",
   "language": "python",
   "name": "python3"
  },
  "language_info": {
   "codemirror_mode": {
    "name": "ipython",
    "version": 3
   },
   "file_extension": ".py",
   "mimetype": "text/x-python",
   "name": "python",
   "nbconvert_exporter": "python",
   "pygments_lexer": "ipython3",
   "version": "3.10.9"
  },
  "toc": {
   "base_numbering": 1,
   "nav_menu": {},
   "number_sections": false,
   "sideBar": true,
   "skip_h1_title": false,
   "title_cell": "Table of Contents",
   "title_sidebar": "Contents",
   "toc_cell": false,
   "toc_position": {},
   "toc_section_display": true,
   "toc_window_display": false
  }
 },
 "nbformat": 4,
 "nbformat_minor": 5
}
