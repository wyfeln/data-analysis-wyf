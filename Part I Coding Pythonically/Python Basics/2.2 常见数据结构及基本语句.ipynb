{
 "cells": [
  {
   "cell_type": "markdown",
   "id": "ac8459ee",
   "metadata": {},
   "source": [
    "## 2.2 常见数据结构和基本语句\n",
    "\n",
    "<img src=\"./imgs/2.2.png\" width=500 height=400>"
   ]
  },
  {
   "cell_type": "markdown",
   "id": "d29146ca",
   "metadata": {},
   "source": [
    "Python中常见的数据结构可以统称为容器。序列（如字符串、列表、元组）、映射（如字典）以及集合（set）是Python中三类主要的容器。"
   ]
  },
  {
   "cell_type": "markdown",
   "id": "b2730264",
   "metadata": {},
   "source": [
    "### 2.2.1 序列"
   ]
  },
  {
   "cell_type": "markdown",
   "id": "4964a0c6",
   "metadata": {},
   "source": [
    "**序列为每个元素都分配一个数字，即它的位置，或称之为索引。序列的索引值由0开始，到(元素的个数-1)结束。序列包括字符串、列表和元组，其中，字符串、元组的内容是不可变的，而列表的内容是可变的。**\n",
    "\n",
    "序列有着相同的访问模式：它的**每一个元素都可以通过它的索引值得到**，而要想**一次得到多个元素**，我们可**通过切片操作实现**。在利用Python解决各种实际问题的过程中，经常会遇到从某个对象中抽取部分值的情况，切片操作正是专门用于完成这一操作的有力武器。理论上而言，只要条件表达式得当，可以通过单次或多次切片操作实现任意切取目标值。\n",
    "\n",
    "切片操作的表达式为：\n",
    "\n",
    "<font size=3><center>&lt;序列&gt;[&lt;起始位置&gt; : &lt;终止位置&gt; : &lt;步长&gt;]。</center></font>\n",
    "\n",
    "下文在介绍不同数据类型的序列时，将给出具体的切片例子进行分析。"
   ]
  },
  {
   "cell_type": "code",
   "execution_count": 1,
   "id": "89eda2a8",
   "metadata": {},
   "outputs": [
    {
     "name": "stdout",
     "output_type": "stream",
     "text": [
      "hello,\"world\"\n",
      "[1, 2, 3, 4, 'hello,world']\n",
      "('hello,world', 2, 3, 4, 5, 6, 7)\n"
     ]
    }
   ],
   "source": [
    "a='hello,\"world\"'              #字符串\n",
    "print(a)\n",
    "b=[1,2,3,4,\"hello,world\"]      #列表\n",
    "print(b)\n",
    "c=('hello,world',2,3,4,5,6,7)  #元组\n",
    "print(c)"
   ]
  },
  {
   "cell_type": "code",
   "execution_count": 2,
   "id": "a1dba688",
   "metadata": {},
   "outputs": [
    {
     "name": "stdout",
     "output_type": "stream",
     "text": [
      "<class 'str'>\n",
      "<class 'list'>\n",
      "<class 'tuple'>\n"
     ]
    }
   ],
   "source": [
    "print(type(a))\n",
    "print(type(b))\n",
    "print(type(c))"
   ]
  },
  {
   "cell_type": "markdown",
   "id": "aab81568",
   "metadata": {},
   "source": [
    "#### 1. 字符串"
   ]
  },
  {
   "cell_type": "markdown",
   "id": "a366b713",
   "metadata": {},
   "source": [
    "字符串是 Python 中最常用的数据类型。我们可以使用引号 ( ' 或 \" ) 来创建字符串。字符串的使用范围很广，包括字符串的运算，利用切片操作取一个字符串的部分字符，字符串的常用函数等。"
   ]
  },
  {
   "cell_type": "code",
   "execution_count": 3,
   "id": "404288df",
   "metadata": {},
   "outputs": [],
   "source": [
    "#创建两个字符串变量\n",
    "var1 = 'Hello'\n",
    "var2 = \"World\""
   ]
  },
  {
   "cell_type": "markdown",
   "id": "9da5da21",
   "metadata": {},
   "source": [
    "##### (1)字符串连接"
   ]
  },
  {
   "cell_type": "markdown",
   "id": "c612ae08",
   "metadata": {},
   "source": [
    "Python中可使用“+”进行字符串的连接操作。在实际应用中，需要将字符串连续相加的应用场景是很少的，常用的操作是将几个字符串进行连接，当有这样的需求时，使用“+”操作符其实是最快的方式。"
   ]
  },
  {
   "cell_type": "code",
   "execution_count": 4,
   "id": "7eda4a79",
   "metadata": {},
   "outputs": [
    {
     "data": {
      "text/plain": [
       "'HelloWorld'"
      ]
     },
     "execution_count": 4,
     "metadata": {},
     "output_type": "execute_result"
    }
   ],
   "source": [
    "#字符串var1和var2通过“+”连接在一起，形成新的字符串s。这个操作称为字符串的连接。\n",
    "var = var1 + var2\n",
    "var"
   ]
  },
  {
   "cell_type": "code",
   "execution_count": 5,
   "id": "620124cc",
   "metadata": {},
   "outputs": [
    {
     "data": {
      "text/plain": [
       "'HelloHello'"
      ]
     },
     "execution_count": 5,
     "metadata": {},
     "output_type": "execute_result"
    }
   ],
   "source": [
    "var1*2 #相当于两个字符串var1相加"
   ]
  },
  {
   "cell_type": "markdown",
   "id": "d703b90e",
   "metadata": {},
   "source": [
    "##### (2) 字符串切片\n",
    "\n",
    "子字符串的提取是基于切片思想进行的，切片思想在Python中具有十分重要的地位。在列表、元组中进行切片操作时，表达形式与下面的示例是相同的，只需将字符串名更换成列表名或者元组名\n",
    "\n",
    "<font size=3><center>&lt;字符串名&gt;[&lt;起始位置&gt; : &lt;终止位置&gt; : &lt;步长&gt;]</center></font>\n",
    "\n",
    "得到从<起始位置>开始，间隔<步长>，到<终止位置>前一个字符结束的字符串。<起始位置>可省略，表示从起始位置为0。<终止位置>可省略，表示终止位置为末尾。<步长>省略表示步长为1，其余步长不能省略。"
   ]
  },
  {
   "cell_type": "code",
   "execution_count": 6,
   "id": "7adf1e4a",
   "metadata": {},
   "outputs": [
    {
     "name": "stdout",
     "output_type": "stream",
     "text": [
      "y\n",
      "Python is \n",
      "Python is \n",
      "a convenient programming tool\n",
      "Pto s\n",
      "loot gnimmargorp tneinevnoc a si nohtyP\n"
     ]
    }
   ],
   "source": [
    "s='Python is a convenient programming tool'\n",
    "print(s[1])        #索引为1的字符\n",
    "print(s[0:10])     #索引为0到10，步长为1到字符串\n",
    "print(s[:10])      #索引为0到10，步长为1的字符串\n",
    "print(s[10:])      #索引为10到结尾，步长为1的字符串\n",
    "print(s[:10:2])    #索引位置由0到10，步长为2的字符串\n",
    "print(s[::-1])     #从起始位置到终止位置的字符，步长为-1"
   ]
  },
  {
   "cell_type": "markdown",
   "id": "f8e4678d",
   "metadata": {},
   "source": [
    "##### (3) 常用的字符串函数"
   ]
  },
  {
   "cell_type": "markdown",
   "id": "678034cd",
   "metadata": {},
   "source": [
    "常用的字符串操作函数及其描述如表所示，其中S为字符串。（注：关于函数的详细介绍在模块2.3）\n",
    "\n",
    "|字符串函数|\t描述\n",
    "| :-: | :-: |\n",
    "S.count('a')| \t返回'a'在字符串中出现的次数\n",
    "S.index('a')| \t返回S中第一个a的索引值，若不存在，则报错\n",
    "S.upper()| 将S中的字母全转换成大写字母\n",
    "S.lower()| \t将S中的字母全转换成小写字母\n",
    "S.find('a')| \t返回S中第一个a的索引值，若不存在，返回-1。\n",
    "S.rfind('a')| \t返回S中最后一个a的索引值\n",
    "S.replace('a'，'e')| \t返回'a'被'e'取代的字符串\n",
    "S.split('a')|  \t以列表的形式返回,S中的a被切割掉\n",
    "s.join(S)| \t用字符串s将字符串中每个元素连接起来形成新的字符串\n",
    "S.strip()| \t删除字符串首尾的空白字符\n",
    "S.lstrip()| \t删除字符串首空白字符\n",
    "S.rstrip()| \t删除字符串尾空白字符\n"
   ]
  },
  {
   "cell_type": "code",
   "execution_count": 2,
   "id": "5e3c863b",
   "metadata": {},
   "outputs": [
    {
     "name": "stdout",
     "output_type": "stream",
     "text": [
      "3\n",
      "11\n",
      "   I LOVE BANANA   \n",
      "-\n",
      "11\n",
      "15\n",
      "   I love Benene   \n",
      "['   I love B', 'n', 'n', '   ']\n",
      " - - -I- -l-o-v-e- -B-a-n-a-n-a- - - \n",
      "I love Banana\n",
      "I love Banana   \n",
      "   I love Banana\n"
     ]
    }
   ],
   "source": [
    "S='   I love Banana   '  #字符串首尾各有三个空格（空白字符）\n",
    "s='-'\n",
    "print(S.count('a'))           #返回’a’在字符串中出现的次数\n",
    "print(S.index('a'))           #返回S中的第一个a的索引值\n",
    "print(S.upper())              #将S中的字母全部换成大写字母\n",
    "print(s.lower())              #将S中的字母全部换成小写字母\n",
    "print(S.find('a'))            #返回S中第一个a的索引值，若不存在，返回-1\n",
    "print(S.rfind('a'))           #返回S中的最后一个a的索引值\n",
    "print(S.replace('a','e'))     #返回’a’被’e’取代的字符串\n",
    "print(S.split('a'))           #以列表的形式返回[‘pl’,’y’],S=’paly’中的a被切割掉\n",
    "print(s.join(S))              #用字符串s将字符串中每个元素链接起来形成新的字符串\n",
    "print(S.strip())              #删除字符串首尾的空白字符\n",
    "print(S.lstrip())             #删除字符串首空白字符\n",
    "print(S.rstrip())             #删除字符串尾空白字符"
   ]
  },
  {
   "cell_type": "markdown",
   "id": "524512d0",
   "metadata": {},
   "source": [
    "上文的字符串操作函数为常用函数，更多的字符串函数可以在单元格中输入dir(str)，notebook将输出所有的字符串操作函数，再输入help(str.函数名)，notebook将对此函数给出详细的解释。"
   ]
  },
  {
   "cell_type": "code",
   "execution_count": 3,
   "id": "4f6d4e70",
   "metadata": {},
   "outputs": [
    {
     "data": {
      "text/plain": [
       "str"
      ]
     },
     "execution_count": 3,
     "metadata": {},
     "output_type": "execute_result"
    }
   ],
   "source": [
    "type(S)"
   ]
  },
  {
   "cell_type": "code",
   "execution_count": 4,
   "id": "db832384",
   "metadata": {
    "scrolled": true
   },
   "outputs": [
    {
     "data": {
      "text/plain": [
       "['__add__',\n",
       " '__class__',\n",
       " '__contains__',\n",
       " '__delattr__',\n",
       " '__dir__',\n",
       " '__doc__',\n",
       " '__eq__',\n",
       " '__format__',\n",
       " '__ge__',\n",
       " '__getattribute__',\n",
       " '__getitem__',\n",
       " '__getnewargs__',\n",
       " '__gt__',\n",
       " '__hash__',\n",
       " '__init__',\n",
       " '__init_subclass__',\n",
       " '__iter__',\n",
       " '__le__',\n",
       " '__len__',\n",
       " '__lt__',\n",
       " '__mod__',\n",
       " '__mul__',\n",
       " '__ne__',\n",
       " '__new__',\n",
       " '__reduce__',\n",
       " '__reduce_ex__',\n",
       " '__repr__',\n",
       " '__rmod__',\n",
       " '__rmul__',\n",
       " '__setattr__',\n",
       " '__sizeof__',\n",
       " '__str__',\n",
       " '__subclasshook__',\n",
       " 'capitalize',\n",
       " 'casefold',\n",
       " 'center',\n",
       " 'count',\n",
       " 'encode',\n",
       " 'endswith',\n",
       " 'expandtabs',\n",
       " 'find',\n",
       " 'format',\n",
       " 'format_map',\n",
       " 'index',\n",
       " 'isalnum',\n",
       " 'isalpha',\n",
       " 'isascii',\n",
       " 'isdecimal',\n",
       " 'isdigit',\n",
       " 'isidentifier',\n",
       " 'islower',\n",
       " 'isnumeric',\n",
       " 'isprintable',\n",
       " 'isspace',\n",
       " 'istitle',\n",
       " 'isupper',\n",
       " 'join',\n",
       " 'ljust',\n",
       " 'lower',\n",
       " 'lstrip',\n",
       " 'maketrans',\n",
       " 'partition',\n",
       " 'replace',\n",
       " 'rfind',\n",
       " 'rindex',\n",
       " 'rjust',\n",
       " 'rpartition',\n",
       " 'rsplit',\n",
       " 'rstrip',\n",
       " 'split',\n",
       " 'splitlines',\n",
       " 'startswith',\n",
       " 'strip',\n",
       " 'swapcase',\n",
       " 'title',\n",
       " 'translate',\n",
       " 'upper',\n",
       " 'zfill']"
      ]
     },
     "execution_count": 4,
     "metadata": {},
     "output_type": "execute_result"
    }
   ],
   "source": [
    "dir(str)"
   ]
  },
  {
   "cell_type": "code",
   "execution_count": 5,
   "id": "15081419",
   "metadata": {},
   "outputs": [
    {
     "name": "stdout",
     "output_type": "stream",
     "text": [
      "Help on method_descriptor:\n",
      "\n",
      "join(self, iterable, /)\n",
      "    Concatenate any number of strings.\n",
      "    \n",
      "    The string whose method is called is inserted in between each given string.\n",
      "    The result is returned as a new string.\n",
      "    \n",
      "    Example: '.'.join(['ab', 'pq', 'rs']) -> 'ab.pq.rs'\n",
      "\n"
     ]
    }
   ],
   "source": [
    "help(str.join)"
   ]
  },
  {
   "cell_type": "markdown",
   "id": "3bef63cf",
   "metadata": {},
   "source": [
    "#### 2.列表"
   ]
  },
  {
   "cell_type": "markdown",
   "id": "6954a0bd",
   "metadata": {},
   "source": [
    "列表是Python中最基本的数据结构，是对象的有序集合，列表中内容是可以修改的，其长度也是可变的。\n",
    "\n",
    "列表的定义： \n",
    "<font size=3><center>&lt;列表名称&gt; = [&lt;列表项1&gt;,&lt;列表项2&gt;,……,&lt;列表项n&gt;]</center></font>\n",
    "\n",
    "***(1) 创建一个列表***\n",
    "\n",
    "多个列表项用逗号隔开，它们的类型可以相同，也可以不同，还可以是其它列表。\n",
    "例如："
   ]
  },
  {
   "cell_type": "code",
   "execution_count": 6,
   "id": "7fd6906c",
   "metadata": {},
   "outputs": [],
   "source": [
    "date = [2019,11,25,10,59]\n",
    "day = ['sun','mon','tue','wed','thi','fri','sat']\n",
    "today = [2019,11,25,'sun']\n",
    "data=[date,day]"
   ]
  },
  {
   "cell_type": "code",
   "execution_count": 7,
   "id": "efcb8588",
   "metadata": {},
   "outputs": [
    {
     "name": "stdout",
     "output_type": "stream",
     "text": [
      "[2019, 11, 25, 10, 59]\n",
      "['sun', 'mon', 'tue', 'wed', 'thi', 'fri', 'sat']\n",
      "[2019, 11, 25, 'sun']\n",
      "[[2019, 11, 25, 10, 59], ['sun', 'mon', 'tue', 'wed', 'thi', 'fri', 'sat']]\n"
     ]
    }
   ],
   "source": [
    "print(date)\n",
    "print(day)\n",
    "print(today)\n",
    "print(data)"
   ]
  },
  {
   "cell_type": "code",
   "execution_count": 8,
   "id": "fbfeb4a2",
   "metadata": {},
   "outputs": [
    {
     "data": {
      "text/plain": [
       "'mon'"
      ]
     },
     "execution_count": 8,
     "metadata": {},
     "output_type": "execute_result"
    }
   ],
   "source": [
    "data[1][1]"
   ]
  },
  {
   "cell_type": "markdown",
   "id": "b8c1b833",
   "metadata": {},
   "source": [
    "***(2) 访问列表中的值***\n",
    "\n",
    "与字符串的索引一样，列表索引从0开始。"
   ]
  },
  {
   "cell_type": "code",
   "execution_count": 12,
   "id": "e1c71a34",
   "metadata": {},
   "outputs": [
    {
     "name": "stdout",
     "output_type": "stream",
     "text": [
      "2019\n",
      "wed\n"
     ]
    }
   ],
   "source": [
    "#通过使用索引来访问列表中的值\n",
    "print(date[0])\n",
    "\n",
    "#输出date中索引为1的day中索引为3的值\n",
    "print(data[1][3])           "
   ]
  },
  {
   "cell_type": "markdown",
   "id": "eab7d65f",
   "metadata": {},
   "source": [
    "##### (3) 更新列表\n",
    "格式：\n",
    "<font size=3><center>列表名[索引] = 更新值</center></font>"
   ]
  },
  {
   "cell_type": "code",
   "execution_count": 9,
   "id": "2741970b",
   "metadata": {},
   "outputs": [
    {
     "name": "stdout",
     "output_type": "stream",
     "text": [
      "list1中索引值为2的值: 2019\n",
      "list1中索引值为2的修改值 2018\n"
     ]
    }
   ],
   "source": [
    "list1=['python','tensorflow',2019,2020]\n",
    "print('list1中索引值为2的值:',list1[2])\n",
    "\n",
    "#更新列表：对列表的数据项目进行修改或更新\n",
    "#直接改变列表指定位置上的值\n",
    "list1[2]=2018 \n",
    "print('list1中索引值为2的修改值',list1[2])"
   ]
  },
  {
   "cell_type": "markdown",
   "id": "b8056b3c",
   "metadata": {},
   "source": [
    "***(4) 删除列表元素***\n",
    "\n",
    "可以使用 del 语句来直接删除列表的元素。"
   ]
  },
  {
   "cell_type": "code",
   "execution_count": 14,
   "id": "46fea800",
   "metadata": {},
   "outputs": [
    {
     "name": "stdout",
     "output_type": "stream",
     "text": [
      "删除索引值为2的值前的列表为： ['python', 'tensorflow', 2018, 2020]\n",
      "删除索引值为2的值后的列表为： ['python', 'tensorflow', 2020]\n"
     ]
    }
   ],
   "source": [
    "print('删除索引值为2的值前的列表为：',list1)\n",
    "\n",
    "#删除列表元素\n",
    "del list1[2]\n",
    "print('删除索引值为2的值后的列表为：',list1)\n"
   ]
  },
  {
   "cell_type": "markdown",
   "id": "d07bc3cd",
   "metadata": {},
   "source": [
    "***(5) Python列表的基本操作符***\n",
    "\n",
    "|Python表达式|结果\t|描述\n",
    "| :-: | :-: | :-: |\n",
    "len([1， 2， 3])|\t3\t|长度\n",
    "[1， 2， 3] + [4， 5， 6]\t|[1， 2， 3， 4， 5， 6]\t|组合\n",
    "['Hi!'] * 4\t|['Hi!'， 'Hi!'， 'Hi!'， 'Hi!']\t|重复\n",
    "3 in [1， 2， 3]|\tTrue\t|元素是否存在于列表中\n"
   ]
  },
  {
   "cell_type": "markdown",
   "id": "2e3ca30e",
   "metadata": {},
   "source": [
    "***(6) 列表切片***  \n",
    "\n",
    "Python的列表切片与字符串操作类型相似。\n",
    "\n",
    "列表为：L = ['a'， 'b'， 'c']，进行截取操作："
   ]
  },
  {
   "cell_type": "code",
   "execution_count": 10,
   "id": "69c4e9a4",
   "metadata": {},
   "outputs": [
    {
     "name": "stdout",
     "output_type": "stream",
     "text": [
      "c\n",
      "['c', 'e']\n",
      "['c', 'f']\n",
      "['f', 'e', 'c', 'b', 'a']\n"
     ]
    }
   ],
   "source": [
    "L = ['a','b','c','e','f']\n",
    "print(L[2])\n",
    "print(L[2:-1])\n",
    "print(L[2::2])\n",
    "print(L[::-1])"
   ]
  },
  {
   "cell_type": "markdown",
   "id": "57e28fa6",
   "metadata": {},
   "source": [
    "***(7) 列表操作的函数和方法***  \n",
    "\n",
    "列表操作包含以下函数:\n",
    "\n",
    "|函数名\t|描述\t|函数名|\t描述\n",
    "| :-: | :-: | :-: | :-: |\n",
    "len(list)|\t列表元素个数|\tmin(list)\t|返回列表元素最小值\n",
    "max(list)\t|返回列表元素最大值\t|list(seq)|\t将元组转换为列表\n",
    "\n",
    "\n",
    "列表操作包含以下方法:  \n",
    "\n",
    "|列表操作方法|\t描述\n",
    "| :-: | :-: |\n",
    "list.append(obj)|\t在列表末尾添加新的对象\n",
    "list.count(obj)\t|统计某个元素在列表中出现的次数\n",
    "list.extend(seq)\t|在列表末尾一次性追加另一个序列中的多个值（用新列表扩展原来的列表）\n",
    "list.index(obj)\t|从列表中找出某个值第一个匹配项的索引位置\n",
    "list.insert(index， obj)|\t将对象插入列表\n",
    "list.pop(obj=list[-1])|\t移除列表中的一个元素（默认最后一个元素），并且返回该元素的值\n",
    "list.remove(obj)|\t移除列表中某个值的第一个匹配项\n",
    "list.reverse()|\t反向列表中元素\n",
    "list.sort([func])|\t对原列表进行排序\n"
   ]
  },
  {
   "cell_type": "code",
   "execution_count": 11,
   "id": "c6b06546",
   "metadata": {},
   "outputs": [
    {
     "data": {
      "text/plain": [
       "['a', 'b', 'c', 'e', 'f']"
      ]
     },
     "execution_count": 11,
     "metadata": {},
     "output_type": "execute_result"
    }
   ],
   "source": [
    "L"
   ]
  },
  {
   "cell_type": "code",
   "execution_count": 12,
   "id": "09c918c1",
   "metadata": {},
   "outputs": [],
   "source": [
    "L.append('d')"
   ]
  },
  {
   "cell_type": "code",
   "execution_count": 13,
   "id": "bbd2b34c",
   "metadata": {},
   "outputs": [
    {
     "data": {
      "text/plain": [
       "['a', 'b', 'c', 'e', 'f', 'd']"
      ]
     },
     "execution_count": 13,
     "metadata": {},
     "output_type": "execute_result"
    }
   ],
   "source": [
    "L"
   ]
  },
  {
   "cell_type": "markdown",
   "id": "c392a803",
   "metadata": {},
   "source": [
    "#### 3. 元组\n",
    "\n",
    "元组和列表十分类似，**区别在于元组的内容是不可修改的，而用户可以对列表中的元素进行修改。**\n",
    "\n",
    "**元组的创建格式：**\n",
    "<font size = 4><center> 元组名 = (项1,项2,……) </center></font>"
   ]
  },
  {
   "cell_type": "code",
   "execution_count": 16,
   "id": "3a8a0e3c",
   "metadata": {},
   "outputs": [
    {
     "name": "stdout",
     "output_type": "stream",
     "text": [
      "Number of flowers in the garden is 6\n",
      "flower 2 is rose\n",
      "('rose', 'lotus')\n",
      "('rose', 'lotus', 'Sunflower')\n",
      "('Sunflower', 'olive', 'lotus', 'tulip', 'rose', 'Bird of Paradise')\n"
     ]
    }
   ],
   "source": [
    "#创建一个元组\n",
    "garden=('Bird of Paradise','rose','tulip','lotus','olive','Sunflower')\n",
    "\n",
    "#统计元组中项的个数\n",
    "print('Number of flowers in the garden is',len(garden))\n",
    "\n",
    "#元组的切片 输出元组中第二项（索引为1）的内容\n",
    "i=2\n",
    "print('flower',i,'is',garden[i-1])\n",
    "\n",
    "print(garden[1:-1:2])\n",
    "print(garden[1::2])\n",
    "print(garden[::-1])\n"
   ]
  },
  {
   "cell_type": "markdown",
   "id": "d1e93d80",
   "metadata": {},
   "source": [
    "元组数据也可以进行诸多运算：\n",
    "\n",
    "|运算格式/举例\t|说明/结果\n",
    "| :-: | :-: \n",
    "T1=()\t|空元组\n",
    "T2=(2019，)|\t有一项的元组\t\n",
    "T3=(2019， 2， 9， 19， 54)|\t5项，整数元组，索引号0-4\t\n",
    "T4= ('sun'，('mon'，'tue'，'wed'))\t|2项，嵌套的元组\t\n",
    "T3[i]，T4[i][j]\t|索引，T3[1]的值为2，T4[1][1]的值为'tue'\t\n",
    "T3[i:j]\t|切片，取i到j-1的项\n",
    "|\tLen(T3)\t|求元组的长度\n",
    "|T3+T4\t|合并\n",
    "|T3*3\t|重复，T3重复3次\n",
    "|for x in T3\t|循环，x取T3中的每个成员执行循环体\n",
    "|19 in T3\t|19是否是L2的成员"
   ]
  },
  {
   "cell_type": "code",
   "execution_count": 17,
   "id": "35a7490c",
   "metadata": {},
   "outputs": [
    {
     "ename": "TypeError",
     "evalue": "'tuple' object does not support item assignment",
     "output_type": "error",
     "traceback": [
      "\u001b[1;31m---------------------------------------------------------------------------\u001b[0m",
      "\u001b[1;31mTypeError\u001b[0m                                 Traceback (most recent call last)",
      "Input \u001b[1;32mIn [17]\u001b[0m, in \u001b[0;36m<cell line: 1>\u001b[1;34m()\u001b[0m\n\u001b[1;32m----> 1\u001b[0m garden[\u001b[38;5;241m1\u001b[39m] \u001b[38;5;241m=\u001b[39m \u001b[38;5;124m'\u001b[39m\u001b[38;5;124mhua\u001b[39m\u001b[38;5;124m'\u001b[39m\n",
      "\u001b[1;31mTypeError\u001b[0m: 'tuple' object does not support item assignment"
     ]
    }
   ],
   "source": [
    "garden[1] = 'hua' #元组内容不可修改"
   ]
  },
  {
   "cell_type": "markdown",
   "id": "e9947ab3",
   "metadata": {},
   "source": [
    "### 2.2.2 字典（dict）"
   ]
  },
  {
   "cell_type": "markdown",
   "id": "61db2c5c",
   "metadata": {},
   "source": [
    "**字典是无序对象的集合，通过键值对进行操作，其中键不能重复**。类似于通讯录，通过姓名来查找电话、地址等信息，其中姓名就是键，而电话、地址就是姓名对应的值。但与通讯录不同，字典中要求一定要没有同名的人，即键不能重复。  \n",
    "\n",
    "字典的定义为：\n",
    "\n",
    "<font size = 3><center>&lt;字典名&gt;={键1:值2，键2:值2，键3:值3，…}</center></font>\n",
    "    \n",
    "其中，键1，键2，键3各不相同且必须是独一无二的，而值可以是包括元组和列表的任何类型的数据。字典定义中使用的是大括号，键值对通过逗号隔开，键和值之间用冒号隔开。注意：**字典中的键只能执行增加和删除操作，不能对其修改，而字典中的值可以进行修改**。"
   ]
  },
  {
   "cell_type": "markdown",
   "id": "01fd438f",
   "metadata": {},
   "source": [
    "#### 1. 创建字典"
   ]
  },
  {
   "cell_type": "code",
   "execution_count": 18,
   "id": "60863c8b",
   "metadata": {},
   "outputs": [
    {
     "data": {
      "text/plain": [
       "{'Name': 'Wang', 'Age': 10, 'class': 'old'}"
      ]
     },
     "execution_count": 18,
     "metadata": {},
     "output_type": "execute_result"
    }
   ],
   "source": [
    "dict1={'Name':'Wang','Age':10,'class':'old'}\n",
    "dict1"
   ]
  },
  {
   "cell_type": "markdown",
   "id": "36ae06ce",
   "metadata": {},
   "source": [
    "#### 2. 增加键值对\n",
    "给刚刚创建的字典中增加一个新的键值对，用“字典名[键] = 值”的语句即可"
   ]
  },
  {
   "cell_type": "code",
   "execution_count": 19,
   "id": "daa43d6c",
   "metadata": {},
   "outputs": [
    {
     "data": {
      "text/plain": [
       "{'Name': 'Wang', 'Age': 10, 'class': 'old', 'grade': 95}"
      ]
     },
     "execution_count": 19,
     "metadata": {},
     "output_type": "execute_result"
    }
   ],
   "source": [
    "dict1['grade']=95\n",
    "dict1"
   ]
  },
  {
   "cell_type": "code",
   "execution_count": 20,
   "id": "5bf6c353",
   "metadata": {},
   "outputs": [
    {
     "data": {
      "text/plain": [
       "{'Name': 'Wang', 'Age': 10, 'class': 'old', 'grade': 'woman', 'sex': 'man'}"
      ]
     },
     "execution_count": 20,
     "metadata": {},
     "output_type": "execute_result"
    }
   ],
   "source": [
    "#由于一个key只能对应一个value\n",
    "#所以多次对一个key放入value，后面的值会把前面的值冲掉\n",
    "dict1['sex']='man'\n",
    "dict1['grade']='woman'\n",
    "dict1"
   ]
  },
  {
   "cell_type": "markdown",
   "id": "04d1af33",
   "metadata": {},
   "source": [
    "#### 3. 访问字典的值\n",
    "要访问字典中键对应的值，使用“字典名[键]”即可\n",
    "\n",
    "如果用字典里没有的键访问，会提示错误"
   ]
  },
  {
   "cell_type": "code",
   "execution_count": 21,
   "id": "05a90d29",
   "metadata": {},
   "outputs": [
    {
     "name": "stdout",
     "output_type": "stream",
     "text": [
      "dict1['Name']: Wang\n"
     ]
    }
   ],
   "source": [
    "print(\"dict1['Name']:\",dict1['Name'])"
   ]
  },
  {
   "cell_type": "code",
   "execution_count": 22,
   "id": "0bd84ac6",
   "metadata": {},
   "outputs": [
    {
     "ename": "KeyError",
     "evalue": "'Li'",
     "output_type": "error",
     "traceback": [
      "\u001b[1;31m---------------------------------------------------------------------------\u001b[0m",
      "\u001b[1;31mKeyError\u001b[0m                                  Traceback (most recent call last)",
      "Input \u001b[1;32mIn [22]\u001b[0m, in \u001b[0;36m<cell line: 1>\u001b[1;34m()\u001b[0m\n\u001b[1;32m----> 1\u001b[0m \u001b[38;5;28mprint\u001b[39m(\u001b[38;5;124m\"\u001b[39m\u001b[38;5;124mdict1[\u001b[39m\u001b[38;5;124m'\u001b[39m\u001b[38;5;124mLi\u001b[39m\u001b[38;5;124m'\u001b[39m\u001b[38;5;124m]:\u001b[39m\u001b[38;5;124m\"\u001b[39m,\u001b[43mdict1\u001b[49m\u001b[43m[\u001b[49m\u001b[38;5;124;43m'\u001b[39;49m\u001b[38;5;124;43mLi\u001b[39;49m\u001b[38;5;124;43m'\u001b[39;49m\u001b[43m]\u001b[49m)\n",
      "\u001b[1;31mKeyError\u001b[0m: 'Li'"
     ]
    }
   ],
   "source": [
    "print(\"dict1['Li']:\",dict1['Li']) #字典里没有的键，报错"
   ]
  },
  {
   "cell_type": "markdown",
   "id": "5beb69af",
   "metadata": {},
   "source": [
    "**要避免key不存在的错误，有两种办法：**\n",
    "\n",
    "方法1：通过in判断key是否存在。  \n",
    "方法2：通过dict提供的get()方法，如果key不存在，可以返回None，或者自己指定的value。"
   ]
  },
  {
   "cell_type": "code",
   "execution_count": 23,
   "id": "3974e683",
   "metadata": {},
   "outputs": [
    {
     "name": "stdout",
     "output_type": "stream",
     "text": [
      "False\n",
      "-1\n"
     ]
    }
   ],
   "source": [
    "print('family' in dict1 )\n",
    "print(dict1.get('family',-1)) #'family'不存在，返回-1"
   ]
  },
  {
   "cell_type": "code",
   "execution_count": 24,
   "id": "eaeb6621",
   "metadata": {},
   "outputs": [
    {
     "name": "stdout",
     "output_type": "stream",
     "text": [
      "True\n",
      "Wang\n"
     ]
    }
   ],
   "source": [
    "print('Name' in dict1 )\n",
    "print(dict1.get('Name',-1)) #'Name'不存在，返回值Wang"
   ]
  },
  {
   "cell_type": "markdown",
   "id": "7a9fb834",
   "metadata": {},
   "source": [
    "#### 4. 修改字典的值\n",
    "\n",
    "字典中的键是不能修改的，但值是可以修改的，**使用“字典名[键] = 修改值”**即可"
   ]
  },
  {
   "cell_type": "code",
   "execution_count": 25,
   "id": "fa8755a8",
   "metadata": {},
   "outputs": [
    {
     "data": {
      "text/plain": [
       "{'Name': 'Wang', 'Age': 10, 'class': 'old', 'grade': 100, 'sex': 'man'}"
      ]
     },
     "execution_count": 25,
     "metadata": {},
     "output_type": "execute_result"
    }
   ],
   "source": [
    "dict1['grade']=100\n",
    "dict1"
   ]
  },
  {
   "cell_type": "markdown",
   "id": "2ba9da8a",
   "metadata": {},
   "source": [
    "#### 5. 删除字典元素\n",
    "删除字典元素可以选择删除某一键值对，也可以清空整个字典。\n",
    "    \n",
    "    1.删除某一键值对可使用“del 字典名[键]”,或字典名.pop('键名')\n",
    "    2.若要清空整个字典可以使用“del 字典名”或者字典名.clear()语句。\n",
    "\n",
    "示例代码如下："
   ]
  },
  {
   "cell_type": "code",
   "execution_count": 26,
   "id": "54925bec",
   "metadata": {},
   "outputs": [
    {
     "name": "stdout",
     "output_type": "stream",
     "text": [
      "{'Age': 10, 'class': 'old'}\n"
     ]
    }
   ],
   "source": [
    "dict2={'Name':'Wang','Age':10,'class':'old'}\n",
    "del dict2['Name']    #删除键是'Name'的键值对\n",
    "print(dict2)"
   ]
  },
  {
   "cell_type": "code",
   "execution_count": 27,
   "id": "88b356b0",
   "metadata": {},
   "outputs": [
    {
     "data": {
      "text/plain": [
       "'Wang'"
      ]
     },
     "execution_count": 27,
     "metadata": {},
     "output_type": "execute_result"
    }
   ],
   "source": [
    "#D.pop(key，default),删除字典给定key所对应的值，返回被删除值，否则返回default值\n",
    "dict2={'Name':'Wang','Age':10,'class':'old'}\n",
    "dict2.pop('Name') #返回被删除值"
   ]
  },
  {
   "cell_type": "code",
   "execution_count": 28,
   "id": "492c7ed6",
   "metadata": {},
   "outputs": [
    {
     "data": {
      "text/plain": [
       "{'Age': 10, 'class': 'old'}"
      ]
     },
     "execution_count": 28,
     "metadata": {},
     "output_type": "execute_result"
    }
   ],
   "source": [
    "dict2 #Name-wang 键值对已删除"
   ]
  },
  {
   "cell_type": "markdown",
   "id": "9c1589d8",
   "metadata": {},
   "source": [
    " ##### “del 字典名”和字典名.clear()语句在清空整个字典时的区别:"
   ]
  },
  {
   "cell_type": "code",
   "execution_count": 29,
   "id": "5ef7e37d",
   "metadata": {},
   "outputs": [
    {
     "name": "stdout",
     "output_type": "stream",
     "text": [
      "{}\n"
     ]
    }
   ],
   "source": [
    "dict1={'Name':'wang','Age':50,'Class':'old'}\n",
    "dict1.clear()       #清空词典所有条目，变成空字典\n",
    "print(dict1)"
   ]
  },
  {
   "cell_type": "code",
   "execution_count": 30,
   "id": "2eac172f",
   "metadata": {},
   "outputs": [
    {
     "ename": "NameError",
     "evalue": "name 'dict1' is not defined",
     "output_type": "error",
     "traceback": [
      "\u001b[1;31m---------------------------------------------------------------------------\u001b[0m",
      "\u001b[1;31mNameError\u001b[0m                                 Traceback (most recent call last)",
      "Input \u001b[1;32mIn [30]\u001b[0m, in \u001b[0;36m<cell line: 3>\u001b[1;34m()\u001b[0m\n\u001b[0;32m      1\u001b[0m dict1\u001b[38;5;241m=\u001b[39m{\u001b[38;5;124m'\u001b[39m\u001b[38;5;124mName\u001b[39m\u001b[38;5;124m'\u001b[39m:\u001b[38;5;124m'\u001b[39m\u001b[38;5;124mwang\u001b[39m\u001b[38;5;124m'\u001b[39m,\u001b[38;5;124m'\u001b[39m\u001b[38;5;124mAge\u001b[39m\u001b[38;5;124m'\u001b[39m:\u001b[38;5;241m50\u001b[39m,\u001b[38;5;124m'\u001b[39m\u001b[38;5;124mClass\u001b[39m\u001b[38;5;124m'\u001b[39m:\u001b[38;5;124m'\u001b[39m\u001b[38;5;124mold\u001b[39m\u001b[38;5;124m'\u001b[39m}\n\u001b[0;32m      2\u001b[0m \u001b[38;5;28;01mdel\u001b[39;00m dict1 \u001b[38;5;66;03m#将变量dict1删除\u001b[39;00m\n\u001b[1;32m----> 3\u001b[0m \u001b[38;5;28mprint\u001b[39m(\u001b[43mdict1\u001b[49m)\n",
      "\u001b[1;31mNameError\u001b[0m: name 'dict1' is not defined"
     ]
    }
   ],
   "source": [
    "dict1={'Name':'wang','Age':50,'Class':'old'}\n",
    "del dict1 #将变量dict1删除\n",
    "print(dict1)"
   ]
  },
  {
   "cell_type": "markdown",
   "id": "5c1de8e7",
   "metadata": {},
   "source": [
    "#### 6. 字典健的特性\n",
    "\n",
    "字典值可以取出用户想要的任何Python对象，既可以是标准的对象，也可以是用户自定义的对象，但键在取值时有以下约束条件：\n",
    "\n",
    "**①不允许同一个键出现两次。创建时如果同一个键被赋值两次，系统会默认指定最后一个值，示例代码如下：**"
   ]
  },
  {
   "cell_type": "code",
   "execution_count": 31,
   "id": "455557e9",
   "metadata": {},
   "outputs": [
    {
     "name": "stdout",
     "output_type": "stream",
     "text": [
      "dict1['Name']: Li\n"
     ]
    }
   ],
   "source": [
    "dict1={'Name':'wang','Age':50,'Name':'Li'}\n",
    "print(\"dict1['Name']:\",dict1['Name'])"
   ]
  },
  {
   "cell_type": "markdown",
   "id": "36d3b966",
   "metadata": {},
   "source": [
    "**②键必须不可变，键可以用数、字符串或元组充当，但是不可以用列表，示例代码如下：**"
   ]
  },
  {
   "cell_type": "code",
   "execution_count": 32,
   "id": "d46cbd07",
   "metadata": {},
   "outputs": [
    {
     "ename": "TypeError",
     "evalue": "unhashable type: 'list'",
     "output_type": "error",
     "traceback": [
      "\u001b[1;31m---------------------------------------------------------------------------\u001b[0m",
      "\u001b[1;31mTypeError\u001b[0m                                 Traceback (most recent call last)",
      "Input \u001b[1;32mIn [32]\u001b[0m, in \u001b[0;36m<cell line: 1>\u001b[1;34m()\u001b[0m\n\u001b[1;32m----> 1\u001b[0m dict1\u001b[38;5;241m=\u001b[39m{[\u001b[38;5;124m'\u001b[39m\u001b[38;5;124mName\u001b[39m\u001b[38;5;124m'\u001b[39m]:\u001b[38;5;124m'\u001b[39m\u001b[38;5;124mwang\u001b[39m\u001b[38;5;124m'\u001b[39m,\u001b[38;5;124m'\u001b[39m\u001b[38;5;124mAge\u001b[39m\u001b[38;5;124m'\u001b[39m:\u001b[38;5;241m50\u001b[39m}\n\u001b[0;32m      2\u001b[0m \u001b[38;5;28mprint\u001b[39m(\u001b[38;5;124m\"\u001b[39m\u001b[38;5;124mdict1[\u001b[39m\u001b[38;5;124m'\u001b[39m\u001b[38;5;124mName\u001b[39m\u001b[38;5;124m'\u001b[39m\u001b[38;5;124m]:\u001b[39m\u001b[38;5;124m\"\u001b[39m,dict1[\u001b[38;5;124m'\u001b[39m\u001b[38;5;124mName\u001b[39m\u001b[38;5;124m'\u001b[39m])\n",
      "\u001b[1;31mTypeError\u001b[0m: unhashable type: 'list'"
     ]
    }
   ],
   "source": [
    "dict1={['Name']:'wang','Age':50}\n",
    "print(\"dict1['Name']:\",dict1['Name'])"
   ]
  },
  {
   "cell_type": "markdown",
   "id": "960e44ab",
   "metadata": {},
   "source": [
    "#### 7. 字典内置函数和方法\n",
    "Python字典包含了以下内置函数：\n",
    "\n",
    "|字典内置函数|\t描述\n",
    "| :-: | :-: | \n",
    "len(D)|\t计算字典D元素个数，即键的总数\n",
    "str(D)\t|输出字典D可打印的字符串表示\n",
    "type(D)\t|返回输入的变量类型，如果变量是字典就返回字典类型\n",
    "\n",
    "Python字典包含了以下内置方法：\n",
    "\n",
    "|字典内置方法|\t描述\n",
    "| :-: | :-: | \n",
    "D.clear()|\t删除字典D内所有元素\n",
    "D.copy()\t|返回一个字典D的浅复制\n",
    "D.fromkeys(seq,[value])\t|创建一个新字典，以序列seq中元素做字典的键，value为字典所有键对应的初始值\n",
    "D.get(key， default)\t|返回指定键的值，若值不在字典返回default值\n",
    "D.items()|\t以列表返回可遍历的(键， 值) 元组数组\n",
    "D.keys()|\t以列表返回一个字典所有的键\n",
    "D.setdefault(key，default=None)\t|和get()类似， 但如果键不已经存在于字典中，将会添加键并将值设为default\n",
    "D.update(dict2)\t|把字典dict2的键/值对更新到dict里\n",
    "D.values()\t|以列表返回字典中的所有值\n",
    "D.pop(key，default)|\t删除字典给定key所对应的值，返回被删除值，否则返回default值"
   ]
  },
  {
   "cell_type": "code",
   "execution_count": 33,
   "id": "d7ae8fe0",
   "metadata": {},
   "outputs": [
    {
     "data": {
      "text/plain": [
       "{'Name': 'wang', 'Age': 50, 'Class': 'old'}"
      ]
     },
     "execution_count": 33,
     "metadata": {},
     "output_type": "execute_result"
    }
   ],
   "source": [
    "dict1={'Name':'wang','Age':50,'Class':'old'}\n",
    "dict1"
   ]
  },
  {
   "cell_type": "code",
   "execution_count": 34,
   "id": "42fbc42e",
   "metadata": {},
   "outputs": [
    {
     "data": {
      "text/plain": [
       "3"
      ]
     },
     "execution_count": 34,
     "metadata": {},
     "output_type": "execute_result"
    }
   ],
   "source": [
    "len(dict1) #计算字典dict1元素个数"
   ]
  },
  {
   "cell_type": "code",
   "execution_count": 35,
   "id": "fafa22f6",
   "metadata": {},
   "outputs": [
    {
     "data": {
      "text/plain": [
       "\"{'Name': 'wang', 'Age': 50, 'Class': 'old'}\""
      ]
     },
     "execution_count": 35,
     "metadata": {},
     "output_type": "execute_result"
    }
   ],
   "source": [
    "str(dict1) #输出字典D可打印的字符串表示"
   ]
  },
  {
   "cell_type": "code",
   "execution_count": 36,
   "id": "caebf6b3",
   "metadata": {},
   "outputs": [
    {
     "data": {
      "text/plain": [
       "dict"
      ]
     },
     "execution_count": 36,
     "metadata": {},
     "output_type": "execute_result"
    }
   ],
   "source": [
    "type(dict1) #返回变量类型，返回字典类型"
   ]
  },
  {
   "cell_type": "code",
   "execution_count": 37,
   "id": "67630dc6",
   "metadata": {},
   "outputs": [
    {
     "data": {
      "text/plain": [
       "dict_keys(['Name', 'Age', 'Class'])"
      ]
     },
     "execution_count": 37,
     "metadata": {},
     "output_type": "execute_result"
    }
   ],
   "source": [
    "dict1.keys() #以列表返回一个字典所有的键"
   ]
  },
  {
   "cell_type": "code",
   "execution_count": 38,
   "id": "9fd4aa39",
   "metadata": {},
   "outputs": [
    {
     "data": {
      "text/plain": [
       "dict_values(['wang', 50, 'old'])"
      ]
     },
     "execution_count": 38,
     "metadata": {},
     "output_type": "execute_result"
    }
   ],
   "source": [
    "dict1.values() #以列表返回一个字典所有的值"
   ]
  },
  {
   "cell_type": "code",
   "execution_count": 39,
   "id": "f612ab41",
   "metadata": {},
   "outputs": [
    {
     "data": {
      "text/plain": [
       "dict_items([('Name', 'wang'), ('Age', 50), ('Class', 'old')])"
      ]
     },
     "execution_count": 39,
     "metadata": {},
     "output_type": "execute_result"
    }
   ],
   "source": [
    "dict1.items() #以列表返回可遍历的(键， 值) 元组数组"
   ]
  },
  {
   "cell_type": "markdown",
   "id": "9fd2649a",
   "metadata": {},
   "source": [
    "#### 8. 字典（dict）的特点\n",
    "\n",
    "**字典的特点在于使用键-值（key-value）存储，具有极快的查找速度。**\n",
    "\n",
    "给定一个名字，要查找对应的成绩，就先要在names中找到对应的位置，再从scores取出对应的成绩，list越长，耗时越长。如果用dict实现，只需要一个”名字”-”成绩”的对照表，直接根据名字查找成绩，无论这个表有多大，查找速度相比列表而言会快很多。"
   ]
  },
  {
   "cell_type": "code",
   "execution_count": 40,
   "id": "07ff904d",
   "metadata": {},
   "outputs": [
    {
     "data": {
      "text/plain": [
       "95"
      ]
     },
     "execution_count": 40,
     "metadata": {},
     "output_type": "execute_result"
    }
   ],
   "source": [
    "#假设要根据同学的名字查找对应的成绩，如果用list实现，需要两个list\n",
    "names=['Machael','Bob','Tracy']\n",
    "scores=[95,75,85]\n",
    "#使用dict实现，只需要一个dict\n",
    "d={'Micheal':95,'Bob':75,'Tracy':85}\n",
    "d['Micheal']"
   ]
  },
  {
   "cell_type": "markdown",
   "id": "4f094dfa",
   "metadata": {},
   "source": [
    "为什么dict查找速度会比列表快很多？想象一下小学时候查字典，假设字典包含了1万个汉字，我们要查某一个字，一种办法是把字典从第一页往后翻，直到找到我们想要的字为止，这种方法就是在list中查找元素的方法，字典越大我们找到想要找的那个字就会越慢。\n",
    "\n",
    "第二种方法是**先在字典的索引表里（比如部首表）查这个字对应的页码，然后直接翻到该页，找到这个字，无论找哪个字，这种查找速度都非常快，不会随着字典大小的增加而变慢。这种方法就是dict的实现方式**，给定一个名字，比如'Tracy'，dict在内部就可以直接计算出Tracy对应的存放成绩的”页码”，也就是85这个数字存放的内存地址，直接取出来，所以速度非常快。这种key-value存储方式，在放进去的时候，必须根据key算出value的存放位置，这样，取的时候才能根据key直接拿到value。"
   ]
  },
  {
   "cell_type": "markdown",
   "id": "f9940d47",
   "metadata": {},
   "source": [
    "**小节练习3：列表、元组、字典、集合的区分和使用**\n",
    "    \n",
    "1、判断列表的第一个和最后一个数字是否相同"
   ]
  },
  {
   "cell_type": "code",
   "execution_count": 41,
   "id": "c0ca93c6",
   "metadata": {},
   "outputs": [
    {
     "data": {
      "text/plain": [
       "True"
      ]
     },
     "execution_count": 41,
     "metadata": {},
     "output_type": "execute_result"
    }
   ],
   "source": [
    "li=[10,20,30,40,10]\n",
    "#your code\n"
   ]
  },
  {
   "cell_type": "markdown",
   "id": "c9ea5550",
   "metadata": {},
   "source": [
    "2、从以下元组访问值15"
   ]
  },
  {
   "cell_type": "code",
   "execution_count": 42,
   "id": "1f981673",
   "metadata": {},
   "outputs": [
    {
     "data": {
      "text/plain": [
       "15"
      ]
     },
     "execution_count": 42,
     "metadata": {},
     "output_type": "execute_result"
    }
   ],
   "source": [
    "t = (\"Apple\", [10, 20, 30], (5, 15, 25))\n",
    "#your code\n"
   ]
  },
  {
   "cell_type": "markdown",
   "id": "a5c314ee",
   "metadata": {},
   "source": [
    "3、检查字典中是否存在值200"
   ]
  },
  {
   "cell_type": "code",
   "execution_count": 43,
   "id": "650abb3a",
   "metadata": {},
   "outputs": [
    {
     "data": {
      "text/plain": [
       "True"
      ]
     },
     "execution_count": 43,
     "metadata": {},
     "output_type": "execute_result"
    }
   ],
   "source": [
    "Dict = {'a': 100, 'b': 200, 'c': 300}\n",
    "#your code\n"
   ]
  },
  {
   "cell_type": "markdown",
   "id": "f5f80cc3",
   "metadata": {},
   "source": [
    "### 2.2.3 集合(set)\n",
    "\n",
    "Python中集合set是一个**无序不重复元素集**，它**不支持索引、切片或其它类序列的操作**。集合具有四种基础运算方法：并、交、差、补；以及有两种关系运算操作：判断子集关系和包含关系。\n",
    "\n",
    "**字典dict和集合set非常相似，唯一区别仅在于集合没有存储对应的值。**"
   ]
  },
  {
   "cell_type": "markdown",
   "id": "6b4b7c7c",
   "metadata": {},
   "source": [
    "#### 1. 创建集合\n",
    "\n",
    "可以传入一个列表list或者字符串到set()中进行创建，重复元素在set中自动被过滤"
   ]
  },
  {
   "cell_type": "code",
   "execution_count": 44,
   "id": "9f5714af",
   "metadata": {},
   "outputs": [
    {
     "name": "stdout",
     "output_type": "stream",
     "text": [
      "{1, 2, 3}\n"
     ]
    }
   ],
   "source": [
    "s1=set([1,2,3])\n",
    "print(s1)"
   ]
  },
  {
   "cell_type": "markdown",
   "id": "9af51d07",
   "metadata": {},
   "source": [
    "传入的参数[1， 2， 3]是一个list，而显示的{1，2，3}只是告诉你这个set内部有1，2，3这3个元素。"
   ]
  },
  {
   "cell_type": "code",
   "execution_count": 45,
   "id": "33f7ab0f",
   "metadata": {},
   "outputs": [
    {
     "name": "stdout",
     "output_type": "stream",
     "text": [
      "{'H', 'l', 'e', 'W', 'r', 'd', 'o'}\n"
     ]
    }
   ],
   "source": [
    "s2=set('HelloWorld') #过滤重复元素\n",
    "print(s2)"
   ]
  },
  {
   "cell_type": "markdown",
   "id": "8f392360",
   "metadata": {},
   "source": [
    "#### 2. 集合的四种基础运算方法\n",
    "\n",
    "四种基础运算方法：并、交、差、补。\n",
    "\n",
    "|基础运算方式（A、B为两个集合）|\t描述\n",
    "| :-: | :-: |\n",
    "并运算：A&#124;B \t|返回一个新集合，包含在集合A和B中的所有元素\n",
    "差运算：A-B\t|返回一个新的集合，包含在集合A中但是不在集合B中的元素\n",
    "交运算：A&B\t|返回一个新集合，包含既在A中又在B中的集合\n",
    "补运算：A^B |\t返回一个新集合，包含集合A和中B的不相同元素\n"
   ]
  },
  {
   "cell_type": "code",
   "execution_count": 46,
   "id": "43130adb",
   "metadata": {},
   "outputs": [
    {
     "data": {
      "text/plain": [
       "{1, 2, 3, 4, 5}"
      ]
     },
     "execution_count": 46,
     "metadata": {},
     "output_type": "execute_result"
    }
   ],
   "source": [
    "A={1,2,3,4}\n",
    "B={2,3,4,5}\n",
    "A|B  # 并集 被A包含或被B包含"
   ]
  },
  {
   "cell_type": "code",
   "execution_count": 47,
   "id": "1f301170",
   "metadata": {},
   "outputs": [
    {
     "data": {
      "text/plain": [
       "{1}"
      ]
     },
     "execution_count": 47,
     "metadata": {},
     "output_type": "execute_result"
    }
   ],
   "source": [
    "A-B # 差集 被A包含而不被B包含"
   ]
  },
  {
   "cell_type": "code",
   "execution_count": 48,
   "id": "4ae36174",
   "metadata": {},
   "outputs": [
    {
     "data": {
      "text/plain": [
       "{2, 3, 4}"
      ]
     },
     "execution_count": 48,
     "metadata": {},
     "output_type": "execute_result"
    }
   ],
   "source": [
    "A&B #交集 被A包含且被B包含"
   ]
  },
  {
   "cell_type": "code",
   "execution_count": 49,
   "id": "b2b907fa",
   "metadata": {},
   "outputs": [
    {
     "data": {
      "text/plain": [
       "{1, 5}"
      ]
     },
     "execution_count": 49,
     "metadata": {},
     "output_type": "execute_result"
    }
   ],
   "source": [
    "A^B # 补运算 被A包含而不被B包含的元素与被B包含而不被A包含的元素的集合"
   ]
  },
  {
   "cell_type": "markdown",
   "id": "8436fa78",
   "metadata": {},
   "source": [
    "#### 3. 集合的关系运算操作\n",
    "\n",
    "集合有两种关系运算操作：判断集合之间的子集关系以及判断集合之间的包含关系。\n",
    "\n",
    "集合A和B:\n",
    "\n",
    "输入A<=B，返回True/False来判断A是否是B的子集（一个集合是它本身的子集）。  \n",
    "输入A < B，返回True/False来判断A是否是B的真子集。  \n",
    "反之亦然。  "
   ]
  },
  {
   "cell_type": "code",
   "execution_count": 50,
   "id": "0f3df0f5",
   "metadata": {},
   "outputs": [],
   "source": [
    "A={1,2,3,4,5,6,7}\n",
    "B={2,3,4,5}\n",
    "C={1,2,3,4,5,6,7}"
   ]
  },
  {
   "cell_type": "code",
   "execution_count": 51,
   "id": "dc93e9aa",
   "metadata": {},
   "outputs": [
    {
     "data": {
      "text/plain": [
       "True"
      ]
     },
     "execution_count": 51,
     "metadata": {},
     "output_type": "execute_result"
    }
   ],
   "source": [
    "A>B #B是A的真子集，A包含B，返回True"
   ]
  },
  {
   "cell_type": "code",
   "execution_count": 52,
   "id": "79948375",
   "metadata": {},
   "outputs": [
    {
     "data": {
      "text/plain": [
       "False"
      ]
     },
     "execution_count": 52,
     "metadata": {},
     "output_type": "execute_result"
    }
   ],
   "source": [
    "A<B"
   ]
  },
  {
   "cell_type": "code",
   "execution_count": 53,
   "id": "42165f56",
   "metadata": {},
   "outputs": [
    {
     "data": {
      "text/plain": [
       "False"
      ]
     },
     "execution_count": 53,
     "metadata": {},
     "output_type": "execute_result"
    }
   ],
   "source": [
    "A > C #C不是A的真子集"
   ]
  },
  {
   "cell_type": "code",
   "execution_count": 54,
   "id": "037d946c",
   "metadata": {},
   "outputs": [
    {
     "data": {
      "text/plain": [
       "True"
      ]
     },
     "execution_count": 54,
     "metadata": {},
     "output_type": "execute_result"
    }
   ],
   "source": [
    "A >= C #C是A的子集"
   ]
  },
  {
   "cell_type": "markdown",
   "id": "118278d4",
   "metadata": {},
   "source": [
    "### 2.2.4 基本语句\n",
    "\n",
    "基本语句是告诉计算机做某些事情的指令，例如改变变量、向屏幕打印内容、引导用户输入等其他大量复杂的操作。\n",
    "\n",
    "**Python基本语句包含了顺序结构、选择结构和循环结构**。\n",
    "\n",
    "    1.顺序结构：按照书写顺序依次执行。\n",
    "    2.选择结构：们需要根据特定的情况，有选择地执行某些语句。\n",
    "    3.循环结构：在给定条件下往复执行某些语句。\n",
    "\n",
    "有了这三种基本的结构，我们就能够构建任意复杂的程序了。\n",
    "下面将主要介绍了Python的一些入门语句，**主要包括if条件语句、for循环语句的使用、while循环语句。**"
   ]
  },
  {
   "cell_type": "markdown",
   "id": "4de76d9d",
   "metadata": {},
   "source": [
    "#### 1. if条件语句\n",
    "\n",
    "Python的if语句是用来判定给出的条件是否满足，然后根据判断的结果决定是否执行后续的代码。\n",
    "if语句由三部分组成：\n",
    "\n",
    "    1.关键字if本身\n",
    "    2.测试条件真假的表达式（简称为条件表达式）\n",
    "    3. 表达式结果为真（即表达式的值为非零）时要执行的代码。\n",
    "    \n",
    "语法形式如下所示：if语句用来检验一个条件， 如果<条件>为真，if块的代码会成功运行，否则将会运行else块中的代码。其中else 从句是可选的。"
   ]
  },
  {
   "cell_type": "raw",
   "id": "cba92b9d",
   "metadata": {},
   "source": [
    "if<条件>:\n",
    "    <if块>\n",
    "else：\n",
    "    <else块>"
   ]
  },
  {
   "cell_type": "markdown",
   "id": "c3577300",
   "metadata": {},
   "source": [
    "在语法格式中的if块和else块中，既可以包含多条语句，也可以只有一条语句组成，但是**语句体由多条语句组成时，要有统一的缩进形式，否则就会出现逻辑错误，即语法检查没错，但是结果却非预期**。示例代码如下："
   ]
  },
  {
   "cell_type": "code",
   "execution_count": 55,
   "id": "9a1c40f8",
   "metadata": {},
   "outputs": [
    {
     "name": "stdout",
     "output_type": "stream",
     "text": [
      "2\n"
     ]
    }
   ],
   "source": [
    "#示例A\n",
    "i=1\n",
    "if i<2:\n",
    "    i=i+1\n",
    "    if i<2:\n",
    "        i=i+1\n",
    "    print(i)"
   ]
  },
  {
   "cell_type": "code",
   "execution_count": 1,
   "id": "617ffe6e",
   "metadata": {},
   "outputs": [],
   "source": [
    "#示例B\n",
    "i=1\n",
    "if i<2:\n",
    "    i=i+1\n",
    "    if i<2:\n",
    "        i=i+1\n",
    "        print(i)"
   ]
  },
  {
   "cell_type": "markdown",
   "id": "9a41d22b",
   "metadata": {},
   "source": [
    "上述代码中，print(i)的缩进不同导致了打印输出结果的不同。\n",
    "\n",
    "**示例A**中的print(i)的缩进与第二个if并列，位于第一个if的语句块内，执行完第二个if语句块后，i<2的条件测试不通过后续语句i=i+1没有执行，但仍输出了先前的i值。\n",
    "\n",
    "**示例B**中的print(i)位于第二个if的语句块内，打印的是第二个if代码执行后的结果，但因为i<2条件测试不通过因此后续代码没有执行程序直接返回了空值。"
   ]
  },
  {
   "cell_type": "markdown",
   "id": "9e2f811f",
   "metadata": {},
   "source": [
    "另外，经常会遇到需要**检查两个以上条件的情形，对此可使用Python提供的if-elif-else语句**。Python最终只会执行if-elif-else中的一个语句体，在执行代码时，它会依次检查每个条件测试，直到找到通过测试的条件，之后程序会执行紧接着条件后面的语句体并跳过后面后续的条件测试。elif代码块可以根据情况同时使用多个。示例代码如下：\n",
    "\n",
    "    代码以公园针对不同年龄段游客销售不同售价为例，6岁以下儿童免费，6岁以上18岁以下的未成年儿童收取半价30元，18岁以上60岁以下的成年人收取全价60元。60岁以上老人收取10元。程序依次判断每个elif条件，直到找到找到符合age<18的条件后结束后续条件测试并将票价30赋值给ticket。"
   ]
  },
  {
   "cell_type": "code",
   "execution_count": 57,
   "id": "b95f5a0b",
   "metadata": {},
   "outputs": [
    {
     "name": "stdout",
     "output_type": "stream",
     "text": [
      "门票价格为30元\n"
     ]
    }
   ],
   "source": [
    "ticket=0\n",
    "age=10\n",
    "if age<6:\n",
    "    ticket=0\n",
    "elif age<18:\n",
    "    ticket=30\n",
    "elif age<60:\n",
    "    ticket=60\n",
    "else:\n",
    "    ticket=10\n",
    "print('门票价格为'+str(ticket)+'元')\n"
   ]
  },
  {
   "cell_type": "markdown",
   "id": "10d6b2f5",
   "metadata": {},
   "source": [
    "#### 2. for循环语句\n",
    "\n",
    "**for循环是从某个对象那里依次将元素读取出来**，可以遍历任何序列的项目，如一个列表或者一个字符串。示例代码如下："
   ]
  },
  {
   "cell_type": "raw",
   "id": "324f659b",
   "metadata": {},
   "source": [
    "for <循环变量> in <序列>：\n",
    "    <循环体>"
   ]
  },
  {
   "cell_type": "markdown",
   "id": "95e0033d",
   "metadata": {},
   "source": [
    "它在一个序列的对象上递归，即逐一使用队列中的每个项目，对每个项目执行一次循环体。\n",
    "\n",
    "应用中常用的格式的示例代码如下：\n",
    "\n",
    "range()函数是python的内置函数，用于生成一系列连续整数：https://www.w3cschool.cn/python/python-func-range.html"
   ]
  },
  {
   "cell_type": "raw",
   "id": "3e80d2c3",
   "metadata": {},
   "source": [
    "for <循环变量> in range(N1,N2,N3): \n",
    "    <循环体>"
   ]
  },
  {
   "cell_type": "markdown",
   "id": "36c6d7df",
   "metadata": {},
   "source": [
    "其中，N1表示起始值，N2表示终止值，N3表示步长。<循环变量>依次取从N1开始，间隔N3，到N2-1终止的数值"
   ]
  },
  {
   "cell_type": "code",
   "execution_count": 3,
   "id": "2d9c6e58",
   "metadata": {},
   "outputs": [
    {
     "name": "stdout",
     "output_type": "stream",
     "text": [
      "2\n",
      "4\n",
      "6\n",
      "8\n",
      "10\n",
      "12\n",
      "14\n",
      "16\n",
      "18\n",
      "The loop is over\n"
     ]
    }
   ],
   "source": [
    "for i in range(2,20,2):\n",
    "    print(i)\n",
    "print('The loop is over')"
   ]
  },
  {
   "cell_type": "code",
   "execution_count": 59,
   "id": "a552fb33",
   "metadata": {},
   "outputs": [
    {
     "name": "stdout",
     "output_type": "stream",
     "text": [
      "I\n",
      " \n",
      "l\n",
      "o\n",
      "v\n",
      "e\n",
      " \n",
      "p\n",
      "y\n",
      "t\n",
      "h\n",
      "o\n",
      "n\n",
      "The loop is over\n"
     ]
    }
   ],
   "source": [
    "for i in 'I love python': #遍历字符串\n",
    "    print(i)\n",
    "print('The loop is over')"
   ]
  },
  {
   "cell_type": "code",
   "execution_count": 60,
   "id": "1098acd3",
   "metadata": {},
   "outputs": [
    {
     "name": "stdout",
     "output_type": "stream",
     "text": [
      "1\n",
      "6\n",
      "3\n",
      "7\n",
      "2\n",
      "9\n",
      "The loop is over\n"
     ]
    }
   ],
   "source": [
    "list1 = [1,6,3,7,2,9]\n",
    "for i in list1: #遍历列表\n",
    "    print(i)\n",
    "print('The loop is over')"
   ]
  },
  {
   "cell_type": "code",
   "execution_count": 6,
   "id": "c0fe83d4",
   "metadata": {},
   "outputs": [
    {
     "name": "stdout",
     "output_type": "stream",
     "text": [
      "0\n",
      "2\n",
      "4\n",
      "6\n",
      "8\n",
      "10\n",
      "12\n",
      "14\n",
      "16\n",
      "18\n",
      "20\n",
      "22\n",
      "24\n",
      "26\n",
      "28\n",
      "30\n",
      "32\n",
      "34\n",
      "36\n",
      "38\n",
      "40\n",
      "42\n",
      "44\n",
      "46\n",
      "48\n",
      "50\n",
      "52\n",
      "54\n",
      "56\n",
      "58\n",
      "60\n",
      "62\n",
      "64\n",
      "66\n",
      "68\n",
      "70\n",
      "72\n",
      "74\n",
      "76\n",
      "78\n",
      "80\n",
      "82\n",
      "84\n",
      "86\n",
      "88\n",
      "90\n",
      "92\n",
      "94\n",
      "96\n",
      "98\n"
     ]
    }
   ],
   "source": [
    "for i in range(100):\n",
    "    if i%2==0:\n",
    "        print(i)"
   ]
  },
  {
   "cell_type": "markdown",
   "id": "cb2d21bf",
   "metadata": {},
   "source": [
    "**小节练习4：给定一个数字列表，对其进行迭代,数字能被5整除进行打印数字本身，不能被5整除的打印“该数字无法被5整除”**\n",
    "\n",
    "***考察知识点：if语句、for语句***"
   ]
  },
  {
   "cell_type": "code",
   "execution_count": 61,
   "id": "974c6eed",
   "metadata": {},
   "outputs": [
    {
     "name": "stdout",
     "output_type": "stream",
     "text": [
      "10\n",
      "20\n",
      "该数字无法被5整除\n",
      "该数字无法被5整除\n",
      "55\n",
      "该数字无法被5整除\n",
      "该数字无法被5整除\n",
      "85\n"
     ]
    }
   ],
   "source": [
    "li=[10,20,33,46,55,27,93,85]\n",
    "#your code\n",
    "\n",
    "\n",
    "\n"
   ]
  },
  {
   "cell_type": "markdown",
   "id": "78feeefc",
   "metadata": {},
   "source": [
    "#### 3. while循环语句\n",
    "\n",
    "**while语句的功能是，当给定的条件表达式为真时，重复执行循环体（即需要重复的操作），直到条件为假时才退出循环，并执行循环体后面的语句**。while语句的语法形式的示例代码如下："
   ]
  },
  {
   "cell_type": "raw",
   "id": "d84e85e5",
   "metadata": {},
   "source": [
    "while<条件>:\n",
    "    <循环体>"
   ]
  },
  {
   "cell_type": "code",
   "execution_count": 62,
   "id": "57703d58",
   "metadata": {},
   "outputs": [
    {
     "name": "stdout",
     "output_type": "stream",
     "text": [
      "1\n",
      "2\n",
      "3\n",
      "4\n",
      "5\n",
      "6\n",
      "7\n",
      "8\n",
      "9\n",
      "循环结束\n"
     ]
    }
   ],
   "source": [
    "i=1\n",
    "while i<10: #当i小于10时重复执行以下操作\n",
    "    print(i)\n",
    "    i=i+1\n",
    " #当i不再小于10时，上述循环结束，然后执行以下代码\n",
    "print('循环结束') "
   ]
  },
  {
   "cell_type": "markdown",
   "id": "b70ad07a",
   "metadata": {},
   "source": [
    "在循环中，<条件>后有一个冒号，<循环体>要使用缩进的格式。While语句的功能是当<条件>成立（为真）时，执行循环体，然后再次检验<条件>，如果成立，再次执行循环体，直到<条件>不再成立，然后执行后面的程序。"
   ]
  },
  {
   "cell_type": "markdown",
   "id": "27c88f06",
   "metadata": {},
   "source": [
    "**小节练习5：求1-100的所有数的和***\n",
    "\n",
    "***考察知识点：while语句***"
   ]
  },
  {
   "cell_type": "code",
   "execution_count": 8,
   "id": "5dc965c0",
   "metadata": {},
   "outputs": [
    {
     "name": "stdout",
     "output_type": "stream",
     "text": [
      "5050\n"
     ]
    }
   ],
   "source": [
    "count=1\n",
    "total=0\n",
    "#定义两个变量\n",
    "#your code\n",
    "while count<101:\n",
    "    total=total+count\n",
    "    count=count+1\n",
    "\n",
    "\n",
    "print(total)  #输出结果"
   ]
  },
  {
   "cell_type": "code",
   "execution_count": null,
   "id": "aac739e1",
   "metadata": {},
   "outputs": [],
   "source": []
  }
 ],
 "metadata": {
  "kernelspec": {
   "display_name": "Python 3 (ipykernel)",
   "language": "python",
   "name": "python3"
  },
  "language_info": {
   "codemirror_mode": {
    "name": "ipython",
    "version": 3
   },
   "file_extension": ".py",
   "mimetype": "text/x-python",
   "name": "python",
   "nbconvert_exporter": "python",
   "pygments_lexer": "ipython3",
   "version": "3.10.9"
  },
  "toc": {
   "base_numbering": 1,
   "nav_menu": {},
   "number_sections": false,
   "sideBar": true,
   "skip_h1_title": false,
   "title_cell": "Table of Contents",
   "title_sidebar": "Contents",
   "toc_cell": false,
   "toc_position": {},
   "toc_section_display": true,
   "toc_window_display": false
  }
 },
 "nbformat": 4,
 "nbformat_minor": 5
}
