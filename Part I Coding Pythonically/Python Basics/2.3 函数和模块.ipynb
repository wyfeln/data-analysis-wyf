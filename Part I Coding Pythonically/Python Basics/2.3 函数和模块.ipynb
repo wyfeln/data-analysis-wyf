{
 "cells": [
  {
   "cell_type": "markdown",
   "id": "c1d6cdd3",
   "metadata": {},
   "source": [
    "# 2.3 函数和模块\n",
    "\n",
    "<img src=\"./imgs/2.3.png\" width=400 height=300>"
   ]
  },
  {
   "cell_type": "markdown",
   "id": "7744dacd",
   "metadata": {},
   "source": [
    "很多时候，Python程序中的语句都会组织成函数的形式。\n",
    "\n",
    "**函数是完成特定功能的一个语句组，可以将其作为一个单位使用，并且给它命名。** 这样，我们就可以通过函数名在程序的不同地方多次执行该语句组（这通常叫做函数调用），却不需要在所有地方都重复编写这些语句。另外，每次使用函数时可以提供不同的参数作为输入，以便对不同的数据进行处理；函数处理后，还可以将相应的结果反馈给我们。"
   ]
  },
  {
   "cell_type": "markdown",
   "id": "706a05a3",
   "metadata": {},
   "source": [
    "## 2.3.1 函数"
   ]
  },
  {
   "cell_type": "markdown",
   "id": "06446753",
   "metadata": {},
   "source": [
    "函数包括自定义函数和系统自带函数(内置函数)。自定义函数顾名思义为用户自己编写的函数；而系统自带函数即Python中内置的函数，比如之前使用过的range函数就是内置函数的一种。"
   ]
  },
  {
   "cell_type": "markdown",
   "id": "f4038c54",
   "metadata": {},
   "source": [
    "### 1. 调用函数\n",
    "\n",
    "Python内置了很多有用的函数，我们可以直接调用。**要调用一个函数，首先需要知道函数的名称和所需参数。函数参数的作用是将数据传递给函数使用**，有关参数的内容将在后文详细介绍。\n",
    "\n",
    "每个函数的用法可以直接从Python的官方网站查看说明文档，也可以在命令行中通过help(abs)或者abs？查看abs函数的帮助信息。"
   ]
  },
  {
   "cell_type": "code",
   "execution_count": 1,
   "id": "2410aa76",
   "metadata": {},
   "outputs": [
    {
     "name": "stdout",
     "output_type": "stream",
     "text": [
      "Help on built-in function abs in module builtins:\n",
      "\n",
      "abs(x, /)\n",
      "    Return the absolute value of the argument.\n",
      "\n"
     ]
    }
   ],
   "source": [
    "help(abs) #abs函数：返回参数的绝对值"
   ]
  },
  {
   "cell_type": "code",
   "execution_count": 5,
   "id": "d67519db",
   "metadata": {},
   "outputs": [],
   "source": [
    "abs?"
   ]
  },
  {
   "cell_type": "code",
   "execution_count": 2,
   "id": "60928bff",
   "metadata": {},
   "outputs": [
    {
     "name": "stdout",
     "output_type": "stream",
     "text": [
      "11\n",
      "100\n",
      "12.34\n"
     ]
    }
   ],
   "source": [
    "#abs(num):求num的绝对值\n",
    "print(abs(-11))\n",
    "print(abs(100))\n",
    "print(abs(-12.34))"
   ]
  },
  {
   "cell_type": "code",
   "execution_count": 3,
   "id": "3e508ebd",
   "metadata": {},
   "outputs": [
    {
     "ename": "TypeError",
     "evalue": "abs() takes exactly one argument (2 given)",
     "output_type": "error",
     "traceback": [
      "\u001b[1;31m---------------------------------------------------------------------------\u001b[0m",
      "\u001b[1;31mTypeError\u001b[0m                                 Traceback (most recent call last)",
      "\u001b[1;32m<ipython-input-3-edda5c4b3213>\u001b[0m in \u001b[0;36m<module>\u001b[1;34m\u001b[0m\n\u001b[0;32m      1\u001b[0m \u001b[1;31m#调用函数的时候，如果传入的参数数量不对，会报TypeError（类型错误）的错误\u001b[0m\u001b[1;33m\u001b[0m\u001b[1;33m\u001b[0m\u001b[1;33m\u001b[0m\u001b[0m\n\u001b[0;32m      2\u001b[0m \u001b[1;31m#如下图所示，Python会明确地告诉你：abs()有且仅有1个参数，但你给出了两个\u001b[0m\u001b[1;33m\u001b[0m\u001b[1;33m\u001b[0m\u001b[1;33m\u001b[0m\u001b[0m\n\u001b[1;32m----> 3\u001b[1;33m \u001b[0mabs\u001b[0m\u001b[1;33m(\u001b[0m\u001b[1;36m1\u001b[0m\u001b[1;33m,\u001b[0m\u001b[1;33m-\u001b[0m\u001b[1;36m1\u001b[0m\u001b[1;33m)\u001b[0m\u001b[1;33m\u001b[0m\u001b[1;33m\u001b[0m\u001b[0m\n\u001b[0m",
      "\u001b[1;31mTypeError\u001b[0m: abs() takes exactly one argument (2 given)"
     ]
    }
   ],
   "source": [
    "#调用函数的时候，如果传入的参数数量不对，会报TypeError（类型错误）的错误\n",
    "#如下图所示，Python会明确地告诉你：abs()有且仅有1个参数，但你给出了两个\n",
    "abs(1,-1)"
   ]
  },
  {
   "cell_type": "code",
   "execution_count": 4,
   "id": "ce1810e0",
   "metadata": {},
   "outputs": [
    {
     "ename": "TypeError",
     "evalue": "bad operand type for abs(): 'str'",
     "output_type": "error",
     "traceback": [
      "\u001b[1;31m---------------------------------------------------------------------------\u001b[0m",
      "\u001b[1;31mTypeError\u001b[0m                                 Traceback (most recent call last)",
      "\u001b[1;32m<ipython-input-4-fe008b57f550>\u001b[0m in \u001b[0;36m<module>\u001b[1;34m\u001b[0m\n\u001b[0;32m      1\u001b[0m \u001b[1;31m#如果传入的参数数量是对的，但参数类型不能被函数所接受，也会报TypeError的错误\u001b[0m\u001b[1;33m\u001b[0m\u001b[1;33m\u001b[0m\u001b[1;33m\u001b[0m\u001b[0m\n\u001b[1;32m----> 2\u001b[1;33m \u001b[0mabs\u001b[0m\u001b[1;33m(\u001b[0m\u001b[1;34m'a'\u001b[0m\u001b[1;33m)\u001b[0m\u001b[1;33m\u001b[0m\u001b[1;33m\u001b[0m\u001b[0m\n\u001b[0m",
      "\u001b[1;31mTypeError\u001b[0m: bad operand type for abs(): 'str'"
     ]
    }
   ],
   "source": [
    "#如果传入的参数数量是对的，但参数类型不能被函数所接受，也会报TypeError的错误\n",
    "abs('a')"
   ]
  },
  {
   "cell_type": "markdown",
   "id": "59353efa",
   "metadata": {},
   "source": [
    "#### 常用内置函数\n",
    "附使用文档根据需要自行了解：https://docs.python.org/3/library/functions.html\n",
    "\n",
    "|函数名\t|函数功能\n",
    "| :-: | :-: |\n",
    "id()\t|获取对象的内存地址\n",
    "float()\t|将整数和字符串转换成浮点数\n",
    "bin(),oct(),hex()\t|将十进制数转为二进制、八进制、十六进制\n",
    "eval()\t|转为十进制\n",
    "Int()\t|将一个字符串或数字转换为整型\n",
    "type()\t|返回对象的类型\n",
    "del()\t|删除变量/对象函数\n",
    "abs()\t|返回绝对值\n",
    "sum()\t|对序列进行求和计算\n",
    "max()\t|返回给定参数的最大值\n",
    "min()\t|返回给定参数的最小值\n",
    "pow(x,y)|\t求x的y次方，x^y\n",
    "round()\t|四舍五入\n",
    "str()\t|转换为字符串\n",
    "len()\t|获取字符串长度\n",
    "lower()\t|返回一个字符串中大写字母转化成小写字母的字符串\n",
    "upper()\t|返回一个字符串中小写字母转化成大写字母的字符串\n",
    "swapcase()\t|返回字符串中的大写字母转小写，小写字母转大写的字符串\n",
    "capitalize()\t|返回字符串中的首字母大写，其余小写的字符串\n",
    "str2.count(str1,start,end])\t|返回str1在str2中出现的次数，可以指定一个范围，若不指定则默认查找整个字符串\n",
    "str2.find(str1,start,end)\t|从左往右检测str2，返回str1第一次出现在str2中的下标,若找不到则返回-1，可以指定查询的范围，若不指定则默认查询整个字符串\n",
    "strip()\t|移除字符串头尾指定的字符（默认为空格或换行符）或字符序列\n",
    "split()\t|通过指定分隔符对字符串进行切片，如果参数 num 有指定值，则分隔 num+1 个子字符串\n",
    "sorted()\t|对所有可迭代的对象进行排序操作\n",
    "reversed()\t|反转序列，生成一个新的序列\n",
    "zip()\t|用于将可迭代的对象作为参数，将对象中对应的元素打包成一个个元组，然后返回由这些元组组成的列表\n",
    "enumerate()\t|用于将一个可遍历的数据对象(如列表、元组或字符串)组合为一个索引序列，同时列出数据和数据下标，一般用在 for 循环当中。\n"
   ]
  },
  {
   "cell_type": "markdown",
   "id": "7b554d3d",
   "metadata": {},
   "source": [
    "### 2. 自定义函数\n",
    "\n",
    "当我们自己定义一个函数时，通常使用def语句，其语法形式示例代码如下："
   ]
  },
  {
   "cell_type": "markdown",
   "id": "1347a8a2",
   "metadata": {},
   "source": [
    "<font size=3><center>def &lt;函数名&gt;(&lt;形参表&gt;):</center></font>\n",
    "\n",
    "<font size=3><center>&lt;函数体&gt;</center></font>"
   ]
  },
  {
   "cell_type": "markdown",
   "id": "bacd6be6",
   "metadata": {},
   "source": [
    "注意：\n",
    "\n",
    "    1. 函数名可以是任何有效的Python标识符。\n",
    "    2. 形参表是调用该函数时传递给它的值，可以由多个或多个参数组成，当有多个参数时各个参数由逗号分隔。\n",
    "    3. 函数体是函数每次被调用时执行的代码，可以由一个语句或多个语句组成，函数体需要写成正确的缩进格式。\n",
    "    4. 圆括号后面的冒号是必不可少的，否则会导致语法错误。"
   ]
  },
  {
   "cell_type": "markdown",
   "id": "5741b301",
   "metadata": {},
   "source": [
    "#### （1）return的含义"
   ]
  },
  {
   "cell_type": "markdown",
   "id": "8fe7b9ae",
   "metadata": {},
   "source": [
    "**return语句的作用是结束函数调用，并将结果返回给调用者。不过，对于函数来说，该语句是可选的，并且可以出现在函数体的任意位置**\n",
    "如果没有return语句，那么该函数就在函数体结束位置将控制权返回给调用方。（不带表达式的return相当于返回 None）\n",
    "\n",
    "下面是一个函数定义实例："
   ]
  },
  {
   "cell_type": "code",
   "execution_count": 6,
   "id": "629da4d0",
   "metadata": {},
   "outputs": [],
   "source": [
    "def pos_num(num):\n",
    "    if num>0:\n",
    "        return num\n",
    "    else:\n",
    "        return"
   ]
  },
  {
   "cell_type": "markdown",
   "id": "d8f08669",
   "metadata": {},
   "source": [
    "函数体内部的语句在执行时，一旦执行到return，函数就执行完毕，并将结果返回。因此，函数内部通过条件判断和循环可以实现非常复杂的逻辑。**如果没有return语句，函数执行完毕后也会返回结果，只是结果为None。return None也可以简写为return**。"
   ]
  },
  {
   "cell_type": "code",
   "execution_count": 8,
   "id": "5414cb40",
   "metadata": {},
   "outputs": [
    {
     "data": {
      "text/plain": [
       "1"
      ]
     },
     "execution_count": 8,
     "metadata": {},
     "output_type": "execute_result"
    }
   ],
   "source": [
    "pos_num(1) #传入参数为1，大于零，所以返回参数本身"
   ]
  },
  {
   "cell_type": "code",
   "execution_count": 7,
   "id": "92fe4a2e",
   "metadata": {},
   "outputs": [
    {
     "name": "stdout",
     "output_type": "stream",
     "text": [
      "9\n"
     ]
    }
   ],
   "source": [
    "b=pos_num(9)\n",
    "print(b)"
   ]
  },
  {
   "cell_type": "code",
   "execution_count": 8,
   "id": "374d984c",
   "metadata": {},
   "outputs": [],
   "source": [
    "pos_num(-1)#传入参数为-1，不大于零，所以返回None"
   ]
  },
  {
   "cell_type": "markdown",
   "id": "59bb65b3",
   "metadata": {},
   "source": [
    "#### （2）空函数与pass语句\n",
    "\n",
    "如果需要定义一个什么事也不做的空函数，可以使用pass语句"
   ]
  },
  {
   "cell_type": "code",
   "execution_count": 8,
   "id": "0884c25b",
   "metadata": {},
   "outputs": [],
   "source": [
    "def nop():\n",
    "    pass"
   ]
  },
  {
   "cell_type": "markdown",
   "id": "841789df",
   "metadata": {},
   "source": [
    "pass可以用来作为占位符，比如目前还没有想好如何写该函数的代码，就可以先放一个pass，让代码能运行起来"
   ]
  },
  {
   "cell_type": "code",
   "execution_count": 9,
   "id": "d9029a00",
   "metadata": {},
   "outputs": [
    {
     "ename": "IndentationError",
     "evalue": "expected an indented block (1130329048.py, line 4)",
     "output_type": "error",
     "traceback": [
      "\u001b[1;36m  Input \u001b[1;32mIn [9]\u001b[1;36m\u001b[0m\n\u001b[1;33m    #如果缺少了pass，代码运行就会有语法错误\u001b[0m\n\u001b[1;37m                          ^\u001b[0m\n\u001b[1;31mIndentationError\u001b[0m\u001b[1;31m:\u001b[0m expected an indented block\n"
     ]
    }
   ],
   "source": [
    "def  non_adult(age):\n",
    "    if age>=18:\n",
    "        #pass\n",
    "#如果缺少了pass，代码运行就会有语法错误"
   ]
  },
  {
   "cell_type": "markdown",
   "id": "a1d3ac31",
   "metadata": {},
   "source": [
    "#### （3）返回多个值\n",
    "\n",
    "返回的多个值的形式：return a,b 即返回a的值和b的值，且以括号的形式给出\n",
    "\n",
    "示例："
   ]
  },
  {
   "cell_type": "code",
   "execution_count": 10,
   "id": "c52d3e6a",
   "metadata": {},
   "outputs": [],
   "source": [
    "def n_profit(a,b,n):\n",
    "    na=a*n\n",
    "    nb=b*n\n",
    "    return na,nb"
   ]
  },
  {
   "cell_type": "code",
   "execution_count": 11,
   "id": "cdf2a2ee",
   "metadata": {},
   "outputs": [
    {
     "data": {
      "text/plain": [
       "(1200, 2400)"
      ]
     },
     "execution_count": 11,
     "metadata": {},
     "output_type": "execute_result"
    }
   ],
   "source": [
    "n_profit(100,200,12)"
   ]
  },
  {
   "cell_type": "markdown",
   "id": "244943a9",
   "metadata": {},
   "source": [
    "### 3. 参数\n",
    "#### （1）形参和实参\n",
    "在**定义函数**时函数名后面圆括号中的变量名称叫做”形式参数”，简称为”形参”。\n",
    "在**调用函数**时，函数名后面圆括号中的变量名称叫做”实际参数”，简称为”实参”。"
   ]
  },
  {
   "cell_type": "code",
   "execution_count": 12,
   "id": "acb14fd7",
   "metadata": {},
   "outputs": [
    {
     "data": {
      "text/plain": [
       "3"
      ]
     },
     "execution_count": 12,
     "metadata": {},
     "output_type": "execute_result"
    }
   ],
   "source": [
    "#我们定义的函数将传给它的数值增1，然后将增加后的值返回给调用者\n",
    "def add(x):\n",
    "    x=x+1\n",
    "    return x\n",
    "\n",
    "#定义函数时括号中的“x”即为形参，调用add函数时传入的变量2就是实参。\n",
    "add(2) "
   ]
  },
  {
   "cell_type": "markdown",
   "id": "495fb6ff",
   "metadata": {},
   "source": [
    "定义函数时需要确认参数的名字和位置，对于函数的调用者来说，只需要知道如何传递正确的参数，以及函数将返回什么样的值就能够调用该函数。   \n",
    "Python的函数定义非常简单，但灵活度却非常大。**除了正常定义的必传参数外，还可以使用缺省参数、可变参数和关键字参数，使得函数定义出来的接口，不但能处理复杂的参数，还可以简化调用者的代码**。 详情可参考该文档：https://www.jianshu.com/p/98f7e34845b5\n",
    "\n",
    "必传参数：平时最常用的，必传确定数量的参数  \n",
    "缺省参数：在调用函数时可以传也可以不传，如果不传将使用默认值（也被称为默认参数）  \n",
    "可变参数：可变长度参数  \n",
    "关键字参数：长度可变，但是需要以kv对形式传参  "
   ]
  },
  {
   "cell_type": "markdown",
   "id": "c7028b68",
   "metadata": {},
   "source": [
    "#### （2）函数的必传参数\n",
    "必须传递，且位置必须与形参一一对应,缺一不可。\n",
    "\n",
    "示例如下："
   ]
  },
  {
   "cell_type": "code",
   "execution_count": 13,
   "id": "39201760",
   "metadata": {},
   "outputs": [],
   "source": [
    "def power(x,y): #必传参数x和y 该函数返回结果为x的y次方\n",
    "    return x**y"
   ]
  },
  {
   "cell_type": "markdown",
   "id": "b3454309",
   "metadata": {},
   "source": [
    "***当我们调用上述power函数时计算5的2次方时，必须依次传入5，2***"
   ]
  },
  {
   "cell_type": "code",
   "execution_count": 14,
   "id": "ce4aabc4",
   "metadata": {},
   "outputs": [
    {
     "data": {
      "text/plain": [
       "25"
      ]
     },
     "execution_count": 14,
     "metadata": {},
     "output_type": "execute_result"
    }
   ],
   "source": [
    "power(5,2)"
   ]
  },
  {
   "cell_type": "markdown",
   "id": "64376fc8",
   "metadata": {},
   "source": [
    "***如果传入参数和形参位置不对应，就无法得到正确结果***"
   ]
  },
  {
   "cell_type": "code",
   "execution_count": 15,
   "id": "7cadab20",
   "metadata": {},
   "outputs": [
    {
     "data": {
      "text/plain": [
       "32"
      ]
     },
     "execution_count": 15,
     "metadata": {},
     "output_type": "execute_result"
    }
   ],
   "source": [
    "power(2,5) "
   ]
  },
  {
   "cell_type": "markdown",
   "id": "f7f986da",
   "metadata": {},
   "source": [
    "***如果传入参数有缺失会报错***"
   ]
  },
  {
   "cell_type": "code",
   "execution_count": 16,
   "id": "a9dbeb7a",
   "metadata": {},
   "outputs": [
    {
     "ename": "TypeError",
     "evalue": "power() missing 1 required positional argument: 'y'",
     "output_type": "error",
     "traceback": [
      "\u001b[1;31m---------------------------------------------------------------------------\u001b[0m",
      "\u001b[1;31mTypeError\u001b[0m                                 Traceback (most recent call last)",
      "Input \u001b[1;32mIn [16]\u001b[0m, in \u001b[0;36m<cell line: 1>\u001b[1;34m()\u001b[0m\n\u001b[1;32m----> 1\u001b[0m \u001b[43mpower\u001b[49m\u001b[43m(\u001b[49m\u001b[38;5;241;43m5\u001b[39;49m\u001b[43m)\u001b[49m\n",
      "\u001b[1;31mTypeError\u001b[0m: power() missing 1 required positional argument: 'y'"
     ]
    }
   ],
   "source": [
    "power(5)"
   ]
  },
  {
   "cell_type": "markdown",
   "id": "0d53c83b",
   "metadata": {},
   "source": [
    "#### （3）缺省参数"
   ]
  },
  {
   "cell_type": "markdown",
   "id": "c8c98a1a",
   "metadata": {},
   "source": [
    "在定义函数时，我们可以**用赋值符号给某些形参指定默认值**，这样当调用该函数的时候，如果调用方没有为该参数提供值的话，则使用默认值；如果调用该函数的时候为该参数提供了值，则使用调用方提供的值——像这样的参数我们称之为缺省参数。"
   ]
  },
  {
   "cell_type": "code",
   "execution_count": 9,
   "id": "4456285a",
   "metadata": {},
   "outputs": [
    {
     "data": {
      "text/plain": [
       "25"
      ]
     },
     "execution_count": 9,
     "metadata": {},
     "output_type": "execute_result"
    }
   ],
   "source": [
    "def power_2(x,n=2):       #设置定义函数的默认参数\n",
    "    s=1\n",
    "    while n>0:\n",
    "        s=s*x\n",
    "        n=n-1\n",
    "    return s\n",
    "power_2(5)#这样，当我们调用power_2(5)时，相当于调用power(5,2)"
   ]
  },
  {
   "cell_type": "code",
   "execution_count": 10,
   "id": "50c21734",
   "metadata": {},
   "outputs": [
    {
     "data": {
      "text/plain": [
       "125"
      ]
     },
     "execution_count": 10,
     "metadata": {},
     "output_type": "execute_result"
    }
   ],
   "source": [
    "#而对于n>2的其他情况，就必须明确地传入n的数值，比如power_2(5,3)\n",
    "power_2(5,3) "
   ]
  },
  {
   "cell_type": "markdown",
   "id": "68118448",
   "metadata": {},
   "source": [
    "**需要注意的是缺省参数在形式参数表中的位置，即缺省参数必须在所有标准参数之后定义**  \n",
    "\n",
    "以下是函数含有多个缺省参数时传递参数的示例，可进行对比理解。"
   ]
  },
  {
   "cell_type": "code",
   "execution_count": 19,
   "id": "a92a0f90",
   "metadata": {},
   "outputs": [],
   "source": [
    "def f(arg1,arg2=2,arg3=3):\n",
    "    print('arg1=', arg1)\n",
    "    print('arg2=', arg2)\n",
    "    print('arg3=', arg3)"
   ]
  },
  {
   "cell_type": "markdown",
   "id": "02adbbdd",
   "metadata": {},
   "source": []
  },
  {
   "cell_type": "code",
   "execution_count": 20,
   "id": "a04c44e1",
   "metadata": {},
   "outputs": [
    {
     "name": "stdout",
     "output_type": "stream",
     "text": [
      "arg1= 10\n",
      "arg2= 2\n",
      "arg3= 3\n"
     ]
    }
   ],
   "source": [
    "#示例A\n",
    "f(10)"
   ]
  },
  {
   "cell_type": "code",
   "execution_count": 21,
   "id": "0257230f",
   "metadata": {},
   "outputs": [
    {
     "name": "stdout",
     "output_type": "stream",
     "text": [
      "arg1= 10\n",
      "arg2= 17\n",
      "arg3= 3\n"
     ]
    }
   ],
   "source": [
    "f(10,17)"
   ]
  },
  {
   "cell_type": "code",
   "execution_count": 22,
   "id": "e4e5b80e",
   "metadata": {},
   "outputs": [
    {
     "name": "stdout",
     "output_type": "stream",
     "text": [
      "arg1= 10\n",
      "arg2= 17\n",
      "arg3= 22\n"
     ]
    }
   ],
   "source": [
    "f(10,17,22)"
   ]
  },
  {
   "cell_type": "markdown",
   "id": "950fa436",
   "metadata": {},
   "source": [
    "现在对上述代码做一些解释：\n",
    "\n",
    "**示例A：** 通过f（10）进行函数调用时，因为arg1没有缺省值，必须为它提供实参，所以f（10）中的实参10将传递给形参arg1；又因为只有一个传入参数，即没有给缺省参数arg2和arg3传递实参，所以它们采用默认值2和3。\n",
    "\n",
    "**示例B：** 用了f（10，10）来调用函数，传入了两个参数，第一个实参10按顺序传递给arg1，第二个参数17传递给arg2，由于没有给arg3传递实参，所以采用默认值3\n",
    "\n",
    "**示例C：** 用了f（10，10，10）来调用函数，传入了三个实参，所以10，17，22分别传递给arg1，arg2，arg3\n",
    "\n",
    "***使用缺省参数的好处在于：如果某个参数大部分情况下都取某个固定的值，那么就可以为这个参数定义一个默认值，这样在以后使用这个函数时带来很大的便利；如果偶尔情况有变，还可以给它传递更适合的值。***"
   ]
  },
  {
   "cell_type": "markdown",
   "id": "e50e884b",
   "metadata": {},
   "source": [
    "#### （3）可变参数和关键词参数\n",
    "\n",
    "在Python函数中，还可以定义可变参数。顾名思义，**可变参数就是传入的参数个数是可变的，可以是1个、2个到任意个，还可以是0个**。可变参数的定义形式是星号+参数，例如下面的形式中：*args就是定义的可变参数\n",
    "\n",
    "<font size=3><center>def &lt;函数名&gt;(&lt;arg1,*args&gt;):</center></font>\n",
    "\n",
    "<font size=3><center>&lt;函数体&gt;</center></font>\n",
    "\n",
    "\n",
    "\n",
    "可变参数允许你传入0个或任意个参数，这些可变参数在函数调用时自动组装为一个tuple,而**关键字参数允许你传入0个或任意个含参数名的参数，这些关键字参数在函数内部自动组装为一个dict**。可变参数的定义形式是两个星号+参数，例如下面的形式中：\\*\\*args就是定义的关键词参数\n",
    "\n",
    "<font size=3><center>def &lt;函数名&gt;(&lt;arg1,**kwargs&gt;):</center></font>\n",
    "\n",
    "<font size=3><center>&lt;函数体&gt;</center></font>\n",
    "\n",
    "可参考以下文档进行学习：https://www.jianshu.com/p/98f7e34845b5"
   ]
  },
  {
   "cell_type": "markdown",
   "id": "91083781",
   "metadata": {},
   "source": [
    "### 4. 局部变量和全局变量\n",
    "\n",
    "在Python中的任何变量都有其特定的作用域，在函数内部定义的变量一般只能在该函数内部使用，这些**只能在程序的特定部分使用的变量我们称之为局部变量**；同理，**能够为整个程序所使用的变量成为全局变量**。\n",
    "\n",
    "上面是从空间的角度来考察变量的局部性和全局性，如果从时间的角度来看，不妨简单地认为在程序运行的整个过程中，**全局变量一直占据着内存，并且它的值可以供所有函数访问**；而**局部变量则是只有在其所在函数被调用时才给它分配内存，当函数返回时，其所占内存就会被释放，所以它只能供其所在的函数所访问**——换句话说，当某个函数退出时，其局部变量原先所占的内存将被分配给其它函数的局部变量。"
   ]
  },
  {
   "cell_type": "code",
   "execution_count": 1,
   "id": "fdc2405c",
   "metadata": {},
   "outputs": [
    {
     "name": "stdout",
     "output_type": "stream",
     "text": [
      "12\n",
      "9\n"
     ]
    },
    {
     "ename": "NameError",
     "evalue": "name 'localInt' is not defined",
     "output_type": "error",
     "traceback": [
      "\u001b[1;31m---------------------------------------------------------------------------\u001b[0m",
      "\u001b[1;31mNameError\u001b[0m                                 Traceback (most recent call last)",
      "Cell \u001b[1;32mIn[1], line 12\u001b[0m\n\u001b[0;32m      8\u001b[0m \u001b[38;5;28mprint\u001b[39m(myAdd())\n\u001b[0;32m     10\u001b[0m \u001b[38;5;28mprint\u001b[39m(globalInt)\n\u001b[1;32m---> 12\u001b[0m \u001b[38;5;28mprint\u001b[39m(\u001b[43mlocalInt\u001b[49m)\n",
      "\u001b[1;31mNameError\u001b[0m: name 'localInt' is not defined"
     ]
    }
   ],
   "source": [
    "globalInt=9   #定义了一个全局变量globalInt，该变量将在整个程序中有效\n",
    "\n",
    "#定义了一个函数myAdd()，并在这个函数中定义了一个局部变量localInt，该局部变量只能在函数myAdd()中有效   \n",
    "def myAdd():\n",
    "    localInt=3\n",
    "    return globalInt+localInt\n",
    "\n",
    "print(myAdd())\n",
    "\n",
    "print(globalInt)\n",
    "\n",
    "print(localInt) "
   ]
  },
  {
   "cell_type": "markdown",
   "id": "81978237",
   "metadata": {},
   "source": [
    "上述代码的执行结果表明：\n",
    "\n",
    "自定义函数myAdd()既可以访问局部变量localInt，也可以使用在外部定义的全局变量globalInt，所以调用该函数时返回的结果为12。\n",
    "\n",
    "然后打印了全局变量globalInt的值，其为9，这说明它全局可用。\n",
    "\n",
    "最后打印局部变量localInt时遇到了错误，**错误提示说”localInt”没有被定义，这是因为局部变量localInt只能在定义它的函数myAdd()中有效（或者说可见），而超出函数范围之外的代码是看不到它的，根据先定义后使用的原则，Python解释器会认为该程序使用了未定义的变量名。**"
   ]
  },
  {
   "cell_type": "markdown",
   "id": "cace222e",
   "metadata": {},
   "source": [
    "**小节练习6：给定两个列表list1 和 list2，定义一个函数，使其能够输出列表list1的元素和，list2的元素和，以及两个列表元素和的差值的绝对值**\n",
    "\n",
    "***考察知识点：内置函数的使用、自定义函数、函数的调用***"
   ]
  },
  {
   "cell_type": "code",
   "execution_count": 11,
   "id": "6a19d39f",
   "metadata": {},
   "outputs": [],
   "source": [
    "list1 = [13,2,76,45,5,39,18]\n",
    "list2 = [5,22,17,93,48,26,3]\n",
    "#your code 定义函数\n",
    "def test(a,b):\n",
    "    \n",
    "    return sum(a),sum(b),abs(sum(a)-sum(b))"
   ]
  },
  {
   "cell_type": "code",
   "execution_count": 12,
   "id": "99f54087",
   "metadata": {},
   "outputs": [
    {
     "data": {
      "text/plain": [
       "(198, 214, 16)"
      ]
     },
     "execution_count": 12,
     "metadata": {},
     "output_type": "execute_result"
    }
   ],
   "source": [
    "#your code 调用函数\n",
    "test(list1,list2)"
   ]
  },
  {
   "cell_type": "markdown",
   "id": "1461fc4b",
   "metadata": {},
   "source": [
    "## 2.3.2 模块\n",
    "\n",
    "### 1. 模块的定义"
   ]
  },
  {
   "cell_type": "markdown",
   "id": "c682def1",
   "metadata": {},
   "source": [
    "**模块是一个包含了已经定义的函数和变量的文件，模块的文件名一般以.py为扩展名。Python模块其实也是一个Python文件**。\n",
    "首先它是一个文件的概念，里面放着代码，然后Python模块的另外一个含义就是“名字空间”，名字空间从字面意思理解就是存放名字的地方，我们把模块里面定义的方法或者变量的内容，当做模块的属性。也可以按照面向对象的方法来理解，因为Python是面向所有对象的语言，把模块当作对象，里面定义的方法和变量就是模块的属性，下次在程序的其他地方调用模块的属性或者方法的话，则可以直接通过模块名.属性名或者方法名来调用。\n",
    "\n",
    "**模块有下面的几种特性：**\n",
    "①模块语句在第一次导入的时候就执行了。在代码的任何地方导入一个模块，它都会生成一个空对象，然后从头到尾执行模块里面的语句。比如你在模块里面定义了def语句，或者赋值语句，系统会先生成模块对象的属性，然后存储到模块的名字空间里；\n",
    "\n",
    "②如果想查看模块里面的属性，可以通过dir()的方法。例如，Pandas是一个模块，dir(Pandas)就可以查询Pandas的属性。\n",
    "\n",
    "③模块里的变量和函数里的变量不太一样，模块里的变量在模块第一次导入以后就可以使用了，而函数里的变量是在函数运行的时候才能够使用。 模块名就是不包含扩展名的Python文件名，且该文件与当前文件在同一个文件夹中。使用模块中的函数时，函数名前要有模块名再加一个点号”.”。\n",
    "\n",
    "例如，编写两个模块文件，前一个模块有一个求最大值的函数，后一个模块文件要使用前面的模块文件中的求最大值函数。前一个模板的示例代码如下："
   ]
  },
  {
   "cell_type": "raw",
   "id": "28ee2126",
   "metadata": {},
   "source": [
    "def funcMax(a,b):#自定义函数求a，b之间的最大值\n",
    "    if a>b:\n",
    "        return a\n",
    "    else:\n",
    "        return b\n",
    "def funcMin(a,b):#自定义函数求a，b之间的最少值\n",
    "    if a<b:\n",
    "        return a\n",
    "    else:\n",
    "        return b\n",
    "#该代码存在\"module_max.py\"文件中"
   ]
  },
  {
   "cell_type": "code",
   "execution_count": null,
   "id": "5582383f",
   "metadata": {},
   "outputs": [],
   "source": []
  },
  {
   "cell_type": "markdown",
   "id": "ecc5ea1b",
   "metadata": {},
   "source": [
    "### 2. 模块的调用"
   ]
  },
  {
   "cell_type": "markdown",
   "id": "b0020031",
   "metadata": {},
   "source": [
    "#### (1) 使用import调用模块\n",
    "\n",
    "模块的特性决定了在程序中只要导入了一个模块，就可以引用它的任何公共的函数、类或属性。 **用import语句导入模块，就是在当前的名称空间中建立了一个到该模块的引用.这种引用必须使用全称**，也就是说，当使用在被导入模块中定义的函数时，必须包含模块的名字。所以不能只使用函数名，而**应该使用 模块名.函数名的形式来保证模块调用的正确**。示例代码如下："
   ]
  },
  {
   "cell_type": "code",
   "execution_count": 13,
   "id": "8b78de22",
   "metadata": {},
   "outputs": [],
   "source": [
    "import module_max"
   ]
  },
  {
   "cell_type": "code",
   "execution_count": 14,
   "id": "cf65ce1c",
   "metadata": {},
   "outputs": [
    {
     "data": {
      "text/plain": [
       "37"
      ]
     },
     "execution_count": 14,
     "metadata": {},
     "output_type": "execute_result"
    }
   ],
   "source": [
    "module_max.funcMax(9,37)#使用模块名.函数名"
   ]
  },
  {
   "cell_type": "code",
   "execution_count": 15,
   "id": "a76fde1e",
   "metadata": {},
   "outputs": [
    {
     "data": {
      "text/plain": [
       "9"
      ]
     },
     "execution_count": 15,
     "metadata": {},
     "output_type": "execute_result"
    }
   ],
   "source": [
    "module_max.funcMin(9,37) "
   ]
  },
  {
   "cell_type": "code",
   "execution_count": 16,
   "id": "cdf6b76a",
   "metadata": {},
   "outputs": [
    {
     "ename": "NameError",
     "evalue": "name 'funcMax' is not defined",
     "output_type": "error",
     "traceback": [
      "\u001b[1;31m---------------------------------------------------------------------------\u001b[0m",
      "\u001b[1;31mNameError\u001b[0m                                 Traceback (most recent call last)",
      "\u001b[1;32m<ipython-input-16-ec436f7f79be>\u001b[0m in \u001b[0;36m<module>\u001b[1;34m\u001b[0m\n\u001b[1;32m----> 1\u001b[1;33m \u001b[0mfuncMax\u001b[0m\u001b[1;33m(\u001b[0m\u001b[1;36m9\u001b[0m\u001b[1;33m,\u001b[0m\u001b[1;36m37\u001b[0m\u001b[1;33m)\u001b[0m \u001b[1;31m#不能直接使用函数名\u001b[0m\u001b[1;33m\u001b[0m\u001b[1;33m\u001b[0m\u001b[0m\n\u001b[0m",
      "\u001b[1;31mNameError\u001b[0m: name 'funcMax' is not defined"
     ]
    }
   ],
   "source": [
    "funcMax(9,37) #不能直接使用函数名"
   ]
  },
  {
   "cell_type": "markdown",
   "id": "57332634",
   "metadata": {},
   "source": [
    "#### (2) 使用from语句调用模块\n",
    "\n",
    "from 模块名 import 函数名\n",
    "\n",
    "from 模块名 import 函数名1，函数名2\n",
    "\n",
    "或者from 模块名 import *\n",
    "\n",
    "这种方法与使用import调用函数的**区别是：函数被直接导入到本地名字空间去了，所以即使不加上模块名的限定也可以直接使用**。 上述的“\\*”表示，该模块的所有函数都被导入到当前的名称空间。 但是需要注意的是：**如果模块包含的属性和方法与你的某个模块同名，你必须使用“模块名.属性名” 来避免名字冲突**。"
   ]
  },
  {
   "cell_type": "code",
   "execution_count": 18,
   "id": "f54d9893",
   "metadata": {},
   "outputs": [
    {
     "data": {
      "text/plain": [
       "37"
      ]
     },
     "execution_count": 18,
     "metadata": {},
     "output_type": "execute_result"
    }
   ],
   "source": [
    "from module_max import funcMax\n",
    "funcMax(9,37) #该种方式下可以直接使用函数名调用"
   ]
  },
  {
   "cell_type": "code",
   "execution_count": 19,
   "id": "efcb9869",
   "metadata": {},
   "outputs": [],
   "source": [
    "from module_max import *"
   ]
  },
  {
   "cell_type": "markdown",
   "id": "b290c326",
   "metadata": {},
   "source": [
    "#### (3) 内建函数import()"
   ]
  },
  {
   "cell_type": "markdown",
   "id": "3d17908b",
   "metadata": {},
   "source": [
    "除了前面两种导入模块的方法以外，我们还可以使用内建函数 import() 来导入模块。两者的区别是，import 后面跟的是模块名，而import() 的参数是一个字符串。例如，import Pandas 等价于import('Pandas')。另外，**import不能导入以数字开头和包含空格的模块，而函数import()可以**"
   ]
  },
  {
   "cell_type": "markdown",
   "id": "bcb3a06e",
   "metadata": {},
   "source": [
    "### 3. 作用域"
   ]
  },
  {
   "cell_type": "markdown",
   "id": "c10e8317",
   "metadata": {},
   "source": [
    "作用域是指变量的生效范围，例如局部变量、全局变量描述的就是不同的生效范围。也就是说，在Python中变量的作用域是由它在源代码中的位置决定的。\n",
    "\n",
    "在下面这段代码中，if子句并没有引入一个局部作用域，变量i仍然处在全局作用域中，因此，变量i对于接下来的print语句是可见的，打印结果为0。"
   ]
  },
  {
   "cell_type": "code",
   "execution_count": 33,
   "id": "9dcfa44d",
   "metadata": {},
   "outputs": [
    {
     "name": "stdout",
     "output_type": "stream",
     "text": [
      "0\n"
     ]
    }
   ],
   "source": [
    "if True:\n",
    "    i=0\n",
    "print(i)"
   ]
  },
  {
   "cell_type": "markdown",
   "id": "6a92d293",
   "metadata": {},
   "source": [
    "i = 8是一个名字绑定操作，它在函数f的局部作用域中引入了新的变量i，屏蔽了全局变量i.因此f内部的print语句看到的是局部变量i，f外部的print语句看到的是全局变量i。\n",
    "调用f时打印的是函数内部局部变量i的值8，在f外打印的是全局变量i的值0"
   ]
  },
  {
   "cell_type": "code",
   "execution_count": 34,
   "id": "cfb4fd16",
   "metadata": {},
   "outputs": [
    {
     "name": "stdout",
     "output_type": "stream",
     "text": [
      "8\n",
      "0\n"
     ]
    }
   ],
   "source": [
    "i=0\n",
    "def f():\n",
    "    i=8\n",
    "    print(i)\n",
    "f()\n",
    "print(i)"
   ]
  },
  {
   "cell_type": "markdown",
   "id": "acee3542",
   "metadata": {},
   "source": [
    "在下面这个例子当中，函数f中的变量i是局部变量，但是在print语句使用它的时候，它还未被绑定到任何对象之上，所以抛出异常。"
   ]
  },
  {
   "cell_type": "code",
   "execution_count": 35,
   "id": "a9c38121",
   "metadata": {},
   "outputs": [
    {
     "ename": "UnboundLocalError",
     "evalue": "local variable 'i' referenced before assignment",
     "output_type": "error",
     "traceback": [
      "\u001b[1;31m---------------------------------------------------------------------------\u001b[0m",
      "\u001b[1;31mUnboundLocalError\u001b[0m                         Traceback (most recent call last)",
      "Input \u001b[1;32mIn [35]\u001b[0m, in \u001b[0;36m<cell line: 5>\u001b[1;34m()\u001b[0m\n\u001b[0;32m      3\u001b[0m     \u001b[38;5;28mprint\u001b[39m(i)\n\u001b[0;32m      4\u001b[0m     i\u001b[38;5;241m=\u001b[39m\u001b[38;5;241m0\u001b[39m\n\u001b[1;32m----> 5\u001b[0m \u001b[43mf\u001b[49m\u001b[43m(\u001b[49m\u001b[43m)\u001b[49m\n",
      "Input \u001b[1;32mIn [35]\u001b[0m, in \u001b[0;36mf\u001b[1;34m()\u001b[0m\n\u001b[0;32m      2\u001b[0m \u001b[38;5;28;01mdef\u001b[39;00m \u001b[38;5;21mf\u001b[39m():\n\u001b[1;32m----> 3\u001b[0m     \u001b[38;5;28mprint\u001b[39m(\u001b[43mi\u001b[49m)\n\u001b[0;32m      4\u001b[0m     i\u001b[38;5;241m=\u001b[39m\u001b[38;5;241m0\u001b[39m\n",
      "\u001b[1;31mUnboundLocalError\u001b[0m: local variable 'i' referenced before assignment"
     ]
    }
   ],
   "source": [
    "i=0\n",
    "def f():\n",
    "    print(i)\n",
    "    i=0\n",
    "f()"
   ]
  },
  {
   "cell_type": "code",
   "execution_count": 36,
   "id": "464f05a7",
   "metadata": {},
   "outputs": [
    {
     "ename": "NameError",
     "evalue": "name 'i' is not defined",
     "output_type": "error",
     "traceback": [
      "\u001b[1;31m---------------------------------------------------------------------------\u001b[0m",
      "\u001b[1;31mNameError\u001b[0m                                 Traceback (most recent call last)",
      "Input \u001b[1;32mIn [36]\u001b[0m, in \u001b[0;36m<cell line: 3>\u001b[1;34m()\u001b[0m\n\u001b[0;32m      1\u001b[0m \u001b[38;5;66;03m#注意上面一步已经定义过i=0,这里需要删除\u001b[39;00m\n\u001b[0;32m      2\u001b[0m \u001b[38;5;28;01mdel\u001b[39;00m i  \u001b[38;5;66;03m#如果上面一步i=0代码未执行，则不需要删除i\u001b[39;00m\n\u001b[1;32m----> 3\u001b[0m \u001b[38;5;28mprint\u001b[39m(\u001b[43mi\u001b[49m)\n\u001b[0;32m      4\u001b[0m i\u001b[38;5;241m=\u001b[39m\u001b[38;5;241m0\u001b[39m\n",
      "\u001b[1;31mNameError\u001b[0m: name 'i' is not defined"
     ]
    }
   ],
   "source": [
    "#注意上面一步已经定义过i=0,这里需要删除\n",
    "del i  #如果上面一步i=0代码未执行，则不需要删除i\n",
    "print(i)\n",
    "i=0"
   ]
  },
  {
   "cell_type": "markdown",
   "id": "e51879e8",
   "metadata": {},
   "source": [
    "不论是以交互的方式运行，还是以脚本文件的方式运行，结果都显示：NameError: name ‘i’is not defined。这里的输出结果又与上一个例子不同，这是因为它在顶级作用域（模块作用域）的缘故。对于模块代码而言，代码在执行之前，没有经过什么预处理，但是对于函数体而言，代码在运行之前已经经过了一个预处理，因此不论名字绑定发生在作用域的那个位置，它都能感知出来。Python虽然是一个静态作用域语言，但是名字查找确实动态发生的，因此直到运行的时候，才会发现名字方面的问题。"
   ]
  },
  {
   "cell_type": "markdown",
   "id": "7146b179",
   "metadata": {},
   "source": [
    "### 4. 第三方模块的安装\n",
    "\n",
    "在Ananconda中，安装第三方模块主要有两种方式：pip install和conda install，目前官方推荐使用pip install的方法。"
   ]
  },
  {
   "cell_type": "markdown",
   "id": "acd0a69b",
   "metadata": {},
   "source": [
    "#### (1) 使用pip install\n",
    "\n",
    "使用Jupyter Notebook安装第三方模块，只需要在命令提示符或者Anaconda Prompt (Anaconda3)中输入pip install 加上第三方包的名称即可。\n",
    "\n",
    "当我们试图加载一个模块时，Python会在指定的路径下搜索对应的.py文件，如果找不到，就会报错，例如下面的代码："
   ]
  },
  {
   "cell_type": "code",
   "execution_count": 20,
   "id": "5781fffc",
   "metadata": {},
   "outputs": [
    {
     "ename": "ModuleNotFoundError",
     "evalue": "No module named 'mymodule'",
     "output_type": "error",
     "traceback": [
      "\u001b[1;31m---------------------------------------------------------------------------\u001b[0m",
      "\u001b[1;31mModuleNotFoundError\u001b[0m                       Traceback (most recent call last)",
      "\u001b[1;32m<ipython-input-20-845c7c874dbf>\u001b[0m in \u001b[0;36m<module>\u001b[1;34m\u001b[0m\n\u001b[1;32m----> 1\u001b[1;33m \u001b[1;32mimport\u001b[0m \u001b[0mmymodule\u001b[0m\u001b[1;33m\u001b[0m\u001b[1;33m\u001b[0m\u001b[0m\n\u001b[0m",
      "\u001b[1;31mModuleNotFoundError\u001b[0m: No module named 'mymodule'"
     ]
    }
   ],
   "source": [
    "import mymodule "
   ]
  },
  {
   "cell_type": "code",
   "execution_count": 22,
   "id": "3b15018e",
   "metadata": {},
   "outputs": [],
   "source": [
    "import jieba #已经安装过的模块不会报错"
   ]
  },
  {
   "cell_type": "code",
   "execution_count": 23,
   "id": "1f2bbd9b",
   "metadata": {},
   "outputs": [
    {
     "name": "stderr",
     "output_type": "stream",
     "text": [
      "Building prefix dict from the default dictionary ...\n",
      "Dumping model to file cache C:\\Users\\wangpc\\AppData\\Local\\Temp\\jieba.cache\n",
      "Loading model cost 0.715 seconds.\n",
      "Prefix dict has been built successfully.\n"
     ]
    },
    {
     "data": {
      "text/plain": [
       "['解释器', '会', '搜索', '当前目录']"
      ]
     },
     "execution_count": 23,
     "metadata": {},
     "output_type": "execute_result"
    }
   ],
   "source": [
    "jieba.lcut('解释器会搜索当前目录')"
   ]
  },
  {
   "cell_type": "markdown",
   "id": "248fe5d2",
   "metadata": {},
   "source": [
    "在默认情况下，Python解释器会搜索当前目录、所有已安装的内置模块和第三方模块，搜索路径存放在sys模块的path变量中："
   ]
  },
  {
   "cell_type": "code",
   "execution_count": 24,
   "id": "0127138f",
   "metadata": {},
   "outputs": [
    {
     "data": {
      "text/plain": [
       "['E:\\\\ipython\\\\0 Python Data Analysis\\\\Part I Python Basics',\n",
       " 'D:\\\\Anaconda3\\\\python38.zip',\n",
       " 'D:\\\\Anaconda3\\\\DLLs',\n",
       " 'D:\\\\Anaconda3\\\\lib',\n",
       " 'D:\\\\Anaconda3',\n",
       " '',\n",
       " 'C:\\\\Users\\\\wangpc\\\\AppData\\\\Roaming\\\\Python\\\\Python38\\\\site-packages',\n",
       " 'D:\\\\Anaconda3\\\\lib\\\\site-packages',\n",
       " 'D:\\\\Anaconda3\\\\lib\\\\site-packages\\\\pip-21.1-py3.8.egg',\n",
       " 'D:\\\\Anaconda3\\\\lib\\\\site-packages\\\\win32',\n",
       " 'D:\\\\Anaconda3\\\\lib\\\\site-packages\\\\win32\\\\lib',\n",
       " 'D:\\\\Anaconda3\\\\lib\\\\site-packages\\\\Pythonwin',\n",
       " 'D:\\\\Anaconda3\\\\lib\\\\site-packages\\\\IPython\\\\extensions',\n",
       " 'C:\\\\Users\\\\wangpc\\\\.ipython']"
      ]
     },
     "execution_count": 24,
     "metadata": {},
     "output_type": "execute_result"
    }
   ],
   "source": [
    "import sys\n",
    "sys.path #会在以下路径进行搜索"
   ]
  },
  {
   "cell_type": "markdown",
   "id": "147aebd4",
   "metadata": {},
   "source": [
    "如果我们要添加自己的搜索目录，有两种方法：\n",
    "\n",
    "方法1：直接修改sys.path，添加要搜索的目录，如下："
   ]
  },
  {
   "cell_type": "code",
   "execution_count": 53,
   "id": "e19b8520",
   "metadata": {},
   "outputs": [],
   "source": [
    "import sys\n",
    "sys.path.append('/Users/Michael/my_py_scripts')#这种方法是在运行时修改，运行结束后失效。"
   ]
  },
  {
   "cell_type": "markdown",
   "id": "533b0825",
   "metadata": {},
   "source": [
    "方法2：设置环境变量Path，该环境变量的内容会被自动添加到模块搜索路径中。设置方式与设置Path环境变量类似。注意只需要添加你自己的搜索路径，Python自己本身的搜索路径不受影响。设置方法：https://blog.csdn.net/sirok_e/article/details/100050324"
   ]
  },
  {
   "cell_type": "markdown",
   "id": "1f0b588f",
   "metadata": {},
   "source": [
    "#### (2) 使用conda install\n",
    "conda 是一个开源的软件包管理系统和环境管理系统，用于安装多个版本的软件包及其依赖关系，并在它们之间轻松切换。 Conda 是为 Python 程序创建的，适用于 Linux，OSX 和Windows，也可以打包和分发其他软件。\n",
    "\n",
    "conda是一个与语言无关的跨平台环境管理器。对于用户，最显著的区别可能是这样的：pip在任何环境中安装Python包; conda安装在conda环境中装任何包。\n",
    "\n",
    "#### (3) 使用清华镜像下载第三方模块\n",
    "用户可通过清华镜像源下载第三方模块，下载速度会有较大提升，将清华镜像库设置为默认地址：**将以下代码在命令行下执行**"
   ]
  },
  {
   "cell_type": "raw",
   "id": "df6e9d59",
   "metadata": {},
   "source": [
    "#命令行下执行\n",
    "pip install pip -U\n",
    "pip config set global.index-url https://pypi.tuna.tsinghua.edu.cn/simple"
   ]
  }
 ],
 "metadata": {
  "kernelspec": {
   "display_name": "Python 3 (ipykernel)",
   "language": "python",
   "name": "python3"
  },
  "language_info": {
   "codemirror_mode": {
    "name": "ipython",
    "version": 3
   },
   "file_extension": ".py",
   "mimetype": "text/x-python",
   "name": "python",
   "nbconvert_exporter": "python",
   "pygments_lexer": "ipython3",
   "version": "3.10.9"
  },
  "toc": {
   "base_numbering": 1,
   "nav_menu": {},
   "number_sections": false,
   "sideBar": true,
   "skip_h1_title": false,
   "title_cell": "Table of Contents",
   "title_sidebar": "Contents",
   "toc_cell": false,
   "toc_position": {},
   "toc_section_display": true,
   "toc_window_display": false
  }
 },
 "nbformat": 4,
 "nbformat_minor": 5
}
